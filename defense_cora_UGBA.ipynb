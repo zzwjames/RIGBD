{
 "cells": [
  {
   "cell_type": "code",
   "execution_count": 1,
   "metadata": {},
   "outputs": [
    {
     "name": "stderr",
     "output_type": "stream",
     "text": [
      "/tmp/ipykernel_2035036/1025613622.py:1: DeprecationWarning: the imp module is deprecated in favour of importlib; see the module's documentation for alternative uses\n",
      "  import imp\n",
      "/home/zbz5349/anaconda3/envs/spurious/lib/python3.8/site-packages/tqdm/auto.py:22: TqdmWarning: IProgress not found. Please update jupyter and ipywidgets. See https://ipywidgets.readthedocs.io/en/stable/user_install.html\n",
      "  from .autonotebook import tqdm as notebook_tqdm\n"
     ]
    },
    {
     "name": "stdout",
     "output_type": "stream",
     "text": [
      "Namespace(cuda=True, dataset='Cora', debug=True, defense_mode='none', device_id=3, dis_weight=1, dropout=0.5, epochs=1000, evaluate_mode='1by1', hidden=64, homo_boost_thrd=0.8, homo_loss_weight=100, inner=1, k=100, lr=0.01, model='GCN', no_cuda=False, outter_size=4096, prune_thr=0.8, range=1.0, rec_epochs=30, seed=10, selection_method='none', target_class=0, target_loss_weight=1, test_model='GAT', thrd=0.5, train_lr=0.01, trigger_size=3, trojan_epochs=400, use_vs_number=True, vs_number=40, vs_ratio=0, weight_decay=0.0005, weight_ood=1, weight_target=1, weight_targetclass=1)\n"
     ]
    }
   ],
   "source": [
    "import imp\n",
    "import time\n",
    "import argparse\n",
    "import numpy as np\n",
    "import torch\n",
    "torch.set_printoptions(threshold=10000)\n",
    "from torch_geometric.datasets import Planetoid,Reddit2,Flickr\n",
    "import torch.nn.functional as F\n",
    "import numpy as np\n",
    "import matplotlib.pyplot as plt\n",
    "# from torch_geometric.loader import DataLoader\n",
    "from help_funcs import prune_unrelated_edge,prune_unrelated_edge_isolated, clu_prune_unrelated_edge\n",
    "import scipy.sparse as sp\n",
    "from torch_geometric.utils import subgraph\n",
    "# Training settings\n",
    "parser = argparse.ArgumentParser()\n",
    "parser.add_argument('--debug', action='store_true',\n",
    "        default=True, help='debug mode')\n",
    "parser.add_argument('--no-cuda', action='store_true', default=False,\n",
    "                    help='Disables CUDA training.')\n",
    "parser.add_argument('--seed', type=int, default=10, help='Random seed.')\n",
    "parser.add_argument('--model', type=str, default='GCN', help='model',\n",
    "                    choices=['GCN','GAT','GraphSage','GIN'])\n",
    "parser.add_argument('--dataset', type=str, default='Cora', \n",
    "                    help='Dataset',\n",
    "                    choices=['Cora','Pubmed','Flickr','ogbn-arxiv','Citeseer','Reddit2'])\n",
    "parser.add_argument('--train_lr', type=float, default=0.01,\n",
    "                    help='Initial learning rate.')\n",
    "parser.add_argument('--weight_decay', type=float, default=5e-4,\n",
    "                    help='Weight decay (L2 loss on parameters).')\n",
    "parser.add_argument('--hidden', type=int, default=64,\n",
    "                    help='Number of hidden units.')\n",
    "parser.add_argument('--thrd', type=float, default=0.5)\n",
    "parser.add_argument('--target_class', type=int, default=0)\n",
    "parser.add_argument('--k', type=int, default=100)\n",
    "parser.add_argument('--dropout', type=float, default=0.5,\n",
    "                    help='Dropout rate (1 - keep probability).')\n",
    "parser.add_argument('--epochs', type=int,  default=1000, help='Number of epochs to train benign and backdoor model.')\n",
    "parser.add_argument('--rec_epochs', type=int,  default=30, help='Number of epochs to train benign and backdoor model.')\n",
    "parser.add_argument('--trojan_epochs', type=int,  default=400, help='Number of epochs to train trigger generator.')\n",
    "parser.add_argument('--inner', type=int,  default=1, help='Number of inner')\n",
    "# backdoor setting\n",
    "parser.add_argument('--lr', type=float, default=0.01,\n",
    "                    help='Initial learning rate.')\n",
    "parser.add_argument('--trigger_size', type=int, default=3,\n",
    "                    help='tirgger_size')\n",
    "parser.add_argument('--use_vs_number', action='store_true', default=True,\n",
    "                    help=\"if use detailed number to decide Vs\")\n",
    "parser.add_argument('--vs_ratio', type=float, default=0,\n",
    "                    help=\"ratio of poisoning nodes relative to the full graph\")\n",
    "parser.add_argument('--range', type=float, default=1.0,\n",
    "                    help=\"ratio of poisoning nodes relative to the full graph\")\n",
    "parser.add_argument('--vs_number', type=int, default=40,\n",
    "                    help=\"number of poisoning nodes relative to the full graph\")\n",
    "# defense setting\n",
    "parser.add_argument('--defense_mode', type=str, default=\"none\",\n",
    "                    choices=['prune', 'isolate', 'none','reconstruct'],\n",
    "                    help=\"Mode of defense\")\n",
    "parser.add_argument('--prune_thr', type=float, default=0.8,\n",
    "                    help=\"Threshold of prunning edges\")\n",
    "parser.add_argument('--target_loss_weight', type=float, default=1,\n",
    "                    help=\"Weight of optimize outter trigger generator\")\n",
    "parser.add_argument('--weight_target', type=float, default=1,\n",
    "                    help=\"Weight of optimize outter trigger generator\")\n",
    "parser.add_argument('--weight_ood', type=float, default=1,\n",
    "                    help=\"Weight of optimize outter trigger generator\")\n",
    "parser.add_argument('--weight_targetclass', type=float, default=1,\n",
    "                    help=\"Weight of optimize outter trigger generator\")\n",
    "parser.add_argument('--outter_size', type=int, default=4096,\n",
    "                    help=\"Weight of optimize outter trigger generator\")\n",
    "parser.add_argument('--homo_loss_weight', type=float, default=100,\n",
    "                    help=\"Weight of optimize similarity loss\")\n",
    "parser.add_argument('--homo_boost_thrd', type=float, default=0.8,\n",
    "                    help=\"Threshold of increase similarity\")\n",
    "# attack setting\n",
    "parser.add_argument('--dis_weight', type=float, default=1,\n",
    "                    help=\"Weight of cluster distance\")\n",
    "parser.add_argument('--selection_method', type=str, default='none',\n",
    "                    choices=['loss','conf','cluster','none','cluster_degree'],\n",
    "                    help='Method to select idx_attach for training trojan model (none means randomly select)')\n",
    "parser.add_argument('--test_model', type=str, default='GAT',\n",
    "                    choices=['GCN','GAT','GraphSage','GIN'],\n",
    "                    help='Model used to attack')\n",
    "parser.add_argument('--evaluate_mode', type=str, default='1by1',\n",
    "                    choices=['overall','1by1'],\n",
    "                    help='Model used to attack')\n",
    "# GPU setting\n",
    "parser.add_argument('--device_id', type=int, default=3,\n",
    "                    help=\"Threshold of prunning edges\")\n",
    "# args = parser.parse_args()\n",
    "args = parser.parse_known_args()[0]\n",
    "args.cuda =  not args.no_cuda and torch.cuda.is_available()\n",
    "device = torch.device(('cuda:{}' if torch.cuda.is_available() else 'cpu').format(args.device_id))\n",
    "\n",
    "np.random.seed(args.seed)\n",
    "torch.manual_seed(args.seed)\n",
    "torch.cuda.manual_seed(args.seed)\n",
    "print(args)"
   ]
  },
  {
   "cell_type": "code",
   "execution_count": 2,
   "metadata": {},
   "outputs": [],
   "source": [
    "from torch_geometric.utils import to_undirected\n",
    "import torch_geometric.transforms as T\n",
    "transform = T.Compose([T.NormalizeFeatures()])\n",
    "\n",
    "if(args.dataset == 'Cora' or args.dataset == 'Citeseer' or args.dataset == 'Pubmed'):\n",
    "    dataset = Planetoid(root='./data/', \\\n",
    "                        name=args.dataset,\\\n",
    "                        transform=transform)\n",
    "elif(args.dataset == 'Flickr'):\n",
    "    dataset = Flickr(root='./data/Flickr/', \\\n",
    "                    transform=transform)\n",
    "elif(args.dataset == 'Reddit2'):\n",
    "    dataset = Reddit2(root='./data/Reddit2/', \\\n",
    "                    transform=transform)\n",
    "elif(args.dataset == 'ogbn-arxiv'):\n",
    "    from ogb.nodeproppred import PygNodePropPredDataset\n",
    "    # Download and process data at './dataset/ogbg_molhiv/'\n",
    "    dataset = PygNodePropPredDataset(name = 'ogbn-arxiv', root='./data/')\n",
    "    split_idx = dataset.get_idx_split() \n",
    "\n",
    "data = dataset[0].to(device)\n",
    "\n",
    "if(args.dataset == 'ogbn-arxiv'):\n",
    "    nNode = data.x.shape[0]\n",
    "    setattr(data,'train_mask',torch.zeros(nNode, dtype=torch.bool).to(device))\n",
    "    # dataset[0].train_mask = torch.zeros(nEdge, dtype=torch.bool).to(device)\n",
    "    data.val_mask = torch.zeros(nNode, dtype=torch.bool).to(device)\n",
    "    data.test_mask = torch.zeros(nNode, dtype=torch.bool).to(device)\n",
    "    data.y = data.y.squeeze(1)\n",
    "    \n",
    "if(args.dataset == 'Reddit2'):\n",
    "    num_nodes_to_sample = 20000  # Adjust this based on your needs\n",
    "\n",
    "    # Randomly select a subset of nodes\n",
    "    sampled_nodes = torch.randint(data.num_nodes, (num_nodes_to_sample,), device=device)\n",
    "\n",
    "    # Perform subgraph sampling\n",
    "    edge,_ = subgraph(sampled_nodes, data.edge_index)\n",
    "    data.edge_index = edge"
   ]
  },
  {
   "cell_type": "code",
   "execution_count": 3,
   "metadata": {},
   "outputs": [],
   "source": [
    "from utils import get_split\n",
    "data, idx_train, idx_val, idx_clean_test, idx_atk = get_split(args,data,device)\n",
    "\n",
    "from torch_geometric.utils import to_undirected\n",
    "from utils import subgraph\n",
    "data.edge_index = to_undirected(data.edge_index)\n",
    "train_edge_index,_, edge_mask = subgraph(torch.bitwise_not(data.test_mask),data.edge_index,relabel_nodes=False)\n",
    "mask_edge_index = data.edge_index[:,torch.bitwise_not(edge_mask)]"
   ]
  },
  {
   "cell_type": "code",
   "execution_count": 4,
   "metadata": {},
   "outputs": [],
   "source": [
    "from sklearn_extra import cluster\n",
    "from models.backdoor import Backdoor\n",
    "from models.construct import model_construct\n",
    "import heuristic_selection as hs\n",
    "from torch.distributions.bernoulli import Bernoulli\n",
    "\n",
    "# select poisoned target node #\n",
    "\n",
    "# filter out the unlabeled nodes except from training nodes and testing nodes, nonzero() is to get index, flatten is to get 1-d tensor\n",
    "unlabeled_idx = (torch.bitwise_not(data.test_mask)&torch.bitwise_not(data.train_mask)).nonzero().flatten()\n",
    "# if(args.use_vs_number):\n",
    "#     size = args.vs_number\n",
    "# else:\n",
    "#     size = int((len(data.test_mask)-data.test_mask.sum())*args.vs_ratio)\n",
    "# # print(\"#Attach Nodes:{}\".format(size))\n",
    "# assert size>0, 'The number of selected trigger nodes must be larger than 0!'\n",
    "# # here is randomly select poison nodes from unlabeled nodes\n",
    "# if(args.selection_method == 'none'):\n",
    "#     idx_attach = hs.obtain_attach_nodes(args,unlabeled_idx,size)\n",
    "# elif(args.selection_method == 'cluster'):\n",
    "#     idx_attach = hs.cluster_distance_selection(args,data,idx_train,idx_val,idx_clean_test,unlabeled_idx,train_edge_index,size,device)\n",
    "#     idx_attach = torch.LongTensor(idx_attach).to(device)\n",
    "# elif(args.selection_method == 'cluster_degree'):\n",
    "#     if(args.dataset == 'Pubmed'):\n",
    "#         idx_attach = hs.cluster_degree_selection_seperate_fixed(args,data,idx_train,idx_val,idx_clean_test,unlabeled_idx,train_edge_index,size,device)\n",
    "#     else:\n",
    "#         idx_attach = hs.cluster_degree_selection(args,data,idx_train,idx_val,idx_clean_test,unlabeled_idx,train_edge_index,size,device)\n",
    "#     idx_attach = torch.LongTensor(idx_attach).to(device)\n",
    "# # print(\"idx_attach: {}\".format(idx_attach))\n",
    "# unlabeled_idx = torch.tensor(list(set(unlabeled_idx.cpu().numpy()) - set(idx_attach.cpu().numpy()))).to(device)\n",
    "# print('number of benign training nodes', len(idx_train))\n",
    "# print('number of poisoned target nodes', len(idx_attach))\n",
    "\n",
    "# Cora\n",
    "idx_attach = torch.tensor([2183, 2202,  980, 1291, 2630, 2530,  376,  590, 1220,  574,  276,   15,\n",
    "        2049, 2117, 2535, 1505, 2665, 1469,  316, 1201,  511,  700, 1259,  357,\n",
    "        1754,  228, 2290, 1019, 2546,  958, 1263, 2556, 2003,   51,  342,  711,\n",
    "        2305,  461, 1246, 1850])\n",
    "\n",
    "\n",
    "idx_attach = idx_attach.to(device)\n",
    "\n",
    "trigger_generator_address = './model_weights_cora.pth'"
   ]
  },
  {
   "cell_type": "code",
   "execution_count": 5,
   "metadata": {},
   "outputs": [
    {
     "ename": "NameError",
     "evalue": "name 'unlabeled_idx' is not defined",
     "output_type": "error",
     "traceback": [
      "\u001b[0;31m---------------------------------------------------------------------------\u001b[0m",
      "\u001b[0;31mNameError\u001b[0m                                 Traceback (most recent call last)",
      "Cell \u001b[0;32mIn[5], line 3\u001b[0m\n\u001b[1;32m      1\u001b[0m \u001b[38;5;66;03m## trigger generator ##\u001b[39;00m\n\u001b[1;32m      2\u001b[0m model \u001b[38;5;241m=\u001b[39m Backdoor(args,device)\n\u001b[0;32m----> 3\u001b[0m model\u001b[38;5;241m.\u001b[39mfit(data\u001b[38;5;241m.\u001b[39mx, train_edge_index, \u001b[38;5;28;01mNone\u001b[39;00m, data\u001b[38;5;241m.\u001b[39my, idx_train,idx_attach, \u001b[43munlabeled_idx\u001b[49m, trigger_generator_address, \u001b[38;5;28;01mTrue\u001b[39;00m)\n",
      "\u001b[0;31mNameError\u001b[0m: name 'unlabeled_idx' is not defined"
     ]
    }
   ],
   "source": [
    "## trigger generator ##\n",
    "model = Backdoor(args,device)\n",
    "model.fit(data.x, train_edge_index, None, data.y, idx_train,idx_attach, unlabeled_idx, trigger_generator_address, True)"
   ]
  },
  {
   "cell_type": "code",
   "execution_count": null,
   "metadata": {},
   "outputs": [],
   "source": [
    "\n",
    "total_overall_asr = 0\n",
    "total_overall_ca = 0\n",
    "\n",
    "rs = np.random.RandomState(args.seed)\n",
    "seeds = rs.randint(1000,size=1)\n",
    "overall_asr = 0\n",
    "overall_ca = 0"
   ]
  },
  {
   "cell_type": "code",
   "execution_count": null,
   "metadata": {},
   "outputs": [],
   "source": [
    "# load poisoned graph #\n",
    "# poison_x = torch.load('poison_x.pt')\n",
    "# poison_edge_index = torch.load('poison_edge_index.pt')\n",
    "# poison_edge_weights = torch.load('poison_edge_weights.pt')\n",
    "# poison_labels = torch.load('poison_labels.pt')\n",
    "poison_x = torch.load('poison_x_cora.pt').to(device)\n",
    "poison_edge_index = torch.load('poison_edge_index_cora.pt').to(device)\n",
    "poison_edge_weights = torch.load('poison_edge_weights_cora.pt').to(device)\n",
    "poison_labels = torch.load('poison_labels_cora.pt').to(device)"
   ]
  },
  {
   "cell_type": "code",
   "execution_count": null,
   "metadata": {},
   "outputs": [
    {
     "name": "stdout",
     "output_type": "stream",
     "text": [
      "Namespace(cuda=True, dataset='Cora', debug=True, defense_mode='none', device_id=3, dis_weight=1, dropout=0.5, epochs=1000, evaluate_mode='1by1', hidden=64, homo_boost_thrd=0.8, homo_loss_weight=100, inner=1, k=100, lr=0.01, model='GCN', no_cuda=False, outter_size=4096, prune_thr=0.8, range=1.0, rec_epochs=30, seed=10, selection_method='none', target_class=0, target_loss_weight=1, test_model='GAT', thrd=0.5, train_lr=0.01, trigger_size=3, trojan_epochs=400, use_vs_number=True, vs_number=40, vs_ratio=0, weight_decay=0.0005, weight_ood=1, weight_target=1, weight_targetclass=1)\n"
     ]
    }
   ],
   "source": [
    "print(args)\n",
    "\n",
    "mask = data.y[idx_attach] != args.target_class\n",
    "mask = mask.to(device)\n",
    "\n",
    "## only attack those has groud truth labels != target_class ##\n",
    "idx_attach = idx_attach[(data.y[idx_attach] != args.target_class).nonzero().flatten()]\n",
    "\n",
    "bkd_tn_nodes = torch.cat([idx_train,idx_attach]).to(device)\n",
    "# test_model = model_construct(args,args.test_model,data,device).to(device) \n",
    "known_nodes = torch.cat([idx_train,idx_attach]).to(device)\n",
    "predictions = []\n",
    "# edge weight for clean edge_index, may use later #\n",
    "edge_weight = torch.ones([data.edge_index.shape[1]],device=device,dtype=torch.float)\n"
   ]
  },
  {
   "cell_type": "code",
   "execution_count": null,
   "metadata": {},
   "outputs": [
    {
     "data": {
      "text/plain": [
       "tensor(31, device='cuda:3')"
      ]
     },
     "execution_count": 9,
     "metadata": {},
     "output_type": "execute_result"
    }
   ],
   "source": [
    "mask.sum()"
   ]
  },
  {
   "cell_type": "code",
   "execution_count": null,
   "metadata": {},
   "outputs": [],
   "source": []
  },
  {
   "cell_type": "code",
   "execution_count": null,
   "metadata": {},
   "outputs": [],
   "source": [
    "# '''\n",
    "# ABL\n",
    "# '''\n",
    "# from models.ABL import ABL\n",
    "\n",
    "# test_model = model_construct(args,args.test_model,data,device).to(device) \n",
    "# adv_model = ABL(args, model_name = args.test_model, model=test_model, isolation_ratio=0.01, threshold = 1, loss_increse_threshold = 2, isolate_epoch = 10, device = device)\n",
    "# adv_model.fit(poison_x,poison_edge_index, poison_edge_weights, poison_labels, bkd_tn_nodes, idx_val,train_iters=args.epochs,verbose=True)\n",
    "# adv_model.eval()\n",
    "# clean_acc = adv_model.test(poison_x,poison_edge_index, poison_edge_weights,poison_labels,idx_attach)\n",
    "# '''\n",
    "# attack evaluation for ABL\n",
    "# '''\n",
    "# induct_edge_index = torch.cat([poison_edge_index,mask_edge_index],dim=1)\n",
    "# induct_edge_weights = torch.cat([poison_edge_weights,torch.ones([mask_edge_index.shape[1]],dtype=torch.float,device=device)])\n",
    "# induct_x, induct_edge_index,induct_edge_weights = model.inject_trigger(idx_atk,poison_x,induct_edge_index,induct_edge_weights,device)\n",
    "# induct_x, induct_edge_index,induct_edge_weights = induct_x.clone().detach(), induct_edge_index.clone().detach(),induct_edge_weights.clone().detach()\n",
    "\n",
    "# adv_model.attack_evaluation(args, induct_x, induct_edge_index,induct_edge_weights, data.y, idx_atk, idx_clean_test)"
   ]
  },
  {
   "cell_type": "code",
   "execution_count": null,
   "metadata": {},
   "outputs": [
    {
     "name": "stderr",
     "output_type": "stream",
     "text": [
      "/data/home/zbz5349/defense_backdoor/RIGBD/models/GAT.py:61: UserWarning: To copy construct from a tensor, it is recommended to use sourceTensor.clone().detach() or sourceTensor.clone().detach().requires_grad_(True), rather than torch.tensor(sourceTensor).\n",
      "  self.labels = torch.tensor(labels, dtype=torch.long)\n"
     ]
    },
    {
     "name": "stdout",
     "output_type": "stream",
     "text": [
      "accuracy on poisoned target nodes: 1.0000\n"
     ]
    }
   ],
   "source": [
    "# train a backdoored model on poisoned graph # \n",
    "test_model = model_construct(args,args.test_model,data,device).to(device) \n",
    "test_model.fit(poison_x,poison_edge_index, poison_edge_weights, poison_labels, bkd_tn_nodes, idx_val,train_iters=args.epochs, verbose=False)\n",
    "test_model.eval()\n",
    "clean_acc = test_model.test(poison_x,poison_edge_index, poison_edge_weights,poison_labels,idx_attach)\n",
    "output_clean = test_model(poison_x,poison_edge_index,poison_edge_weights)\n",
    "ori_predict = torch.exp(output_clean[known_nodes])\n",
    "print(\"accuracy on poisoned target nodes: {:.4f}\".format(clean_acc))"
   ]
  },
  {
   "cell_type": "code",
   "execution_count": null,
   "metadata": {},
   "outputs": [
    {
     "name": "stdout",
     "output_type": "stream",
     "text": [
      "ASR: 1.0000\n",
      "Flip ASR: 1.0000/225 nodes\n",
      "CA: 0.8185\n"
     ]
    }
   ],
   "source": [
    "# test backdoored model for comparison #\n",
    "induct_edge_index = torch.cat([poison_edge_index,mask_edge_index],dim=1)\n",
    "induct_edge_weights = torch.cat([poison_edge_weights,torch.ones([mask_edge_index.shape[1]],dtype=torch.float,device=device)])\n",
    "induct_x, induct_edge_index,induct_edge_weights = model.inject_trigger(idx_atk,poison_x,induct_edge_index,induct_edge_weights,device)\n",
    "induct_x, induct_edge_index,induct_edge_weights = induct_x.clone().detach(), induct_edge_index.clone().detach(),induct_edge_weights.clone().detach()\n",
    "\n",
    "output = test_model(induct_x,induct_edge_index,induct_edge_weights)\n",
    "train_attach_rate = (output.argmax(dim=1)[idx_atk]==args.target_class).float().mean()\n",
    "print(\"ASR: {:.4f}\".format(train_attach_rate))\n",
    "asr = train_attach_rate\n",
    "flip_idx_atk = idx_atk[(data.y[idx_atk] != args.target_class).nonzero().flatten()]\n",
    "flip_asr = (output.argmax(dim=1)[flip_idx_atk]==args.target_class).float().mean()\n",
    "print(\"Flip ASR: {:.4f}/{} nodes\".format(flip_asr,flip_idx_atk.shape[0]))\n",
    "ca = test_model.test(induct_x,induct_edge_index,induct_edge_weights,data.y,idx_clean_test)\n",
    "print(\"CA: {:.4f}\".format(ca))"
   ]
  },
  {
   "cell_type": "code",
   "execution_count": null,
   "metadata": {},
   "outputs": [
    {
     "data": {
      "text/plain": [
       "tensor([0, 0, 0, 0, 0, 0, 0, 0, 0, 0, 0, 0, 0, 0, 0, 0, 0, 0, 0, 0, 0, 0, 0, 0,\n",
       "        0, 0, 0, 0, 0, 0, 0, 0, 0, 0, 0, 0, 0, 0, 0, 0, 0, 0, 0, 0, 0, 0, 0, 0,\n",
       "        0, 0, 0, 0, 0, 0, 0, 0, 0, 0, 0, 0, 0, 0, 0, 0, 0, 0, 0, 0, 0, 0, 0, 0,\n",
       "        0, 0, 0, 0, 0, 0, 0, 0, 0, 0, 0, 0, 0, 0, 0, 0, 0, 0, 0, 0, 0, 0, 0, 0,\n",
       "        0, 0, 0, 0, 0, 0, 0, 0, 0, 0, 0, 0, 0, 0, 0, 0, 0, 0, 0, 0, 0, 0, 0, 0,\n",
       "        0, 0, 0, 0, 0, 0, 0, 0, 0, 0, 0, 0, 0, 0, 0, 0, 0, 0, 0, 0, 0, 0, 0, 0,\n",
       "        0, 0, 0, 0, 0, 0, 0, 0, 0, 0, 0, 0, 0, 0, 0, 0, 0, 0, 0, 0, 0, 0, 0, 0,\n",
       "        0, 0, 0, 0, 0, 0, 0, 0, 0, 0, 0, 0, 0, 0, 0, 0, 0, 0, 0, 0, 0, 0, 0, 0,\n",
       "        0, 0, 0, 0, 0, 0, 0, 0, 0, 0, 0, 0, 0, 0, 0, 0, 0, 0, 0, 0, 0, 0, 0, 0,\n",
       "        0, 0, 0, 0, 0, 0, 0, 0, 0], device='cuda:3')"
      ]
     },
     "execution_count": 14,
     "metadata": {},
     "output_type": "execute_result"
    }
   ],
   "source": [
    "output[flip_idx_atk].argmax(dim=1)"
   ]
  },
  {
   "cell_type": "code",
   "execution_count": null,
   "metadata": {},
   "outputs": [],
   "source": [
    "# edge drop #\n",
    "def sample_noise_all(edge_index, edge_weight,device):\n",
    "    noisy_edge_index = edge_index.clone().detach()\n",
    "    if(edge_weight == None):\n",
    "        noisy_edge_weight = torch.ones([noisy_edge_index.shape[1],]).to(device)\n",
    "    else:\n",
    "        noisy_edge_weight = edge_weight.clone().detach()\n",
    "    # # rand_noise_data = copy.deepcopy(data)\n",
    "    # rand_noise_data.edge_weight = torch.ones([rand_noise_data.edge_index.shape[1],]).to(device)\n",
    "    m = Bernoulli(torch.tensor([0.5]).to(device))\n",
    "    mask = m.sample(noisy_edge_weight.shape).squeeze(-1).int()\n",
    "    # print('mask',mask)\n",
    "    rand_inputs = torch.randint_like(noisy_edge_weight, low=0, high=2).squeeze().int().to(device)\n",
    "    # print(rand_noise_data.edge_weight.shape,mask.shape)\n",
    "    noisy_edge_weight = noisy_edge_weight * mask #+ rand_inputs * (1-mask)\n",
    "        \n",
    "    if(noisy_edge_weight!=None):\n",
    "        noisy_edge_index = noisy_edge_index[:,noisy_edge_weight.nonzero().flatten().long()]\n",
    "        noisy_edge_weight = torch.ones([noisy_edge_index.shape[1],]).to(device)\n",
    "    return noisy_edge_index, noisy_edge_weight"
   ]
  },
  {
   "cell_type": "code",
   "execution_count": null,
   "metadata": {},
   "outputs": [],
   "source": [
    "# test robustness #\n",
    "for i in range(20):\n",
    "            test_model.eval()\n",
    "            noisy_poison_edge_index, noisy_poison_edge_weights = sample_noise_all(poison_edge_index, poison_edge_weights, device)\n",
    "            output = test_model(poison_x,noisy_poison_edge_index,noisy_poison_edge_weights)\n",
    "            train_attach_rate = (output.argmax(dim=1)[idx_attach]==args.target_class).float().mean()\n",
    "            train_clean_rate = (output.argmax(dim=1)[idx_train]==data.y[idx_train]).float().mean()\n",
    "            predictions.append(torch.exp(output[known_nodes]))"
   ]
  },
  {
   "cell_type": "code",
   "execution_count": null,
   "metadata": {},
   "outputs": [],
   "source": [
    "# torch.argmax(predictions[8][23868])"
   ]
  },
  {
   "cell_type": "code",
   "execution_count": null,
   "metadata": {},
   "outputs": [
    {
     "name": "stdout",
     "output_type": "stream",
     "text": [
      "index_of_less_robust tensor([557, 559, 550, 571, 546, 544, 552, 567, 554, 570, 545, 555, 553, 548,\n",
      "        549, 543, 560, 568, 556, 566, 562, 565, 547, 558, 564, 542, 541, 394,\n",
      "        561, 569, 551], device='cuda:3')\n",
      "count 30\n"
     ]
    },
    {
     "name": "stderr",
     "output_type": "stream",
     "text": [
      "/home/zbz5349/anaconda3/envs/spurious/lib/python3.8/site-packages/torch/nn/_reduction.py:42: UserWarning: size_average and reduce args will be deprecated, please use reduction='none' instead.\n",
      "  warnings.warn(warning.format(ret))\n"
     ]
    }
   ],
   "source": [
    "epsilon = 1e-8\n",
    "deviations = []\n",
    "for sub_pred in predictions:\n",
    "    sub_pred += epsilon\n",
    "    deviation = F.kl_div(sub_pred.log(), ori_predict, reduce=False)\n",
    "    deviations.append(deviation)\n",
    "\n",
    "summed_deviations = torch.zeros_like(deviations[0]).to(deviations[0].device)\n",
    "for deviation in deviations:\n",
    "    ##### summed deviations for each node #####\n",
    "    summed_deviations += deviation\n",
    "\n",
    "\n",
    "##### get the index for nodes with less robustness #####\n",
    "    \n",
    "##### args.vs_number is unknown #####\n",
    "index_of_less_robust = torch.sort(torch.mean(summed_deviations,dim=-1),descending=True)[1][:mask.sum()]\n",
    "print('index_of_less_robust',index_of_less_robust)\n",
    "\n",
    "##### count how many poisoned target nodes are selected in less robustness nodes #####\n",
    "count = 0\n",
    "dd = []\n",
    "for idx in index_of_less_robust:\n",
    "    if idx >= len(known_nodes)-args.vs_number:\n",
    "        count += 1\n",
    "        dd.append(idx)\n",
    "print('count',count)"
   ]
  },
  {
   "cell_type": "code",
   "execution_count": null,
   "metadata": {},
   "outputs": [
    {
     "data": {
      "text/plain": [
       "tensor([36.5595, 18.7489, 18.4041, 16.0164, 13.6559, 13.3521, 12.8909, 12.6768,\n",
       "        12.1881, 12.0288, 11.9318, 11.6678, 10.9442, 10.6857, 10.5932,  9.8727,\n",
       "         9.7816,  9.6271,  9.3153,  9.3039,  9.2107,  9.0299,  8.9204,  8.1476,\n",
       "         8.0515,  6.7070,  6.6881,  5.8170,  5.2134,  4.7197,  3.7394],\n",
       "       device='cuda:3', grad_fn=<SliceBackward0>)"
      ]
     },
     "execution_count": 19,
     "metadata": {},
     "output_type": "execute_result"
    }
   ],
   "source": [
    "torch.sort(torch.mean(summed_deviations,dim=-1),descending=True)[0][:mask.sum()]"
   ]
  },
  {
   "cell_type": "code",
   "execution_count": null,
   "metadata": {},
   "outputs": [
    {
     "name": "stdout",
     "output_type": "stream",
     "text": [
      "572\n"
     ]
    },
    {
     "data": {
      "text/plain": [
       "tensor(31, device='cuda:3')"
      ]
     },
     "execution_count": 20,
     "metadata": {},
     "output_type": "execute_result"
    }
   ],
   "source": [
    "print(len(ori_predict))\n",
    "mask.sum()"
   ]
  },
  {
   "cell_type": "code",
   "execution_count": null,
   "metadata": {},
   "outputs": [
    {
     "data": {
      "image/png": "[encoded data removed]",
      "text/plain": [
       "<Figure size 700x500 with 1 Axes>"
      ]
     },
     "metadata": {},
     "output_type": "display_data"
    }
   ],
   "source": [
    "\n",
    "\n",
    "# visualize robustness distribution #\n",
    "a=torch.mean(summed_deviations,dim=-1)\n",
    "a_excluding_last_40 = a[:-args.vs_number].detach().cpu()\n",
    "a_last=a[-mask.sum():].detach().cpu()\n",
    "\n",
    "\n",
    "a_last_40 = a[-args.vs_number:].detach().cpu()\n",
    "\n",
    "\n",
    "\n",
    "\n",
    "indices_to_remove = [i for i, node in enumerate(known_nodes[-args.vs_number:]) if data.y[node] == args.target_class]\n",
    "\n",
    "indices_to_remove = []\n",
    "\n",
    "a_last_list = list(a_last)\n",
    "\n",
    "indices_to_check = range(len(known_nodes[-args.vs_number:]))\n",
    "\n",
    "# indices_to_remove = []\n",
    "\n",
    "# ##### find those nodes that are already have target class or poisoned failed #####\n",
    "# for i in indices_to_check:\n",
    "#     condition1 = data.y[known_nodes[-args.vs_number:][i]] == args.target_class\n",
    "#     condition2 = output.argmax(dim=1)[idx_attach[i]] != args.target_class\n",
    "    \n",
    "#     if condition1 or condition2:\n",
    "#         indices_to_remove.append(i)\n",
    "\n",
    "# for index in sorted(indices_to_remove, reverse=True):\n",
    "#     del a_last_list[index]\n",
    "\n",
    "\n",
    "a_last_40 = a_last_list\n",
    "plt.figure(figsize=(7, 5))\n",
    "# plt.figure(figsize=(40, 24))\n",
    "##### benign nodes #####\n",
    "\n",
    "plt.hist(a_excluding_last_40, bins=15, alpha=0.5, label='Clean Nodes', density=True)\n",
    "plt.hist(a_last_40, bins=15, alpha=0.5, label='Poisoned Nodes',density=True)\n",
    "##### poisoned success nodes #####\n",
    "\n",
    "plt.legend(loc='upper right')\n",
    "plt.xlabel('Prediction Variance',fontsize=24)\n",
    "plt.ylabel('Frequency',fontsize=24)\n",
    "\n",
    "from matplotlib.ticker import FuncFormatter\n",
    "formatter = FuncFormatter(lambda x, pos: f'{x:.1f}')\n",
    "plt.xticks(fontsize=22)\n",
    "plt.yticks(fontsize=22)\n",
    "\n",
    "plt.legend(fontsize=26)\n",
    "\n",
    "plt.savefig('random_cora.pdf')\n",
    "plt.show()"
   ]
  },
  {
   "cell_type": "code",
   "execution_count": null,
   "metadata": {},
   "outputs": [
    {
     "data": {
      "image/png": "[encoded data removed]",
      "text/plain": [
       "<Figure size 700x500 with 1 Axes>"
      ]
     },
     "metadata": {},
     "output_type": "display_data"
    }
   ],
   "source": [
    "import numpy as np\n",
    "import matplotlib.pyplot as plt\n",
    "from matplotlib.ticker import FuncFormatter\n",
    "\n",
    "# Ensure a_excluding_last_40 is a numpy array\n",
    "if not isinstance(a_excluding_last_40, np.ndarray):\n",
    "    a_excluding_last_40 = a_excluding_last_40.detach().cpu().numpy()\n",
    "\n",
    "# Ensure a_last_40 is a numpy array\n",
    "if not isinstance(a_last_40, np.ndarray):\n",
    "    a_last_40 = np.array(a_last_40)\n",
    "\n",
    "# Calculate the histograms and convert them to percentages\n",
    "bins = 15\n",
    "hist_clean, bin_edges_clean = np.histogram(a_excluding_last_40, bins=bins, density=False)\n",
    "hist_poisoned, bin_edges_poisoned = np.histogram(a_last_40, bins=bins, density=False)\n",
    "\n",
    "# Calculate percentages\n",
    "hist_clean_percentage = hist_clean / np.sum(hist_clean) * 100\n",
    "hist_poisoned_percentage = hist_poisoned / np.sum(hist_poisoned) * 100\n",
    "\n",
    "# Plot the histograms\n",
    "plt.figure(figsize=(7, 5))\n",
    "\n",
    "# Benign nodes\n",
    "plt.hist(bin_edges_clean[:-1], bins=bin_edges_clean, weights=hist_clean_percentage, alpha=0.5, label='Clean Nodes', density=False)\n",
    "# Poisoned nodes\n",
    "plt.hist(bin_edges_poisoned[:-1], bins=bin_edges_poisoned, weights=hist_poisoned_percentage, alpha=0.5, label='Poisoned Nodes', density=False)\n",
    "\n",
    "# Add legend, labels, and formatters\n",
    "plt.legend(loc='upper right')\n",
    "plt.xlabel('Prediction Variance', fontsize=24)\n",
    "plt.ylabel('Percentage (%)', fontsize=24)\n",
    "\n",
    "formatter = FuncFormatter(lambda x, pos: f'{x:.0f}')\n",
    "plt.xticks(fontsize=22)\n",
    "plt.yticks(fontsize=22)\n",
    "plt.gca().yaxis.set_major_formatter(formatter)\n",
    "\n",
    "plt.legend(fontsize=26)\n",
    "plt.savefig('random_cora_UGBA.pdf')\n",
    "plt.show()"
   ]
  },
  {
   "cell_type": "code",
   "execution_count": null,
   "metadata": {},
   "outputs": [
    {
     "name": "stdout",
     "output_type": "stream",
     "text": [
      "5.8170295\n",
      "3.0543473\n"
     ]
    }
   ],
   "source": [
    "print(max(a_excluding_last_40))\n",
    "print(min(a_last_40))"
   ]
  },
  {
   "cell_type": "code",
   "execution_count": null,
   "metadata": {},
   "outputs": [],
   "source": [
    "output_clean = torch.exp(output_clean)"
   ]
  },
  {
   "cell_type": "code",
   "execution_count": null,
   "metadata": {},
   "outputs": [
    {
     "name": "stdout",
     "output_type": "stream",
     "text": [
      "tensor([0, 0, 0, 0, 0, 0, 0, 0, 0, 0, 0, 0, 0, 0, 0, 0, 0, 0, 0, 0, 0, 0, 0, 0,\n",
      "        0, 0, 0, 0, 0, 0, 0], device='cuda:3')\n"
     ]
    },
    {
     "name": "stderr",
     "output_type": "stream",
     "text": [
      "/home/zbz5349/anaconda3/envs/spurious/lib/python3.8/site-packages/torch/nn/_reduction.py:42: UserWarning: size_average and reduce args will be deprecated, please use reduction='none' instead.\n",
      "  warnings.warn(warning.format(ret))\n"
     ]
    },
    {
     "name": "stdout",
     "output_type": "stream",
     "text": [
      "[0.01889054849743843, 0.0024266899563372135, 0.01915598474442959, 0.006987133529037237, 0.018393656238913536, 0.002732309512794018, 0.0006725809653289616, 0.0006042580935172737, 3.098430534009822e-05, 0.0009598264005035162, 0.0012683880049735308, 0.0005509108304977417, 0.00013763990136794746, 6.695091724395752e-05, 0.00033803816768340766, 0.00048681243788450956, 0.0005703712231479585, 0.000385995430406183, 0.0028894671704620123, 0.0017373163718730211, 0.0006074935081414878, 9.998506720876321e-05, 0.00016208698798436671, 5.064665401732782e-06, 2.388177335888031e-06, 0.0001705284958006814, 0.0008906592265702784, 0.0005012279725633562, 0.0007258930709213018, 0.0003896065754815936, 0.00033341749804094434, 0.0005988894263282418, 0.005905910860747099, 0.0009830791968852282, 0.0006477593560703099, 0.0017146591562777758, 0.0015505925985053182, 0.0002917953534051776, 0.00030670902924612164, 0.00010174752969760448, 3.8248090277193114e-05, 0.00012352477642707527, 0.22977694869041443, 4.578727748594247e-05, 2.0077985027455725e-05, 3.93502414226532e-05, 0.00012244816753081977, 0.0007134602055884898, 0.0007225243607535958, 0.0008221726748161018, 0.002183835953474045, 0.037820469588041306, 0.04467957466840744, 0.04568915814161301, 0.03639116883277893, 0.0023039316292852163, 9.126748773269355e-05, 7.853870192775503e-05, 0.002265735063701868, 0.00490222405642271, 0.0013066951651126146, 0.007363179232925177, 0.012479460798203945, 0.019829176366329193, 0.0013374604750424623, 0.0010617884108796716, 0.0001619894610485062, 0.006242493633180857, 0.006624883972108364, 0.0016423763008788228, 0.005643569398671389, 0.000413762143580243, 5.050748950452544e-05, 0.0003880092117469758, 3.552969064912759e-05, 0.00021941641170997173, 8.205151971196756e-05, 0.00022009601525496691, 0.0007425041403621435, 8.6172491137404e-05, 0.0038410923443734646, 0.0007933106971904635, 1.71376668731682e-05, 0.00016683527792338282, 0.00018744597036857158, 0.00010806535283336416, 2.792753730318509e-05, 3.073637344641611e-05, 6.815944652771577e-05, 3.073677362408489e-05, 4.244343290338293e-05, 0.00012315012281760573, 0.00023099101963452995, 0.00011328182881698012, 0.007732194382697344, 0.004780052229762077, 0.0004820507310796529, 0.0005183935863897204, 9.354550275020301e-05, 0.001074907835572958, 0.021259479224681854, 0.00888555496931076, 0.00046636592014692724, 0.0014020013622939587, 0.002190358005464077, 0.0002531239006202668, 0.0008990062633529305, 0.00038606993621215224, 0.021874118596315384, 0.053161077201366425, 0.03392937779426575, 0.0008081442792899907, 0.00817940291017294, 0.0074683004058897495, 0.00021135329734534025, 0.003249075962230563, 0.0014969196636229753, 0.00042589064105413854, 0.00034117806353606284, 0.0009099495364353061, 0.0001295416586799547, 0.0006939204758964479, 0.00030075546237640083, 0.00012011932994937524, 0.00011702947085723281, 0.00011454895866336301, 0.001985307550057769, 7.599991658935323e-05, 0.0001698181586107239, 0.0003318254603073001, 0.0010697342222556472, 0.0008065399597398937, 0.002754490589722991, 0.007807412184774876, 0.002472474705427885, 0.008210445754230022, 0.007966337725520134, 0.019629845395684242, 0.003601210657507181, 0.006883528549224138, 0.007299141958355904, 0.014904097653925419, 0.024970300495624542, 0.006646099034696817, 0.0007688520709052682, 0.001676377491094172, 0.0001909307175083086, 0.0008680938044562936, 3.458666105871089e-05, 0.007483688648790121, 0.009141365997493267, 0.0047625163570046425, 0.0005559964338317513, 0.0010109645081683993, 0.016792118549346924, 0.0036321808584034443, 0.0004840054316446185, 0.0003060070739593357, 0.000695844239089638, 0.00010927557741524652, 0.0007886879029683769, 0.00019181413517799228, 0.003503004554659128, 0.0004178501258138567, 0.004664462059736252, 0.0002724435180425644, 2.195100751123391e-05, 0.00016533531015738845, 3.8851587305543944e-05, 0.04515095800161362, 0.05455804243683815, 7.378436748695094e-06, 0.00012227662955410779, 0.0009202716173604131, 0.010768775828182697, 0.0022949024569243193, 0.0027242181822657585, 0.01084631122648716, 0.0016401783796027303, 0.0319531224668026, 0.028430314734578133, 0.0002938290999736637, 0.00043115022708661854, 0.0076069943606853485, 0.003640947164967656, 0.019959647208452225, 0.00012862560106441379, 0.00015921129670459777, 1.3321904361873749e-06, 0.0010018147295340896, 0.0029401956126093864, 0.004098580684512854, 0.005343327764421701, 3.858230047626421e-05, 7.614334026584402e-05, 7.266232569236308e-05, 7.499648199882358e-05, 2.00378053705208e-05, 0.0013438607566058636, 0.005444275680929422, 0.003705183509737253, 0.02661619894206524, 0.0009750729659572244, 0.00026842262013815343, 0.0011772674042731524, 0.009590022265911102, 0.012915747240185738, 0.0038318971637636423, 9.7287556855008e-05, 0.0001476423058193177, 0.00016286490426864475, 0.0003844606108032167, 0.0001360359019599855, 0.0001302542514167726, 0.00011509444448165596, 0.0002196463174186647, 7.074007589835674e-05, 0.00022882649500388652, 0.00020737521117553115, 0.0002614942495711148, 0.0017793274018913507, 0.001870246953330934, 0.001947032636962831, 0.004330815281718969, 0.004330817144364119, 0.0068864538334310055, 0.0003380349953658879, 0.0025855377316474915, 0.0003332815249450505, 0.001865512691438198, 8.422137034358457e-05, 0.00030011366470716894, 0.00010814199049491435, 7.28219747543335e-05, 0.00023692261311225593, 0.0002827750868164003, 0.0001956219202838838, 0.00029197707772254944, 0.0009460353758186102, 0.0016605232376605272, 0.0009246367844752967, 0.0005976861575618386, 0.0001892596628749743, 0.0006715469644404948, 0.002211875282227993, 0.001000309712253511, 0.0016072915168479085, 6.0473172197816893e-05, 0.0002547726035118103, 0.00021107708744239062, 0.0009723008261062205, 0.00011786925460910425, 0.0004902556538581848, 0.0001707321935100481, 0.00012789267930202186, 0.00017797788314055651, 1.2993280506634619e-05, 0.00010607977310428396, 0.00019761813746299595, 1.9312172298668884e-05, 2.1519406800507568e-05, 2.1679328710888512e-05, 1.7214300896739587e-05, 3.271337118349038e-05, 2.2498093130707275e-06, 0.00010722131264628842, 5.60257058168645e-06, 4.030844138469547e-05, 7.341483296841034e-07, 0.0001106674681068398, 4.828615055885166e-05, 1.117267856898252e-05, 1.7756331089913147e-06, 3.176741302013397e-05, 1.4529430700349621e-05, 7.406435906887054e-05, 0.015461064875125885, 0.0011735111474990845, 0.019375165924429893, 0.008419548161327839, 0.001738665159791708, 0.00032681680750101805, 0.010257408022880554, 0.010111902840435505, 4.194277789792977e-05, 0.00010895755985984579, 0.0003871207300107926, 3.572420609998517e-05, 5.03747069160454e-05, 3.859454227495007e-05, 7.245769666042179e-05, 5.853549009771086e-05, 0.0023580826818943024, 0.002715804846957326, 0.00032503504189662635, 0.0010833804262802005, 0.0033241980709135532, 0.002943415893241763, 0.00198154803365469, 0.004888179246336222, 0.0007212205091491342, 0.000130148880998604, 0.0003652365121524781, 6.867838965263218e-05, 0.0018834909424185753, 0.0005646784557029605, 0.0007538796053268015, 0.0028759657870978117, 0.0020051312167197466, 0.00034809752833098173, 0.004965189378708601, 0.0040765427984297276, 0.0006791694322600961, 0.0006918226135894656, 0.006194045767188072, 0.00044352776603773236, 0.0005934834480285645, 0.0007932250155135989, 0.0018105529015883803, 0.0002893262717407197, 0.0006573653081431985, 0.005661711562424898, 0.0014409625437110662, 0.0013291154755279422, 0.002019968582317233, 0.012781130149960518, 4.27950726589188e-05, 0.0010561752133071423, 0.0008602781454101205, 7.708158591412939e-06, 1.3935246897744946e-05, 1.5463414456462488e-05, 7.195997022790834e-05, 3.32043127855286e-05, 0.00013147002027835697, 0.0004677235265262425, 1.4933624697732739e-05, 0.0006129241664893925, 0.0013244812143966556, 0.004742948338389397, 0.013417728245258331, 0.006748010404407978, 3.4896125725936145e-05, 1.1480547073006164e-05, 6.075682449591113e-06, 0.0002773563901428133, 0.00021049700444564223, 0.0006547714001499116, 0.005712027195841074, 0.0013028138782829046, 0.0006484889890998602, 0.0006806339952163398, 0.00010064404341392219, 0.0002994548121932894, 0.00016055097512435168, 0.0002067616005660966, 0.0006937576690688729, 0.0003464882029220462, 0.0011513992212712765, 0.0020222135353833437, 0.01661567948758602, 0.0163462832570076, 0.020540034398436546, 4.589477975969203e-05, 1.3305672837304883e-05, 8.097290992736816e-05, 0.00012366820010356605, 5.0655700761126354e-05, 0.10115509480237961, 0.0013426331570371985, 0.000100709505204577, 0.00021730895969085395, 6.490945816040039e-05, 0.0003104763454757631, 7.205882866401225e-05, 0.0004447869141586125, 0.0003743278211914003, 0.0010127265704795718, 5.780586434411816e-05, 0.000833940866868943, 0.0022671250626444817, 0.00018651118443813175, 0.00871206820011139, 0.008549777790904045, 0.007373634725809097, 0.018362170085310936, 0.042187921702861786, 0.01161509845405817, 0.00020141847198829055, 0.0036903386935591698, 0.035420097410678864, 0.009929800406098366, 0.0075703454203903675, 0.0009670673171058297, 0.00026731620891951025, 0.0007953239837661386, 0.000732363376300782, 0.0003280767414253205, 2.176953239541035e-05, 3.0654882721137255e-05, 0.00013931840658187866, 0.00021077906421851367, 0.00013998789654579014, 0.0003407129261177033, 0.00032475776970386505, 0.00021771715546492487, 3.543709317455068e-05, 2.9537030059145764e-05, 1.4485792235063855e-05, 0.0018991769757121801, 0.005701149348169565, 0.002046362729743123, 0.016634836792945862, 0.012940311804413795, 4.452307621249929e-05, 0.00011074916255893186, 4.078448182553984e-05, 0.00018472650845069438, 0.002292326185852289, 0.0009488160721957684, 0.00023178118863143027, 5.603901172435144e-06, 0.0006085070199333131, 6.181853223097278e-06, 0.004515297710895538, 0.0019360670121386647, 2.2459777028416283e-05, 0.003930918872356415, 0.0015241658547893167, 0.00016232261259574443, 0.0016803372418507934, 0.0005862715770490468, 0.0006510873790830374, 0.04943091794848442, 0.008139010518789291, 0.002143919002264738, 0.00033684555091895163, 0.0020728507079184055, 0.0002292799181304872, 6.541663606185466e-05, 0.00036868933239020407, 0.0003469065122772008, 0.015309181064367294, 0.00011317805183352903, 0.001860487274825573, 0.001904841628856957, 0.008862596936523914, 0.0016467975219711661, 0.00018227726104669273, 3.306022335891612e-05, 8.753940346650779e-05, 0.03869576379656792, 0.0028317284304648638, 0.008523511700332165, 0.0012978794984519482, 0.03823264315724373, 0.031023073941469193, 0.0013714635279029608, 8.353219163836911e-05, 0.00026044651167467237, 0.0010540687944740057, 7.062884833430871e-05, 0.0005703914794139564, 4.6783261495875195e-05, 7.375702261924744e-05, 0.00045840657548978925, 0.0010423980420455337, 0.002261555753648281, 0.0002088791661662981, 0.00029920414090156555, 0.0004900321364402771, 0.0015335924690589309, 0.0003877942217513919, 0.00031191855669021606, 0.0008364476962015033, 0.0008197783608920872, 0.001291722059249878, 0.00028462070622481406, 0.00018598725728224963, 0.0013278925325721502, 0.003662219736725092, 0.03888765722513199, 0.023040933534502983, 0.0016104563837870955, 0.002130658132955432, 0.003072312567383051, 0.00027468428015708923, 6.461236625909805e-05, 0.0004975090851075947, 9.300453530158848e-05, 0.0031201669480651617, 0.0037789740599691868, 0.0006925559719093144, 0.001355405431240797, 0.003565962892025709, 0.007563924416899681, 0.0016728539485484362, 0.0019947499968111515, 0.0022142194211483, 0.0010616114595904946, 0.001004463410936296, 0.001156276441179216, 0.0024756104685366154, 0.0003608739352785051, 0.0033213593997061253, 0.029738878831267357, 0.000658319506328553, 0.001908271573483944, 0.0011973179643973708, 0.0006555707659572363, 9.678983042249456e-05, 0.0010422391351312399, 0.0009356556693091989, 0.01264673937112093, 0.0051895915530622005, 0.019740385934710503, 0.00034787028562277555, 0.002582560759037733, 0.05422789976000786, 3.927041689166799e-05, 0.000154314300743863, 7.671171260881238e-06, 7.139891386032104e-05, 0.0034199226647615433, 0.01311736460775137, 0.0002953516668640077, 0.0011261701583862305, 0.0015908735804259777, 0.0010268923360854387, 0.016724126413464546, 0.08893796056509018, 0.000683315156493336, 0.010017341002821922, 0.007365960627794266, 0.0027352976612746716, 0.0003763918939512223, 0.0002114630478899926, 0.0006539980531670153, 0.0003821328573394567, 9.157529348158278e-06, 0.0011135302484035492, 0.0003989912511315197, 0.005359406117349863, 0.0005804162356071174, 0.0022663113195449114, 0.0016950571443885565, 0.009189153090119362, 0.0011232474353164434, 0.0026279157027602196, 0.020226215943694115, 0.009339614771306515, 0.006996320094913244, 0.00023010587028693408, 0.000278239807812497, 0.000298331375233829, 0.0008279021712951362, 0.0021550054661929607, 0.0001855615118984133, 1.4557903341483325e-05, 8.297232852783054e-05, 5.6691471399972215e-05, 6.268812285270542e-05, 0.00042586057679727674, 0.0003515804128255695, 4.3670781451510265e-05, 0.0008705878863111138, 0.007342769764363766, 0.00048651121323928237, 0.006292694713920355, 6.960758764762431e-05, 0.002290548523887992, 0.08894709497690201, 0.01950583979487419, 0.0015663574449717999, 0.0006197233451530337, 0.0003403100708965212, 0.0031755988020449877, 2.8892422051285394e-05, 5.997930566081777e-05, 0.002009881427511573, 0.0020870366133749485, 0.022404810413718224, 0.0005533674266189337, 0.0005249321693554521, 0.0022698889952152967, 0.00035568434395827353, 0.0011393087916076183, 0.0062276264652609825, 0.004438047297298908, 0.00034307691385038197, 9.510466952633578e-06, 5.075741501059383e-05, 3.9079226553440094e-05, 4.599017483997159e-05, 0.00027330219745635986, 9.637113544158638e-05, 2.2490110495709814e-05, 0.00021725894475821406, 5.277352829580195e-05, 4.480460120248608e-05, 0.00013321852020453662, 2.03507297555916e-05, 0.0004454414884094149, 0.00016051638522185385, 7.168629963416606e-05, 5.8806370361708105e-05, 1.907987279992085e-05, 5.546744796447456e-05, 0.003802176099270582, 0.00029877788620069623, 7.282516889972612e-05, 0.00015219567285384983, 0.00018711495795287192, 0.04136395454406738, 0.011821162886917591, 0.009691132232546806, 0.0030688985716551542, 0.0007867366657592356, 0.0026041099335998297, 0.0015689124120399356, 0.009579082950949669, 0.003686937503516674, 0.002975828479975462, 0.0012380991829559207, 0.004318793769925833, 0.00045230347313918173, 0.00015008929767645895, 2.0687602955149487e-05, 5.43658243259415e-05, 4.285733666620217e-05, 2.8671431209659204e-05, 3.5425382520770654e-05, 7.868159445933998e-05, 1.611746847629547e-05, 1.3750446669291705e-05, 1.075012369256001e-05, 0.0008443093975074589, 0.0013801668537780643, 0.0006054480327293277, 0.0019865217618644238, 0.0012282474199309945, 0.0030683386139571667, 0.0007745145121589303, 0.00015554684796370566, 0.003272661240771413, 0.001434940379112959, 0.003434035461395979, 0.004215089604258537, 0.003375096246600151, 0.00927780382335186, 0.0018096556887030602, 0.0011726772645488381, 0.0020304732024669647, 0.0074723525904119015, 0.0006977522280067205, 0.0011675783898681402, 0.0017323745414614677, 0.027670448645949364, 0.009826434776186943, 0.026208750903606415, 0.004461499396711588, 0.009769576601684093, 0.014241465367376804, 0.01228556502610445, 0.001938394270837307, 0.0006234262837097049, 0.0026447034906595945, 0.00027752883033826947, 0.00013618278899230063, 0.0004820121394004673, 0.0015219046035781503, 0.0027736362535506487, 0.0015608909307047725, 0.00043244342668913305, 0.003991387784481049, 0.00016681743727531284, 0.0017729306127876043, 0.0008401176892220974, 0.0010666451416909695, 3.829545312328264e-05, 0.000601037812884897, 0.0004057618207298219, 0.00013702789146918803, 0.012032343074679375, 0.001742023043334484, 0.0003135640872642398, 0.00031468860106542706, 9.471071825828403e-05, 0.00010075393947772682, 0.0008540023700334132, 0.0008313736179843545, 0.0013646814040839672, 0.0004343813634477556, 0.0013663441641256213, 0.002669836860150099, 4.124242332181893e-05, 0.013261615298688412, 0.001836256356909871, 0.002253546379506588, 0.00907125324010849, 0.002580501837655902, 0.002343525877222419, 0.00012554654676932842, 0.00022246103617362678, 0.00030748601420782506, 6.0194572142791e-05, 0.0005763316876254976, 2.0230589143466204e-05, 0.002822405658662319, 0.012247852049767971, 0.0005769453127868474, 3.3495682600914733e-06, 1.4708777598571032e-05, 9.133082130574621e-06, 7.136592330425628e-07, 6.692218335047073e-07, 7.817787945896271e-07, 7.0346786742447875e-06, 1.8629645637702197e-05, 8.980078746390063e-06, 1.1580331147342804e-06, 5.87877457292052e-06, 9.866165783023462e-06, 2.884971308958484e-06, 0.0019303944427520037, 0.0028278478421270847, 0.0028876429423689842, 0.00014067388838157058, 0.0005390032310970128, 0.0012790614273399115, 0.00017820033826865256, 0.00030399541719816625, 0.00035284514888189733, 0.00015981709293555468, 6.370379560394213e-05, 2.277576095366385e-05, 1.9620572857093066e-05, 0.004588204436004162, 0.013846133835613728, 0.10375412553548813, 0.0010746537009254098, 0.005532846320420504, 0.0005439732922241092, 0.0006102494080550969, 7.130671292543411e-05, 1.3823488416164764e-06, 0.0003744320129044354, 1.3988465980219189e-05, 8.598210115451366e-05, 0.00028173247119411826, 0.0004329024231992662, 0.0002626843343023211, 0.0008194955298677087, 0.0016868732636794448, 0.003467585425823927, 0.00040105837979353964, 0.0013463498326018453, 0.0050713676027953625, 0.0009493274847045541, 0.001434877049177885, 0.0006089051021263003, 0.0014966628514230251, 0.003776149358600378, 0.0008629537187516689, 0.0012268570717424154, 0.00027355924248695374, 0.0004944181418977678, 4.291135337552987e-05, 1.2240771866345312e-05, 0.02076035365462303, 0.002426346531137824, 0.04336347058415413, 0.005662411917001009, 0.000718197668902576, 0.008231980726122856, 0.0017824855167418718, 8.810657891444862e-05, 0.01968737505376339, 0.023773469030857086, 0.007644006051123142, 0.004387953318655491, 0.0008435108466073871, 0.0011288367677479982, 0.006773658562451601, 0.002878244500607252, 0.005761608947068453, 0.00857019703835249, 0.00811244547367096, 0.0009773395722731948, 0.00014969972835388035, 0.00045900873374193907, 0.0014313885476440191, 0.00036123741301707923, 0.000305567606119439, 0.0006181890494190156, 0.0002391450252616778, 0.00019152463937643915, 0.0002137992123607546, 0.00012084895570296794, 0.005127399228513241, 0.005772559903562069, 0.007767597679048777, 0.002415355993434787, 0.016963783651590347, 0.15117545425891876, 0.00046815405949018896, 0.0003181546926498413, 0.0013076749164611101, 5.0415950681781396e-05, 2.4100767404888757e-05, 2.3174234229372814e-05, 5.344727469491772e-06, 6.657094218098791e-06, 1.0199047210335266e-05, 4.808551693713525e-06, 2.6500918465899304e-05, 2.9046621421002783e-05, 4.697617987403646e-05, 1.64705743372906e-05, 2.117295480275061e-06, 1.7963084246730432e-05, 2.811849299177993e-05, 1.8019761682808166e-06, 0.0003839883138425648, 0.0014018145157024264, 0.0007964771939441562, 0.0059641082771122456, 0.005788324400782585, 0.0005796828772872686, 0.00022454294958151877, 1.2804887774109375e-05, 4.998913937015459e-05, 0.0001056295441230759, 0.0007499097264371812, 0.00012899430294055492, 0.0003618457121774554, 0.000175214241608046, 0.0005948966718278825, 0.00013345507613848895, 0.00022660070681013167, 0.005349582061171532, 0.00013257616956252605, 2.090925772790797e-05, 6.985917571000755e-05, 0.00012216558388900012, 0.0002444290730636567, 0.0009728308650664985, 0.0001578293740749359, 0.00012855538807343692, 0.06649754196405411, 0.0011859461665153503, 0.0011112306965515018, 0.0005109161138534546, 0.0005614779074676335, 0.0015532135730609298, 0.0003063923795707524, 0.0002365862746955827, 0.0007400406757369637, 0.0008729499531909823, 0.00020913727348670363, 0.00010653585923137143, 0.0002769647107925266, 2.1188920072745532e-05, 4.935530887451023e-05, 0.00023760700423736125, 2.4658229449414648e-05, 0.0003178423212375492, 0.09457897394895554, 0.0007503946544602513, 0.003360981121659279, 0.006464505102485418, 0.0003674679610412568, 0.00201275572180748, 0.00023690093075856566, 3.861503137159161e-05, 0.0005569089553318918, 0.0017482461407780647, 0.004257516469806433, 3.63299623131752e-05, 0.0006140160840004683, 0.00018396654922980815, 0.0005181413143873215, 0.00039143807953223586, 0.0012453491799533367, 0.0008425649139098823, 0.006578009109944105, 0.0023991423659026623, 0.0002734086592681706, 0.0007561009260825813, 0.0003224207030143589, 0.028875697404146194, 0.0011700275354087353, 0.00019696781237144023, 0.005131910089403391, 8.374346361961216e-05, 0.0009164954535663128, 0.00195490475744009, 0.0014087404124438763, 0.0005634118570014834, 0.0006481095333583653, 0.0004155747883487493, 0.0010942274238914251, 0.00047777596046216786, 0.00047777596046216786, 0.0009566411608830094, 0.10912978649139404, 0.0053667169995605946, 0.005714832805097103, 0.0005669141537509859, 2.4183520508813672e-05, 8.971031638793647e-05, 6.578064494533464e-05, 0.0002715542505029589, 0.0001912367151817307, 0.0005533650401048362, 0.0005249310634098947, 0.002269888762384653, 1.3334677532839123e-05, 0.0008905823342502117, 0.000484325282741338, 0.0005804462707601488, 0.0627456083893776, 0.0037439074367284775, 0.004036684520542622, 0.00034323337604291737, 0.0036813917104154825, 0.00015398647519759834, 0.0003604771918617189, 7.14478810550645e-05, 9.095562563743442e-05, 4.356673889560625e-05, 0.0001962674577953294, 0.00019877405429724604, 0.0007157485815696418, 0.0011122727300971746, 0.0019739100243896246, 0.00022988235286902636, 0.00171003770083189, 0.006867536809295416, 0.0077296169474720955, 0.002343758475035429, 0.0007120812661014497, 0.0013737170957028866, 0.0009329526801593602, 0.00021139213640708476, 0.0019027059897780418, 9.99422263703309e-05, 0.0025345466565340757, 0.00015463787713088095, 0.00123197166249156, 0.0006416781106963754, 0.0019227724988013506, 0.002453661523759365, 9.436267282580957e-05, 0.013356279581785202, 0.32764801383018494, 0.0019692827481776476, 0.017955679446458817, 0.004874437116086483, 0.012419694103300571, 3.1733885407447815e-05, 1.3246068192529492e-05, 4.350527160568163e-05, 1.3372994544624817e-05, 4.3162279325770214e-05, 3.695062332553789e-05, 2.1640744307660498e-05, 9.432701517653186e-06, 0.0001303750614169985, 0.00014874977932777256, 2.7924244932364672e-05, 2.243902054033242e-05, 8.887478770702728e-07, 0.011776401661336422, 0.01469099149107933, 0.002435690723359585, 0.04209737479686737, 0.0004423586942721158, 0.00029683526372537017, 0.0005314185400493443, 0.004960132762789726, 5.120571222505532e-05, 0.0009266920969821513, 0.012832624837756157, 0.03686100244522095, 0.00038486826815642416, 6.4267915149685e-05, 0.0007529234862886369, 0.0004970493027940392, 0.0014911332400515676, 0.009028050117194653, 0.0009518303559161723, 0.02084328606724739, 4.068230191478506e-05, 5.606721970252693e-05, 0.0001183522108476609, 0.00015759043162688613, 0.0002661693433765322, 5.872867041034624e-05, 1.0820638635777868e-05, 0.00011545952293090522, 7.372962136287242e-05, 1.3155065062164795e-05, 6.455316179199144e-05, 0.0002533468941692263, 6.545335509144934e-06, 1.2038010027026758e-05, 0.00014401653606910259, 0.00031453691190108657, 0.00015693902969360352, 0.0001534936745883897, 0.00041859332122839987, 0.000331170333083719, 7.85823431215249e-05, 0.00018687653937377036, 0.00020469140144996345, 9.822792344493791e-05, 4.487644400796853e-05, 0.0005935488152317703, 0.000502878159750253, 0.0003843776066787541, 0.0015218396438285708, 0.003115267725661397, 3.2739982998464257e-05, 9.469102951698005e-05, 0.0012266912963241339, 0.000505117466673255, 3.5475409276841674e-06, 2.6966314180754125e-05, 0.0010624693240970373, 0.00014946982264518738, 7.930877472972497e-05, 0.0014778089243918657, 0.00047861467464827, 0.0007378602749668062, 0.0006634794408455491, 0.00013374205445870757, 0.0001617027446627617, 0.019612958654761314, 0.004873999860137701, 0.000212083978112787, 0.023466983810067177, 0.0025970363058149815, 0.0007429836550727487, 0.0001217914541484788, 7.479425403289497e-05, 5.012963811168447e-05, 0.00014723306230735034, 0.000101525874924846, 7.896764145698398e-05, 0.00010771411325549707, 0.00027452624635770917, 4.906739559373818e-05, 5.9962276282021776e-05, 0.0001869925472419709, 0.00024076338740997016, 0.0010730326175689697, 0.0003431035147514194, 2.435914211673662e-05, 0.00012699514627456665, 0.0009634271846152842, 0.0002647883375175297, 0.00021996563009452075, 0.00025608710711821914, 0.0004381122416816652, 0.00016925910313148052, 0.00017249691882170737, 7.356703281402588e-05, 0.00088305032113567, 0.0015718193026259542, 0.0015464351745322347, 0.00016407562361564487, 0.04949492961168289, 0.017795098945498466, 0.015115388669073582, 0.0077605219557881355, 0.0034111770801246166, 0.010841167531907558, 0.004219507798552513, 0.0023439177311956882, 0.0003824989835266024, 0.0005640238523483276, 0.00026506505673751235, 0.0009419684065505862, 0.0006320434040389955, 0.0008959270198829472, 0.0004657453973777592, 0.0003533054841682315, 0.00542329391464591, 0.006560745183378458, 0.010353836230933666, 0.0021637403406202793, 0.004357142373919487, 0.00371731398627162, 0.0009708873112685978, 0.01593845896422863, 0.0026440375950187445, 0.010912013240158558, 0.0038644715677946806, 0.0007298791315406561, 0.00021791565814055502, 0.0006539226160384715, 0.0003617640177253634, 0.0010178558295592666, 0.0010410331888124347, 0.001237139687873423, 0.0001523332466604188, 0.0008389500435441732, 0.00197966187261045, 0.005759110674262047, 0.008745193481445312, 0.003692617639899254, 6.42138984403573e-05, 0.004946338478475809, 0.0012540355091914535, 0.0007235205848701298, 0.0037391006480902433, 0.0004941975930705667, 0.00018342478142585605, 0.0007093761814758182, 0.0010348804062232375, 0.0002472943742759526, 0.0014064632123336196, 0.0023523494601249695, 0.00024303422833327204, 3.8646161556243896e-05, 0.00019064387015532702, 0.00016420600877609104, 0.00017384174861945212, 0.0006688477005809546, 0.0012573152780532837, 0.0024359524250030518, 0.0001745144254527986, 0.0012900106376037002, 0.002339959144592285, 0.00013084178499411792, 0.00010838679736480117, 0.0017795009771361947, 0.000741702679079026, 0.0004457714385353029, 0.0001647701283218339, 0.004359113518148661, 0.00016337634588126093, 0.0003320218238513917, 0.0014138860860839486, 0.0002895976940635592, 0.0019905120134353638, 0.03195398300886154, 0.005276212003082037, 0.0012238739291206002, 0.0022241075057536364, 2.16237149288645e-05, 9.873030649032444e-05, 7.5383914008853026e-06, 5.811346636619419e-05, 0.0007389411912299693, 0.000420272903284058, 3.610285421018489e-05, 5.453612538985908e-05, 1.2857041838287842e-05, 0.00026341743068769574, 0.00012075049744453281, 0.0001844508369686082, 5.852963568031555e-06, 0.0008471805485896766, 0.00018908243509940803, 0.0001236232346855104, 0.00018908243509940803, 0.07048625499010086, 0.05266627296805382, 1.1755952073144726e-05, 1.5041658116388135e-05, 2.7476678496896056e-06, 1.5772879123687744e-05, 1.3022550774621777e-05, 3.7407237414299743e-06, 3.953863597416785e-06, 1.9444951249170117e-05, 3.408640850466327e-06, 1.1221639397263061e-05, 1.051755953085376e-05, 7.4729327934619505e-06, 6.345765996229602e-06, 4.040077328681946e-06, 1.5255596736096777e-05, 3.169423962390283e-06, 1.709668867988512e-05, 4.087708020961145e-06, 4.494829227041919e-06, 2.2973867089604028e-05, 5.558133580052527e-06, 6.218042017280823e-06, 3.561643779903534e-06, 4.4200038246344775e-05, 0.07516522705554962, 2.758311529760249e-05, 0.0002816415508277714, 7.593099871883169e-05, 4.879279003944248e-05, 4.7047225962160155e-05, 0.00010620164539432153, 6.529902020702139e-05, 0.00011219191219424829, 0.00011734345753211528, 0.0009237453923560679, 0.00013324938481673598, 8.276850712718442e-05, 2.5130277208518237e-05, 0.0003760760591831058, 0.000479317968711257, 0.00011504575377330184, 0.00031078208121471107, 0.0003000865108333528, 0.0011102422140538692, 2.2448333766078576e-05, 0.002202265663072467, 0.004698709584772587, 0.00018144506611861289, 0.0002630110830068588, 5.314366353559308e-05, 8.265914220828563e-05, 2.77951912721619e-05, 0.0004719215212389827, 0.0003384389274287969, 0.024747325107455254, 0.00026502806576900184, 0.0007283656159415841, 0.00019228459859732538, 3.639715214376338e-05, 0.0008328786352649331, 0.0003189561830367893, 0.0006642868975177407, 0.00020309645333327353, 0.00027979433070868254, 0.0003419513232074678, 0.0005008477601222694, 0.00013897143071517348, 3.953012128476985e-05, 0.008468523621559143, 0.0006149496766738594, 0.0037722461856901646, 0.002757353475317359, 0.011062012054026127, 0.042361121624708176, 0.0016450627008453012, 1.404168415319873e-06, 5.4429153806268e-07, 1.3979684808873571e-05, 1.652206265134737e-05, 7.501138270527008e-07, 6.025657057762146e-07, 5.980421633466904e-07, 7.628862590536301e-07, 4.422984147822717e-06, 1.0869865718632354e-07, 1.1472032383608166e-05, 8.646000424050726e-06, 9.110996188610443e-07, 6.882474394842575e-07, 2.2977059188633575e-07, 2.027090204137494e-06, 7.184488595157745e-07, 5.614145720755914e-06, 1.1402049437947426e-07, 8.188587344193365e-06, 2.5331974029541016e-07, 3.4818160088434524e-07, 1.9517861460371932e-07, 1.046274405780423e-06, 5.699694156646729e-07, 1.4061906767892651e-05, 6.964962722122436e-07, 1.0480838682269678e-05, 4.6339951609297714e-07, 1.2709892871498596e-06, 2.276019358760095e-06, 4.252685357641894e-06, 9.247368325304706e-06, 1.9896377125405706e-05, 7.03002206137171e-06, 3.4409708860039245e-06, 3.4550739655969664e-06, 3.0989094739197753e-06, 1.4678975048809662e-06, 1.0843255893178139e-07, 2.5691198857202835e-07, 3.886010290443664e-06, 9.081725806936447e-07, 4.4623658368436736e-07, 8.737003554415423e-06, 1.7397106830685516e-06, 4.751075721287634e-06, 1.0953684750347747e-06, 2.100797701132251e-06, 9.130952776104095e-07, 9.693737865745788e-07, 0.0006596885505132377, 0.0005881862598471344, 0.6435327529907227, 0.0012722350656986237, 0.0019932109862565994, 0.004409528337419033, 0.0007145064300857484, 0.0011639595031738281, 0.00042324408423155546, 0.0024628948885947466, 0.005702251102775335, 0.003935575485229492, 0.0024991105310618877, 0.04085957258939743, 0.010388091206550598, 0.011315769515931606, 0.03290551155805588, 0.03458629921078682, 0.012619844637811184, 0.0013115747133269906, 0.016114994883537292, 0.009974096901714802, 0.0007647605962119997, 0.000789453973993659, 0.0003896110865753144, 0.00020337851310614496, 0.0006652325973846018, 0.001418968429788947, 0.0005512514617294073, 0.003483818145468831, 0.0007491463329643011, 0.00016064755618572235, 0.0002408389700576663, 3.282672696514055e-05, 0.0008140153368003666, 0.001977914245799184, 0.0008397528436034918, 5.125680399942212e-05, 0.00011548400652827695, 0.003962965216487646, 0.003072152379900217, 0.04284421354532242, 0.0073800464160740376, 0.0032158824615180492, 0.007398956920951605, 0.07024408131837845, 0.0026714750565588474, 0.0019465903751552105, 0.0011282010236755013, 0.0006326724542304873, 0.0007416830048896372, 0.00030698947375640273, 0.005996571388095617, 0.0011223012115806341, 0.00518738804385066, 0.0006649366696365178, 0.020804939791560173, 0.008010494522750378, 0.00208970601670444, 0.0018330845050513744, 0.00124027905985713, 0.0019177986541762948, 0.0002813999308273196, 0.0006772381020709872, 2.503075847926084e-05, 0.0008195878472179174, 0.0009625001111999154, 0.0011521317064762115, 1.9268267351435497e-05, 0.0006468056817539036, 0.00468062749132514, 0.00449398485943675, 0.00010628067684592679, 0.020230084657669067, 0.013279476203024387, 7.869410183047876e-06, 3.935290442313999e-05, 0.0002263012866023928, 0.00015281779633369297, 0.0002814382314682007, 7.291670772247016e-05, 1.3088142623018939e-05, 1.0517027476453222e-05, 3.3893491035996703e-06, 8.507179882144555e-05, 0.003372729057446122, 0.033350955694913864, 0.006794669199734926, 0.001080999500118196, 0.007518518716096878, 0.0007022619829513133, 0.0008684758795425296, 0.005748284049332142, 0.00015868140326347202, 0.00384529703296721, 0.008936348371207714, 0.005801097955554724, 0.00013206261792220175, 0.00034213598701171577, 0.001868715276941657, 0.0003392983926460147, 0.0003323619021102786, 0.00014395054313354194, 0.0013064066879451275, 0.0025619929656386375, 0.003179629100486636, 4.318143692216836e-05, 0.0003995799634139985, 8.907595474738628e-05, 4.358802834758535e-05, 0.00011050169268855825, 0.0005221718456596136, 0.00032103806734085083, 0.00016105175018310547, 0.0012832742650061846, 0.0005047534359619021, 0.0007172820623964071, 0.00011648105282802135, 5.892052286071703e-05, 0.14317850768566132, 0.0001818851742427796, 0.00035727611975744367, 9.929921361617744e-05, 0.002681753132492304, 0.024673309177160263, 0.018872085958719254, 0.0034527061507105827, 0.0001294048852287233, 0.005865709390491247, 0.006616970524191856, 0.0037666012067347765, 0.0004605640424415469, 0.0007713416125625372, 0.0018362068803980947, 0.003480986924842, 0.0006829511257819831, 0.0011745910160243511, 0.003431518329307437, 0.003010841552168131, 0.006906123366206884, 0.0011326088570058346, 0.0017567216418683529, 0.00033128316863439977, 0.0010098634520545602, 2.6172827347181737e-05, 8.2786864368245e-05, 2.3714401322649792e-05, 3.208273255950189e-06, 1.2262458767509088e-05, 1.9173538021277636e-05, 4.6358577492355835e-06, 1.9985251128673553e-05, 0.00018873026419896632, 3.8534672057721764e-05, 6.605552334804088e-05, 1.513745155534707e-05, 0.0005239708698354661, 0.00042154561378993094, 0.0001356987631879747, 6.664518150500953e-05, 0.00028708099853247404, 2.5795507099246606e-05, 7.417798042297363e-05, 2.6951145628117956e-05, 2.5795507099246606e-05, 0.0008743373909965158, 0.0017497679218649864, 2.233045597677119e-05, 0.15310458838939667, 0.01322801224887371, 0.005595304537564516, 0.0011050999164581299, 0.0007384584750980139, 0.0018087716307491064, 0.0014874073676764965, 0.004300874657928944, 0.0013041922356933355, 0.001500771613791585, 0.002708842745050788, 0.0013335038674995303, 0.00024218432372435927, 0.00852641835808754, 0.016117876395583153, 0.01689319498836994, 0.0018533506663516164, 0.008178646676242352, 0.002914455020800233, 0.0006674454198218882, 0.014533644542098045, 5.1834223995683715e-05, 0.00010894399019889534, 0.000711271830368787, 0.0007202529814094305, 0.0016022661002352834, 0.0001355393760604784, 0.006259465590119362, 0.013750464655458927, 0.0034135188907384872, 0.002394743263721466, 0.0005832751048728824, 0.0006976606673561037, 0.00017382405349053442, 6.167963147163391e-05, 0.00015716254711151123, 4.573978003463708e-05, 0.00024856682284735143, 0.0002483182761352509, 0.004181779455393553, 0.0007969545549713075, 0.060650233179330826, 0.017028694972395897, 2.3935788703965954e-05, 0.00017271112301386893, 0.00046148712863214314, 0.0013867835514247417, 0.0001664808369241655, 0.00016002837219275534, 0.001225695013999939, 0.0007418053573928773, 0.00016050627164077014, 0.005710542667657137, 0.004142722114920616, 0.0003365778538864106, 0.0013673037756234407, 7.140383968362585e-05, 0.00021329337323550135, 0.0003712672332767397, 0.0001452512078685686, 5.001518366043456e-05, 0.0012696844059973955, 0.0006619549822062254, 0.0002173294487874955, 0.0022693804930895567, 0.00019243174756411463, 0.0022965893149375916, 0.020228467881679535, 0.00014142906002234668, 0.0011680895695462823, 0.00020016358757857233, 0.0002355610195081681, 0.001683821203187108, 3.63718718290329e-05, 0.0009916864801198244, 0.00022959496709518135, 0.0004506904224399477, 7.74288346292451e-05, 0.002326519461348653, 0.010965428315103054, 0.00015691282169427723, 0.00039526555337943137, 0.0010693728690966964, 0.0007166884024627507, 0.0015808854950591922, 0.06338854134082794, 0.0001445827801944688, 8.552202780265361e-05, 2.483704338374082e-05, 0.00038645524182356894, 0.00027507226332090795, 5.870312816114165e-05, 0.00020183942979201674, 0.0005014777416363358, 0.0020087442826479673, 0.007051246706396341, 0.0019315822282806039, 0.042895082384347916, 0.021448779851198196, 0.0048867519944906235, 0.008332396857440472, 0.006054754834622145, 0.00018746299610938877, 0.0001264523307327181, 0.00011828062997665256, 5.616993075818755e-05, 9.901928569888696e-05, 0.0002094991650665179, 9.329191925644409e-06, 2.8203641704749316e-05, 0.00026569783221930265, 0.0002617702994029969, 0.00017109300824813545, 4.793757034349255e-05, 0.00032265856862068176, 0.000302065716823563, 0.003101709298789501, 0.0028737273532897234, 0.0014256606809794903, 0.00048403843538835645, 0.0010984030086547136, 9.822480205912143e-05, 1.673360566201154e-05, 0.00012763377162627876, 0.0006941525498405099, 0.006001512054353952, 0.0008701501647010446, 0.001357752364128828, 4.791362152900547e-05, 4.1490424337098375e-05, 1.4218635442375671e-05, 0.0001527600543340668, 0.00028076855232939124, 0.00020467523427214473, 1.9804108887910843e-05, 0.0033150764647871256, 0.0002553141093812883, 0.03738586604595184, 0.0008853452163748443, 0.0005881047109141946, 0.00012562796473503113, 4.101424929103814e-05, 0.0003823120496235788, 0.004716508090496063, 0.00849065836519003, 0.0026168888434767723, 0.0005222239997237921, 0.0012713005999103189, 0.001714911893941462, 0.004867246374487877, 0.0015074742259457707, 0.0012714082840830088, 0.12078273296356201, 0.0030787771102041006, 0.0005868085427209735, 0.0006841602153144777, 0.005183251108974218, 0.0051069315522909164, 0.025141509249806404, 0.040972575545310974, 0.030402610078454018, 0.008936677128076553, 0.00042462217970751226, 0.0005753012374043465, 0.00013119062350597233, 2.4116465283441357e-05, 0.004589603748172522, 0.007794257719069719, 0.00018713118333835155, 0.0009846126195043325, 3.107164161519904e-07, 7.391582244054007e-07, 0.001966822426766157, 0.0004712982045020908, 0.0001514814794063568, 0.0001514814794063568, 0.00459832139313221, 0.0017911063041538, 0.0005160367581993341, 4.75667038699612e-05, 0.001252378337085247, 0.020971251651644707, 0.0012097976868972182, 0.0012985095381736755]\n"
     ]
    }
   ],
   "source": [
    "# output, x = test_model(poison_x,noisy_poison_edge_index,noisy_poison_edge_weights)\n",
    "# output_clean = torch.exp(output)\n",
    "# epsilon = 1e-8\n",
    "print(output_clean[idx_attach].argmax(dim=1))\n",
    "\n",
    "\n",
    "from torch_geometric.utils import k_hop_subgraph\n",
    "result_clean=[]\n",
    "for node_id in idx_train:\n",
    "    node_id = node_id.item()\n",
    "    subset, edge_index, mapping, edge_mask = k_hop_subgraph(node_id, 2, poison_edge_index, relabel_nodes=False)\n",
    "    loop_edges = edge_index[:, edge_index[0] == node_id]\n",
    "    non_loop_edges = edge_index[:, edge_index[0] != node_id]\n",
    "\n",
    "    selected_x = poison_x[subset]\n",
    "    \n",
    "    for i in range(loop_edges.size(1)):\n",
    "        # Current loop edge to remove\n",
    "        current_loop_edge = loop_edges[:, i]\n",
    "\n",
    "        # Find indices of the current loop edge and its reverse\n",
    "        forward_edge_mask = (edge_index[0] == current_loop_edge[0]) & (edge_index[1] == current_loop_edge[1])\n",
    "        reverse_edge_mask = (edge_index[0] == current_loop_edge[1]) & (edge_index[1] == current_loop_edge[0])\n",
    "\n",
    "        # Combine masks for forward and reverse edges\n",
    "        combined_mask = forward_edge_mask | reverse_edge_mask\n",
    "\n",
    "        # Remove both forward and reverse edges from the graph\n",
    "        modified_edge_index = edge_index[:, ~combined_mask]\n",
    "\n",
    "        edge_weights = torch.ones(modified_edge_index.size(1), dtype=torch.float, device=device)\n",
    "\n",
    "        output = test_model(poison_x, modified_edge_index, edge_weights)\n",
    "        output = output[node_id]\n",
    "        output = torch.exp(output)\n",
    "        output += epsilon\n",
    "        # print(output)\n",
    "        # print(output_clean[node_id])\n",
    "        deviation = F.kl_div(output.log(), output_clean[node_id], reduce=False)\n",
    "        result_clean.append(deviation.mean().item())\n",
    "        # print(deviation.mean().item())\n",
    "print(result_clean)\n"
   ]
  },
  {
   "cell_type": "code",
   "execution_count": null,
   "metadata": {},
   "outputs": [
    {
     "name": "stdout",
     "output_type": "stream",
     "text": [
      "[0.3460124433040619, 0.19821687042713165, 0.5011212229728699, 0.6010245084762573, 0.42199963331222534, 0.3846396207809448, 0.43022337555885315, 0.6333516836166382, 0.4547446072101593, 0.5501124262809753, 0.2637940049171448, 0.37705057859420776, 0.5078843832015991, 0.7004493474960327, 0.5569004416465759, 0.6654145121574402, 1.9873769283294678, 0.6075002551078796, 0.862027645111084, 0.6065778732299805, 0.3474136292934418, 0.4399492144584656, 0.38427144289016724, 0.40803858637809753, 0.4875369966030121, 0.5018918514251709, 0.4175064265727997, 0.4025825560092926, 0.25558990240097046, 0.5097978711128235, 0.5875260829925537]\n"
     ]
    }
   ],
   "source": [
    "result_trigger = []\n",
    "for node_id in idx_attach:\n",
    "    node_id = node_id.item()\n",
    "    subset, edge_index, mapping, edge_mask = k_hop_subgraph(node_id, 2, poison_edge_index, relabel_nodes=False)\n",
    "    loop_edges = edge_index[:, edge_index[0] == node_id]\n",
    "    non_loop_edges = edge_index[:, edge_index[0] != node_id]\n",
    "\n",
    "    selected_x = poison_x[subset]\n",
    "    \n",
    "    for i in range(loop_edges.size(1)):\n",
    "        # Current loop edge to remove\n",
    "        current_loop_edge = loop_edges[:, i]\n",
    "\n",
    "        # Find indices of the current loop edge and its reverse\n",
    "        forward_edge_mask = (edge_index[0] == current_loop_edge[0]) & (edge_index[1] == current_loop_edge[1])\n",
    "        reverse_edge_mask = (edge_index[0] == current_loop_edge[1]) & (edge_index[1] == current_loop_edge[0])\n",
    "\n",
    "        # Combine masks for forward and reverse edges\n",
    "        combined_mask = forward_edge_mask | reverse_edge_mask\n",
    "\n",
    "        # Remove both forward and reverse edges from the graph\n",
    "        modified_edge_index = edge_index[:, ~combined_mask]\n",
    "\n",
    "        edge_weights = torch.ones(modified_edge_index.size(1), dtype=torch.float, device=device)\n",
    "\n",
    "        output = test_model(poison_x, modified_edge_index, edge_weights)\n",
    "        output = output[node_id]\n",
    "        output = torch.exp(output)\n",
    "        output += epsilon\n",
    "        # print(output)\n",
    "        # print(output_clean[node_id])\n",
    "        deviation = F.kl_div(output.log(), output_clean[node_id], reduce=False)\n",
    "        \n",
    "        if loop_edges[:,i][1]>len(data.x):\n",
    "            # print(loop_edges[:,i][1])\n",
    "            result_trigger.append(deviation.mean().item())\n",
    "            \n",
    "        # else:\n",
    "        # print(deviation.mean().item())\n",
    "            # result_clean.append(deviation.mean().item())\n",
    "\n",
    "        # result_trigger.append(deviation.mean().item())\n",
    "        # print(deviation.mean().item())\n",
    "print(result_trigger)"
   ]
  },
  {
   "cell_type": "code",
   "execution_count": null,
   "metadata": {},
   "outputs": [
    {
     "data": {
      "text/plain": [
       "31"
      ]
     },
     "execution_count": 27,
     "metadata": {},
     "output_type": "execute_result"
    }
   ],
   "source": [
    "len(result_trigger)"
   ]
  },
  {
   "cell_type": "code",
   "execution_count": null,
   "metadata": {},
   "outputs": [
    {
     "data": {
      "text/plain": [
       "tensor([0, 0, 0, 0, 0, 0, 0, 0, 0, 0, 0, 0, 0, 0, 0, 0, 0, 0, 0, 0, 0, 0, 0, 0,\n",
       "        0, 0, 0, 0, 0, 0, 0], device='cuda:3')"
      ]
     },
     "execution_count": 28,
     "metadata": {},
     "output_type": "execute_result"
    }
   ],
   "source": [
    "output_clean[idx_attach].argmax(dim=1)"
   ]
  },
  {
   "cell_type": "code",
   "execution_count": null,
   "metadata": {},
   "outputs": [
    {
     "name": "stdout",
     "output_type": "stream",
     "text": [
      "31\n",
      "0.19821687042713165\n",
      "1.9873769283294678\n",
      "[1.9873769283294678, 0.862027645111084, 0.7004493474960327, 0.6654145121574402, 0.6333516836166382, 0.6075002551078796, 0.6065778732299805, 0.6010245084762573, 0.5875260829925537, 0.5569004416465759, 0.5501124262809753, 0.5097978711128235, 0.5078843832015991, 0.5018918514251709, 0.5011212229728699, 0.4875369966030121, 0.4547446072101593, 0.4399492144584656, 0.43022337555885315, 0.42199963331222534, 0.4175064265727997, 0.40803858637809753, 0.4025825560092926, 0.3846396207809448, 0.38427144289016724, 0.37705057859420776, 0.3474136292934418, 0.3460124433040619, 0.2637940049171448, 0.25558990240097046, 0.19821687042713165]\n",
      "0.6435327529907227\n",
      "[0.6435327529907227, 0.32764801383018494, 0.22977694869041443, 0.15310458838939667, 0.15117545425891876, 0.14317850768566132, 0.12078273296356201, 0.10912978649139404, 0.10375412553548813, 0.10115509480237961, 0.09457897394895554, 0.08894709497690201, 0.08893796056509018, 0.07516522705554962, 0.07048625499010086, 0.07024408131837845, 0.06649754196405411, 0.06338854134082794, 0.0627456083893776, 0.060650233179330826, 0.05455804243683815, 0.05422789976000786, 0.053161077201366425, 0.05266627296805382, 0.04949492961168289, 0.04943091794848442, 0.04568915814161301, 0.04515095800161362, 0.04467957466840744, 0.04336347058415413, 0.042895082384347916, 0.04284421354532242, 0.042361121624708176, 0.042187921702861786, 0.04209737479686737, 0.04136395454406738, 0.040972575545310974, 0.04085957258939743, 0.03888765722513199, 0.03869576379656792, 0.03823264315724373, 0.037820469588041306, 0.03738586604595184, 0.03686100244522095, 0.03639116883277893, 0.035420097410678864, 0.03458629921078682, 0.03392937779426575, 0.033350955694913864, 0.03290551155805588, 0.03195398300886154, 0.0319531224668026, 0.031023073941469193, 0.030402610078454018, 0.029738878831267357, 0.028875697404146194, 0.028430314734578133, 0.027670448645949364, 0.02661619894206524, 0.026208750903606415, 0.025141509249806404, 0.024970300495624542, 0.024747325107455254, 0.024673309177160263, 0.023773469030857086, 0.023466983810067177, 0.023040933534502983, 0.022404810413718224, 0.021874118596315384, 0.021448779851198196, 0.021259479224681854, 0.020971251651644707, 0.02084328606724739, 0.020804939791560173, 0.02076035365462303, 0.020540034398436546, 0.020230084657669067, 0.020228467881679535, 0.020226215943694115, 0.019959647208452225, 0.019829176366329193, 0.019740385934710503, 0.01968737505376339, 0.019629845395684242, 0.019612958654761314, 0.01950583979487419, 0.019375165924429893, 0.01915598474442959, 0.01889054849743843, 0.018872085958719254, 0.018393656238913536, 0.018362170085310936, 0.017955679446458817, 0.017795098945498466, 0.017028694972395897, 0.016963783651590347, 0.01689319498836994, 0.016792118549346924, 0.016724126413464546, 0.016634836792945862, 0.01661567948758602, 0.0163462832570076, 0.016117876395583153, 0.016114994883537292, 0.01593845896422863, 0.015461064875125885, 0.015309181064367294, 0.015115388669073582, 0.014904097653925419, 0.01469099149107933, 0.014533644542098045, 0.014241465367376804, 0.013846133835613728, 0.013750464655458927, 0.013417728245258331, 0.013356279581785202, 0.013279476203024387, 0.013261615298688412, 0.01322801224887371, 0.01311736460775137, 0.012940311804413795, 0.012915747240185738, 0.012832624837756157, 0.012781130149960518, 0.01264673937112093, 0.012619844637811184, 0.012479460798203945, 0.012419694103300571, 0.01228556502610445, 0.012247852049767971, 0.012032343074679375, 0.011821162886917591, 0.011776401661336422, 0.01161509845405817, 0.011315769515931606, 0.011062012054026127, 0.010965428315103054, 0.010912013240158558, 0.01084631122648716, 0.010841167531907558, 0.010768775828182697, 0.010388091206550598, 0.010353836230933666, 0.010257408022880554, 0.010111902840435505, 0.010017341002821922, 0.009974096901714802, 0.009929800406098366, 0.009826434776186943, 0.009769576601684093, 0.009691132232546806, 0.009590022265911102, 0.009579082950949669, 0.009339614771306515, 0.00927780382335186, 0.009189153090119362, 0.009141365997493267, 0.00907125324010849, 0.009028050117194653, 0.008936677128076553, 0.008936348371207714, 0.00888555496931076, 0.008862596936523914, 0.008745193481445312, 0.00871206820011139, 0.00857019703835249, 0.008549777790904045, 0.00852641835808754, 0.008523511700332165, 0.00849065836519003, 0.008468523621559143, 0.008419548161327839, 0.008332396857440472, 0.008231980726122856, 0.008210445754230022, 0.00817940291017294, 0.008178646676242352, 0.008139010518789291, 0.00811244547367096, 0.008010494522750378, 0.007966337725520134, 0.007807412184774876, 0.007794257719069719, 0.007767597679048777, 0.0077605219557881355, 0.007732194382697344, 0.0077296169474720955, 0.007644006051123142, 0.0076069943606853485, 0.0075703454203903675, 0.007563924416899681, 0.007518518716096878, 0.007483688648790121, 0.0074723525904119015, 0.0074683004058897495, 0.007398956920951605, 0.0073800464160740376, 0.007373634725809097, 0.007365960627794266, 0.007363179232925177, 0.007342769764363766, 0.007299141958355904, 0.007051246706396341, 0.006996320094913244, 0.006987133529037237, 0.006906123366206884, 0.0068864538334310055, 0.006883528549224138, 0.006867536809295416, 0.006794669199734926, 0.006773658562451601, 0.006748010404407978, 0.006646099034696817, 0.006624883972108364, 0.006616970524191856, 0.006578009109944105, 0.006560745183378458, 0.006464505102485418, 0.006292694713920355, 0.006259465590119362, 0.006242493633180857, 0.0062276264652609825, 0.006194045767188072, 0.006054754834622145, 0.006001512054353952, 0.005996571388095617, 0.0059641082771122456, 0.005905910860747099, 0.005865709390491247, 0.005801097955554724, 0.005788324400782585, 0.005772559903562069, 0.005761608947068453, 0.005759110674262047, 0.005748284049332142, 0.005714832805097103, 0.005712027195841074, 0.005710542667657137, 0.005702251102775335, 0.005701149348169565, 0.005662411917001009, 0.005661711562424898, 0.005643569398671389, 0.005595304537564516, 0.005532846320420504, 0.005444275680929422, 0.00542329391464591, 0.0053667169995605946, 0.005359406117349863, 0.005349582061171532, 0.005343327764421701, 0.005276212003082037, 0.0051895915530622005, 0.00518738804385066, 0.005183251108974218, 0.005131910089403391, 0.005127399228513241, 0.0051069315522909164, 0.0050713676027953625, 0.004965189378708601, 0.004960132762789726, 0.004946338478475809, 0.00490222405642271, 0.004888179246336222, 0.0048867519944906235, 0.004874437116086483, 0.004873999860137701, 0.004867246374487877, 0.004780052229762077, 0.0047625163570046425, 0.004742948338389397, 0.004716508090496063, 0.004698709584772587, 0.00468062749132514, 0.004664462059736252, 0.00459832139313221, 0.004589603748172522, 0.004588204436004162, 0.004515297710895538, 0.00449398485943675, 0.004461499396711588, 0.004438047297298908, 0.004409528337419033, 0.004387953318655491, 0.004359113518148661, 0.004357142373919487, 0.004330817144364119, 0.004330815281718969, 0.004318793769925833, 0.004300874657928944, 0.004257516469806433, 0.004219507798552513, 0.004215089604258537, 0.004181779455393553, 0.004142722114920616, 0.004098580684512854, 0.0040765427984297276, 0.004036684520542622, 0.003991387784481049, 0.003962965216487646, 0.003935575485229492, 0.003930918872356415, 0.0038644715677946806, 0.00384529703296721, 0.0038410923443734646, 0.0038318971637636423, 0.003802176099270582, 0.0037789740599691868, 0.003776149358600378, 0.0037722461856901646, 0.0037666012067347765, 0.0037439074367284775, 0.0037391006480902433, 0.00371731398627162, 0.003705183509737253, 0.003692617639899254, 0.0036903386935591698, 0.003686937503516674, 0.0036813917104154825, 0.003662219736725092, 0.003640947164967656, 0.0036321808584034443, 0.003601210657507181, 0.003565962892025709, 0.003503004554659128, 0.003483818145468831, 0.003480986924842, 0.003467585425823927, 0.0034527061507105827, 0.003434035461395979, 0.003431518329307437, 0.0034199226647615433, 0.0034135188907384872, 0.0034111770801246166, 0.003375096246600151, 0.003372729057446122, 0.003360981121659279, 0.0033241980709135532, 0.0033213593997061253, 0.0033150764647871256, 0.003272661240771413, 0.003249075962230563, 0.0032158824615180492, 0.003179629100486636, 0.0031755988020449877, 0.0031201669480651617, 0.003115267725661397, 0.003101709298789501, 0.0030787771102041006, 0.003072312567383051, 0.003072152379900217, 0.0030688985716551542, 0.0030683386139571667, 0.003010841552168131, 0.002975828479975462, 0.002943415893241763, 0.0029401956126093864, 0.002914455020800233, 0.0028894671704620123, 0.0028876429423689842, 0.002878244500607252, 0.0028759657870978117, 0.0028737273532897234, 0.0028317284304648638, 0.0028278478421270847, 0.002822405658662319, 0.0027736362535506487, 0.002757353475317359, 0.002754490589722991, 0.0027352976612746716, 0.002732309512794018, 0.0027242181822657585, 0.002715804846957326, 0.002708842745050788, 0.002681753132492304, 0.0026714750565588474, 0.002669836860150099, 0.0026447034906595945, 0.0026440375950187445, 0.0026279157027602196, 0.0026168888434767723, 0.0026041099335998297, 0.0025970363058149815, 0.0025855377316474915, 0.002582560759037733, 0.002580501837655902, 0.0025619929656386375, 0.0025345466565340757, 0.0024991105310618877, 0.0024756104685366154, 0.002472474705427885, 0.0024628948885947466, 0.002453661523759365, 0.0024359524250030518, 0.002435690723359585, 0.0024266899563372135, 0.002426346531137824, 0.002415355993434787, 0.0023991423659026623, 0.002394743263721466, 0.0023580826818943024, 0.0023523494601249695, 0.0023439177311956882, 0.002343758475035429, 0.002343525877222419, 0.002339959144592285, 0.002326519461348653, 0.0023039316292852163, 0.0022965893149375916, 0.0022949024569243193, 0.002292326185852289, 0.002290548523887992, 0.0022698889952152967, 0.002269888762384653, 0.0022693804930895567, 0.0022671250626444817, 0.0022663113195449114, 0.002265735063701868, 0.002261555753648281, 0.002253546379506588, 0.0022241075057536364, 0.0022142194211483, 0.002211875282227993, 0.002202265663072467, 0.002190358005464077, 0.002183835953474045, 0.0021637403406202793, 0.0021550054661929607, 0.002143919002264738, 0.002130658132955432, 0.00208970601670444, 0.0020870366133749485, 0.0020728507079184055, 0.002046362729743123, 0.0020304732024669647, 0.0020222135353833437, 0.002019968582317233, 0.00201275572180748, 0.002009881427511573, 0.0020087442826479673, 0.0020051312167197466, 0.0019947499968111515, 0.0019932109862565994, 0.0019905120134353638, 0.0019865217618644238, 0.001985307550057769, 0.00198154803365469, 0.00197966187261045, 0.001977914245799184, 0.0019739100243896246, 0.0019692827481776476, 0.001966822426766157, 0.00195490475744009, 0.001947032636962831, 0.0019465903751552105, 0.001938394270837307, 0.0019360670121386647, 0.0019315822282806039, 0.0019303944427520037, 0.0019227724988013506, 0.0019177986541762948, 0.001908271573483944, 0.001904841628856957, 0.0019027059897780418, 0.0018991769757121801, 0.0018834909424185753, 0.001870246953330934, 0.001868715276941657, 0.001865512691438198, 0.001860487274825573, 0.0018533506663516164, 0.001836256356909871, 0.0018362068803980947, 0.0018330845050513744, 0.0018105529015883803, 0.0018096556887030602, 0.0018087716307491064, 0.0017911063041538, 0.0017824855167418718, 0.0017795009771361947, 0.0017793274018913507, 0.0017729306127876043, 0.0017567216418683529, 0.0017497679218649864, 0.0017482461407780647, 0.001742023043334484, 0.001738665159791708, 0.0017373163718730211, 0.0017323745414614677, 0.001714911893941462, 0.0017146591562777758, 0.00171003770083189, 0.0016950571443885565, 0.0016868732636794448, 0.001683821203187108, 0.0016803372418507934, 0.001676377491094172, 0.0016728539485484362, 0.0016605232376605272, 0.0016467975219711661, 0.0016450627008453012, 0.0016423763008788228, 0.0016401783796027303, 0.0016104563837870955, 0.0016072915168479085, 0.0016022661002352834, 0.0015908735804259777, 0.0015808854950591922, 0.0015718193026259542, 0.0015689124120399356, 0.0015663574449717999, 0.0015608909307047725, 0.0015532135730609298, 0.0015505925985053182, 0.0015464351745322347, 0.0015335924690589309, 0.0015241658547893167, 0.0015219046035781503, 0.0015218396438285708, 0.0015074742259457707, 0.001500771613791585, 0.0014969196636229753, 0.0014966628514230251, 0.0014911332400515676, 0.0014874073676764965, 0.0014778089243918657, 0.0014409625437110662, 0.001434940379112959, 0.001434877049177885, 0.0014313885476440191, 0.0014256606809794903, 0.001418968429788947, 0.0014138860860839486, 0.0014087404124438763, 0.0014064632123336196, 0.0014020013622939587, 0.0014018145157024264, 0.0013867835514247417, 0.0013801668537780643, 0.0013737170957028866, 0.0013714635279029608, 0.0013673037756234407, 0.0013663441641256213, 0.0013646814040839672, 0.001357752364128828, 0.001355405431240797, 0.0013463498326018453, 0.0013438607566058636, 0.0013426331570371985, 0.0013374604750424623, 0.0013335038674995303, 0.0013291154755279422, 0.0013278925325721502, 0.0013244812143966556, 0.0013115747133269906, 0.0013076749164611101, 0.0013066951651126146, 0.0013064066879451275, 0.0013041922356933355, 0.0013028138782829046, 0.0012985095381736755, 0.0012978794984519482, 0.001291722059249878, 0.0012900106376037002, 0.0012832742650061846, 0.0012790614273399115, 0.0012722350656986237, 0.0012714082840830088, 0.0012713005999103189, 0.0012696844059973955, 0.0012683880049735308, 0.0012573152780532837, 0.0012540355091914535, 0.001252378337085247, 0.0012453491799533367, 0.00124027905985713, 0.0012380991829559207, 0.001237139687873423, 0.00123197166249156, 0.0012282474199309945, 0.0012268570717424154, 0.0012266912963241339, 0.001225695013999939, 0.0012238739291206002, 0.0012097976868972182, 0.0011973179643973708, 0.0011859461665153503, 0.0011772674042731524, 0.0011745910160243511, 0.0011735111474990845, 0.0011726772645488381, 0.0011700275354087353, 0.0011680895695462823, 0.0011675783898681402, 0.0011639595031738281, 0.001156276441179216, 0.0011521317064762115, 0.0011513992212712765, 0.0011393087916076183, 0.0011326088570058346, 0.0011288367677479982, 0.0011282010236755013, 0.0011261701583862305, 0.0011232474353164434, 0.0011223012115806341, 0.0011135302484035492, 0.0011122727300971746, 0.0011112306965515018, 0.0011102422140538692, 0.0011050999164581299, 0.0010984030086547136, 0.0010942274238914251, 0.0010833804262802005, 0.001080999500118196, 0.001074907835572958, 0.0010746537009254098, 0.0010730326175689697, 0.0010697342222556472, 0.0010693728690966964, 0.0010666451416909695, 0.0010624693240970373, 0.0010617884108796716, 0.0010616114595904946, 0.0010561752133071423, 0.0010540687944740057, 0.0010423980420455337, 0.0010422391351312399, 0.0010410331888124347, 0.0010348804062232375, 0.0010268923360854387, 0.0010178558295592666, 0.0010127265704795718, 0.0010109645081683993, 0.0010098634520545602, 0.001004463410936296, 0.0010018147295340896, 0.001000309712253511, 0.0009916864801198244, 0.0009846126195043325, 0.0009830791968852282, 0.0009773395722731948, 0.0009750729659572244, 0.0009728308650664985, 0.0009723008261062205, 0.0009708873112685978, 0.0009670673171058297, 0.0009634271846152842, 0.0009625001111999154, 0.0009598264005035162, 0.0009566411608830094, 0.0009518303559161723, 0.0009493274847045541, 0.0009488160721957684, 0.0009460353758186102, 0.0009419684065505862, 0.0009356556693091989, 0.0009329526801593602, 0.0009266920969821513, 0.0009246367844752967, 0.0009237453923560679, 0.0009202716173604131, 0.0009164954535663128, 0.0009099495364353061, 0.0008990062633529305, 0.0008959270198829472, 0.0008906592265702784, 0.0008905823342502117, 0.0008853452163748443, 0.00088305032113567, 0.0008743373909965158, 0.0008729499531909823, 0.0008705878863111138, 0.0008701501647010446, 0.0008684758795425296, 0.0008680938044562936, 0.0008629537187516689, 0.0008602781454101205, 0.0008540023700334132, 0.0008471805485896766, 0.0008443093975074589, 0.0008435108466073871, 0.0008425649139098823, 0.0008401176892220974, 0.0008397528436034918, 0.0008389500435441732, 0.0008364476962015033, 0.000833940866868943, 0.0008328786352649331, 0.0008313736179843545, 0.0008279021712951362, 0.0008221726748161018, 0.0008197783608920872, 0.0008195878472179174, 0.0008194955298677087, 0.0008140153368003666, 0.0008081442792899907, 0.0008065399597398937, 0.0007969545549713075, 0.0007964771939441562, 0.0007953239837661386, 0.0007933106971904635, 0.0007932250155135989, 0.000789453973993659, 0.0007886879029683769, 0.0007867366657592356, 0.0007745145121589303, 0.0007713416125625372, 0.0007688520709052682, 0.0007647605962119997, 0.0007561009260825813, 0.0007538796053268015, 0.0007529234862886369, 0.0007503946544602513, 0.0007499097264371812, 0.0007491463329643011, 0.0007429836550727487, 0.0007425041403621435, 0.0007418053573928773, 0.000741702679079026, 0.0007416830048896372, 0.0007400406757369637, 0.0007389411912299693, 0.0007384584750980139, 0.0007378602749668062, 0.000732363376300782, 0.0007298791315406561, 0.0007283656159415841, 0.0007258930709213018, 0.0007235205848701298, 0.0007225243607535958, 0.0007212205091491342, 0.0007202529814094305, 0.000718197668902576, 0.0007172820623964071, 0.0007166884024627507, 0.0007157485815696418, 0.0007145064300857484, 0.0007134602055884898, 0.0007120812661014497, 0.000711271830368787, 0.0007093761814758182, 0.0007022619829513133, 0.0006977522280067205, 0.0006976606673561037, 0.000695844239089638, 0.0006941525498405099, 0.0006939204758964479, 0.0006937576690688729, 0.0006925559719093144, 0.0006918226135894656, 0.0006841602153144777, 0.000683315156493336, 0.0006829511257819831, 0.0006806339952163398, 0.0006791694322600961, 0.0006772381020709872, 0.0006725809653289616, 0.0006715469644404948, 0.0006688477005809546, 0.0006674454198218882, 0.0006652325973846018, 0.0006649366696365178, 0.0006642868975177407, 0.0006634794408455491, 0.0006619549822062254, 0.0006596885505132377, 0.000658319506328553, 0.0006573653081431985, 0.0006555707659572363, 0.0006547714001499116, 0.0006539980531670153, 0.0006539226160384715, 0.0006510873790830374, 0.0006484889890998602, 0.0006481095333583653, 0.0006477593560703099, 0.0006468056817539036, 0.0006416781106963754, 0.0006326724542304873, 0.0006320434040389955, 0.0006234262837097049, 0.0006197233451530337, 0.0006181890494190156, 0.0006149496766738594, 0.0006140160840004683, 0.0006129241664893925, 0.0006102494080550969, 0.0006089051021263003, 0.0006085070199333131, 0.0006074935081414878, 0.0006054480327293277, 0.0006042580935172737, 0.000601037812884897, 0.0005988894263282418, 0.0005976861575618386, 0.0005948966718278825, 0.0005935488152317703, 0.0005934834480285645, 0.0005881862598471344, 0.0005881047109141946, 0.0005868085427209735, 0.0005862715770490468, 0.0005832751048728824, 0.0005804462707601488, 0.0005804162356071174, 0.0005796828772872686, 0.0005769453127868474, 0.0005763316876254976, 0.0005753012374043465, 0.0005703914794139564, 0.0005703712231479585, 0.0005669141537509859, 0.0005646784557029605, 0.0005640238523483276, 0.0005634118570014834, 0.0005614779074676335, 0.0005569089553318918, 0.0005559964338317513, 0.0005533674266189337, 0.0005533650401048362, 0.0005512514617294073, 0.0005509108304977417, 0.0005439732922241092, 0.0005390032310970128, 0.0005314185400493443, 0.0005249321693554521, 0.0005249310634098947, 0.0005239708698354661, 0.0005222239997237921, 0.0005221718456596136, 0.0005183935863897204, 0.0005181413143873215, 0.0005160367581993341, 0.0005109161138534546, 0.000505117466673255, 0.0005047534359619021, 0.000502878159750253, 0.0005014777416363358, 0.0005012279725633562, 0.0005008477601222694, 0.0004975090851075947, 0.0004970493027940392, 0.0004944181418977678, 0.0004941975930705667, 0.0004902556538581848, 0.0004900321364402771, 0.00048681243788450956, 0.00048651121323928237, 0.000484325282741338, 0.00048403843538835645, 0.0004840054316446185, 0.0004820507310796529, 0.0004820121394004673, 0.000479317968711257, 0.00047861467464827, 0.00047777596046216786, 0.00047777596046216786, 0.0004719215212389827, 0.0004712982045020908, 0.00046815405949018896, 0.0004677235265262425, 0.00046636592014692724, 0.0004657453973777592, 0.00046148712863214314, 0.0004605640424415469, 0.00045900873374193907, 0.00045840657548978925, 0.00045230347313918173, 0.0004506904224399477, 0.0004457714385353029, 0.0004454414884094149, 0.0004447869141586125, 0.00044352776603773236, 0.0004423586942721158, 0.0004381122416816652, 0.0004343813634477556, 0.0004329024231992662, 0.00043244342668913305, 0.00043115022708661854, 0.00042589064105413854, 0.00042586057679727674, 0.00042462217970751226, 0.00042324408423155546, 0.00042154561378993094, 0.000420272903284058, 0.00041859332122839987, 0.0004178501258138567, 0.0004155747883487493, 0.000413762143580243, 0.0004057618207298219, 0.00040105837979353964, 0.0003995799634139985, 0.0003989912511315197, 0.00039526555337943137, 0.00039143807953223586, 0.0003896110865753144, 0.0003896065754815936, 0.0003880092117469758, 0.0003877942217513919, 0.0003871207300107926, 0.00038645524182356894, 0.00038606993621215224, 0.000385995430406183, 0.00038486826815642416, 0.0003844606108032167, 0.0003843776066787541, 0.0003839883138425648, 0.0003824989835266024, 0.0003823120496235788, 0.0003821328573394567, 0.0003763918939512223, 0.0003760760591831058, 0.0003744320129044354, 0.0003743278211914003, 0.0003712672332767397, 0.00036868933239020407, 0.0003674679610412568, 0.0003652365121524781, 0.0003618457121774554, 0.0003617640177253634, 0.00036123741301707923, 0.0003608739352785051, 0.0003604771918617189, 0.00035727611975744367, 0.00035568434395827353, 0.0003533054841682315, 0.00035284514888189733, 0.0003515804128255695, 0.00034809752833098173, 0.00034787028562277555, 0.0003469065122772008, 0.0003464882029220462, 0.00034323337604291737, 0.0003431035147514194, 0.00034307691385038197, 0.00034213598701171577, 0.0003419513232074678, 0.00034117806353606284, 0.0003407129261177033, 0.0003403100708965212, 0.0003392983926460147, 0.0003384389274287969, 0.00033803816768340766, 0.0003380349953658879, 0.00033684555091895163, 0.0003365778538864106, 0.00033341749804094434, 0.0003332815249450505, 0.0003323619021102786, 0.0003320218238513917, 0.0003318254603073001, 0.00033128316863439977, 0.000331170333083719, 0.0003280767414253205, 0.00032681680750101805, 0.00032503504189662635, 0.00032475776970386505, 0.00032265856862068176, 0.0003224207030143589, 0.00032103806734085083, 0.0003189561830367893, 0.0003181546926498413, 0.0003178423212375492, 0.00031468860106542706, 0.00031453691190108657, 0.0003135640872642398, 0.00031191855669021606, 0.00031078208121471107, 0.0003104763454757631, 0.00030748601420782506, 0.00030698947375640273, 0.00030670902924612164, 0.0003063923795707524, 0.0003060070739593357, 0.000305567606119439, 0.00030399541719816625, 0.000302065716823563, 0.00030075546237640083, 0.00030011366470716894, 0.0003000865108333528, 0.0002994548121932894, 0.00029920414090156555, 0.00029877788620069623, 0.000298331375233829, 0.00029683526372537017, 0.0002953516668640077, 0.0002938290999736637, 0.00029197707772254944, 0.0002917953534051776, 0.0002895976940635592, 0.0002893262717407197, 0.00028708099853247404, 0.00028462070622481406, 0.0002827750868164003, 0.00028173247119411826, 0.0002816415508277714, 0.0002814382314682007, 0.0002813999308273196, 0.00028076855232939124, 0.00027979433070868254, 0.000278239807812497, 0.00027752883033826947, 0.0002773563901428133, 0.0002769647107925266, 0.00027507226332090795, 0.00027468428015708923, 0.00027452624635770917, 0.00027355924248695374, 0.0002734086592681706, 0.00027330219745635986, 0.0002724435180425644, 0.0002715542505029589, 0.00026842262013815343, 0.00026731620891951025, 0.0002661693433765322, 0.00026569783221930265, 0.00026506505673751235, 0.00026502806576900184, 0.0002647883375175297, 0.00026341743068769574, 0.0002630110830068588, 0.0002626843343023211, 0.0002617702994029969, 0.0002614942495711148, 0.00026044651167467237, 0.00025608710711821914, 0.0002553141093812883, 0.0002547726035118103, 0.0002533468941692263, 0.0002531239006202668, 0.00024856682284735143, 0.0002483182761352509, 0.0002472943742759526, 0.0002444290730636567, 0.00024303422833327204, 0.00024218432372435927, 0.0002408389700576663, 0.00024076338740997016, 0.0002391450252616778, 0.00023760700423736125, 0.00023692261311225593, 0.00023690093075856566, 0.0002365862746955827, 0.0002355610195081681, 0.00023178118863143027, 0.00023099101963452995, 0.00023010587028693408, 0.00022988235286902636, 0.00022959496709518135, 0.0002292799181304872, 0.00022882649500388652, 0.00022660070681013167, 0.0002263012866023928, 0.00022454294958151877, 0.00022246103617362678, 0.00022009601525496691, 0.00021996563009452075, 0.0002196463174186647, 0.00021941641170997173, 0.00021791565814055502, 0.00021771715546492487, 0.0002173294487874955, 0.00021730895969085395, 0.00021725894475821406, 0.0002137992123607546, 0.00021329337323550135, 0.000212083978112787, 0.0002114630478899926, 0.00021139213640708476, 0.00021135329734534025, 0.00021107708744239062, 0.00021077906421851367, 0.00021049700444564223, 0.0002094991650665179, 0.00020913727348670363, 0.0002088791661662981, 0.00020737521117553115, 0.0002067616005660966, 0.00020469140144996345, 0.00020467523427214473, 0.00020337851310614496, 0.00020309645333327353, 0.00020183942979201674, 0.00020141847198829055, 0.00020016358757857233, 0.00019877405429724604, 0.00019761813746299595, 0.00019696781237144023, 0.0001962674577953294, 0.0001956219202838838, 0.00019243174756411463, 0.00019228459859732538, 0.00019181413517799228, 0.00019152463937643915, 0.0001912367151817307, 0.0001909307175083086, 0.00019064387015532702, 0.0001892596628749743, 0.00018908243509940803, 0.00018908243509940803, 0.00018873026419896632, 0.00018746299610938877, 0.00018744597036857158, 0.00018713118333835155, 0.00018711495795287192, 0.0001869925472419709, 0.00018687653937377036, 0.00018651118443813175, 0.00018598725728224963, 0.0001855615118984133, 0.00018472650845069438, 0.0001844508369686082, 0.00018396654922980815, 0.00018342478142585605, 0.00018227726104669273, 0.0001818851742427796, 0.00018144506611861289, 0.00017820033826865256, 0.00017797788314055651, 0.000175214241608046, 0.0001745144254527986, 0.00017384174861945212, 0.00017382405349053442, 0.00017271112301386893, 0.00017249691882170737, 0.00017109300824813545, 0.0001707321935100481, 0.0001705284958006814, 0.0001698181586107239, 0.00016925910313148052, 0.00016683527792338282, 0.00016681743727531284, 0.0001664808369241655, 0.00016533531015738845, 0.0001647701283218339, 0.00016420600877609104, 0.00016407562361564487, 0.00016337634588126093, 0.00016286490426864475, 0.00016232261259574443, 0.00016208698798436671, 0.0001619894610485062, 0.0001617027446627617, 0.00016105175018310547, 0.00016064755618572235, 0.00016055097512435168, 0.00016051638522185385, 0.00016050627164077014, 0.00016002837219275534, 0.00015981709293555468, 0.00015921129670459777, 0.00015868140326347202, 0.0001578293740749359, 0.00015759043162688613, 0.00015716254711151123, 0.00015693902969360352, 0.00015691282169427723, 0.00015554684796370566, 0.00015463787713088095, 0.000154314300743863, 0.00015398647519759834, 0.0001534936745883897, 0.00015281779633369297, 0.0001527600543340668, 0.0001523332466604188, 0.00015219567285384983, 0.0001514814794063568, 0.0001514814794063568, 0.00015008929767645895, 0.00014969972835388035, 0.00014946982264518738, 0.00014874977932777256, 0.0001476423058193177, 0.00014723306230735034, 0.0001452512078685686, 0.0001445827801944688, 0.00014401653606910259, 0.00014395054313354194, 0.00014142906002234668, 0.00014067388838157058, 0.00013998789654579014, 0.00013931840658187866, 0.00013897143071517348, 0.00013763990136794746, 0.00013702789146918803, 0.00013618278899230063, 0.0001360359019599855, 0.0001356987631879747, 0.0001355393760604784, 0.00013374205445870757, 0.00013345507613848895, 0.00013324938481673598, 0.00013321852020453662, 0.00013257616956252605, 0.00013206261792220175, 0.00013147002027835697, 0.00013119062350597233, 0.00013084178499411792, 0.0001303750614169985, 0.0001302542514167726, 0.000130148880998604, 0.0001295416586799547, 0.0001294048852287233, 0.00012899430294055492, 0.00012862560106441379, 0.00012855538807343692, 0.00012789267930202186, 0.00012763377162627876, 0.00012699514627456665, 0.0001264523307327181, 0.00012562796473503113, 0.00012554654676932842, 0.00012366820010356605, 0.0001236232346855104, 0.00012352477642707527, 0.00012315012281760573, 0.00012244816753081977, 0.00012227662955410779, 0.00012216558388900012, 0.0001217914541484788, 0.00012084895570296794, 0.00012075049744453281, 0.00012011932994937524, 0.0001183522108476609, 0.00011828062997665256, 0.00011786925460910425, 0.00011734345753211528, 0.00011702947085723281, 0.00011648105282802135, 0.00011548400652827695, 0.00011545952293090522, 0.00011509444448165596, 0.00011504575377330184, 0.00011454895866336301, 0.00011328182881698012, 0.00011317805183352903, 0.00011219191219424829, 0.00011074916255893186, 0.0001106674681068398, 0.00011050169268855825, 0.00010927557741524652, 0.00010895755985984579, 0.00010894399019889534, 0.00010838679736480117, 0.00010814199049491435, 0.00010806535283336416, 0.00010771411325549707, 0.00010722131264628842, 0.00010653585923137143, 0.00010628067684592679, 0.00010620164539432153, 0.00010607977310428396, 0.0001056295441230759, 0.00010174752969760448, 0.000101525874924846, 0.00010075393947772682, 0.000100709505204577, 0.00010064404341392219, 9.998506720876321e-05, 9.99422263703309e-05, 9.929921361617744e-05, 9.901928569888696e-05, 9.873030649032444e-05, 9.822792344493791e-05, 9.822480205912143e-05, 9.7287556855008e-05, 9.678983042249456e-05, 9.637113544158638e-05, 9.471071825828403e-05, 9.469102951698005e-05, 9.436267282580957e-05, 9.354550275020301e-05, 9.300453530158848e-05, 9.126748773269355e-05, 9.095562563743442e-05, 8.971031638793647e-05, 8.907595474738628e-05, 8.810657891444862e-05, 8.753940346650779e-05, 8.6172491137404e-05, 8.598210115451366e-05, 8.552202780265361e-05, 8.507179882144555e-05, 8.422137034358457e-05, 8.374346361961216e-05, 8.353219163836911e-05, 8.297232852783054e-05, 8.2786864368245e-05, 8.276850712718442e-05, 8.265914220828563e-05, 8.205151971196756e-05, 8.097290992736816e-05, 7.930877472972497e-05, 7.896764145698398e-05, 7.868159445933998e-05, 7.85823431215249e-05, 7.853870192775503e-05, 7.74288346292451e-05, 7.614334026584402e-05, 7.599991658935323e-05, 7.593099871883169e-05, 7.499648199882358e-05, 7.479425403289497e-05, 7.417798042297363e-05, 7.406435906887054e-05, 7.375702261924744e-05, 7.372962136287242e-05, 7.356703281402588e-05, 7.291670772247016e-05, 7.282516889972612e-05, 7.28219747543335e-05, 7.266232569236308e-05, 7.245769666042179e-05, 7.205882866401225e-05, 7.195997022790834e-05, 7.168629963416606e-05, 7.14478810550645e-05, 7.140383968362585e-05, 7.139891386032104e-05, 7.130671292543411e-05, 7.074007589835674e-05, 7.062884833430871e-05, 6.985917571000755e-05, 6.960758764762431e-05, 6.867838965263218e-05, 6.815944652771577e-05, 6.695091724395752e-05, 6.664518150500953e-05, 6.605552334804088e-05, 6.578064494533464e-05, 6.541663606185466e-05, 6.529902020702139e-05, 6.490945816040039e-05, 6.461236625909805e-05, 6.455316179199144e-05, 6.4267915149685e-05, 6.42138984403573e-05, 6.370379560394213e-05, 6.268812285270542e-05, 6.167963147163391e-05, 6.0473172197816893e-05, 6.0194572142791e-05, 5.997930566081777e-05, 5.9962276282021776e-05, 5.892052286071703e-05, 5.8806370361708105e-05, 5.872867041034624e-05, 5.870312816114165e-05, 5.853549009771086e-05, 5.811346636619419e-05, 5.780586434411816e-05, 5.6691471399972215e-05, 5.616993075818755e-05, 5.606721970252693e-05, 5.546744796447456e-05, 5.453612538985908e-05, 5.43658243259415e-05, 5.314366353559308e-05, 5.277352829580195e-05, 5.1834223995683715e-05, 5.125680399942212e-05, 5.120571222505532e-05, 5.075741501059383e-05, 5.0655700761126354e-05, 5.050748950452544e-05, 5.0415950681781396e-05, 5.03747069160454e-05, 5.012963811168447e-05, 5.001518366043456e-05, 4.998913937015459e-05, 4.935530887451023e-05, 4.906739559373818e-05, 4.879279003944248e-05, 4.828615055885166e-05, 4.793757034349255e-05, 4.791362152900547e-05, 4.75667038699612e-05, 4.7047225962160155e-05, 4.697617987403646e-05, 4.6783261495875195e-05, 4.599017483997159e-05, 4.589477975969203e-05, 4.578727748594247e-05, 4.573978003463708e-05, 4.487644400796853e-05, 4.480460120248608e-05, 4.452307621249929e-05, 4.4200038246344775e-05, 4.3670781451510265e-05, 4.358802834758535e-05, 4.356673889560625e-05, 4.350527160568163e-05, 4.318143692216836e-05, 4.3162279325770214e-05, 4.291135337552987e-05, 4.285733666620217e-05, 4.27950726589188e-05, 4.244343290338293e-05, 4.194277789792977e-05, 4.1490424337098375e-05, 4.124242332181893e-05, 4.101424929103814e-05, 4.078448182553984e-05, 4.068230191478506e-05, 4.030844138469547e-05, 3.953012128476985e-05, 3.935290442313999e-05, 3.93502414226532e-05, 3.927041689166799e-05, 3.9079226553440094e-05, 3.8851587305543944e-05, 3.8646161556243896e-05, 3.861503137159161e-05, 3.859454227495007e-05, 3.858230047626421e-05, 3.8534672057721764e-05, 3.829545312328264e-05, 3.8248090277193114e-05, 3.695062332553789e-05, 3.639715214376338e-05, 3.63718718290329e-05, 3.63299623131752e-05, 3.610285421018489e-05, 3.572420609998517e-05, 3.552969064912759e-05, 3.543709317455068e-05, 3.5425382520770654e-05, 3.4896125725936145e-05, 3.458666105871089e-05, 3.32043127855286e-05, 3.306022335891612e-05, 3.282672696514055e-05, 3.2739982998464257e-05, 3.271337118349038e-05, 3.176741302013397e-05, 3.1733885407447815e-05, 3.098430534009822e-05, 3.073677362408489e-05, 3.073637344641611e-05, 3.0654882721137255e-05, 2.9537030059145764e-05, 2.9046621421002783e-05, 2.8892422051285394e-05, 2.8671431209659204e-05, 2.8203641704749316e-05, 2.811849299177993e-05, 2.792753730318509e-05, 2.7924244932364672e-05, 2.77951912721619e-05, 2.758311529760249e-05, 2.6966314180754125e-05, 2.6951145628117956e-05, 2.6500918465899304e-05, 2.6172827347181737e-05, 2.5795507099246606e-05, 2.5795507099246606e-05, 2.5130277208518237e-05, 2.503075847926084e-05, 2.483704338374082e-05, 2.4658229449414648e-05, 2.435914211673662e-05, 2.4183520508813672e-05, 2.4116465283441357e-05, 2.4100767404888757e-05, 2.3935788703965954e-05, 2.3714401322649792e-05, 2.3174234229372814e-05, 2.2973867089604028e-05, 2.277576095366385e-05, 2.2490110495709814e-05, 2.2459777028416283e-05, 2.2448333766078576e-05, 2.243902054033242e-05, 2.233045597677119e-05, 2.195100751123391e-05, 2.176953239541035e-05, 2.1679328710888512e-05, 2.1640744307660498e-05, 2.16237149288645e-05, 2.1519406800507568e-05, 2.1188920072745532e-05, 2.090925772790797e-05, 2.0687602955149487e-05, 2.03507297555916e-05, 2.0230589143466204e-05, 2.0077985027455725e-05, 2.00378053705208e-05, 1.9985251128673553e-05, 1.9896377125405706e-05, 1.9804108887910843e-05, 1.9620572857093066e-05, 1.9444951249170117e-05, 1.9312172298668884e-05, 1.9268267351435497e-05, 1.9173538021277636e-05, 1.907987279992085e-05, 1.8629645637702197e-05, 1.7963084246730432e-05, 1.7214300896739587e-05, 1.71376668731682e-05, 1.709668867988512e-05, 1.673360566201154e-05, 1.652206265134737e-05, 1.64705743372906e-05, 1.611746847629547e-05, 1.5772879123687744e-05, 1.5463414456462488e-05, 1.5255596736096777e-05, 1.513745155534707e-05, 1.5041658116388135e-05, 1.4933624697732739e-05, 1.4708777598571032e-05, 1.4557903341483325e-05, 1.4529430700349621e-05, 1.4485792235063855e-05, 1.4218635442375671e-05, 1.4061906767892651e-05, 1.3988465980219189e-05, 1.3979684808873571e-05, 1.3935246897744946e-05, 1.3750446669291705e-05, 1.3372994544624817e-05, 1.3334677532839123e-05, 1.3305672837304883e-05, 1.3246068192529492e-05, 1.3155065062164795e-05, 1.3088142623018939e-05, 1.3022550774621777e-05, 1.2993280506634619e-05, 1.2857041838287842e-05, 1.2804887774109375e-05, 1.2262458767509088e-05, 1.2240771866345312e-05, 1.2038010027026758e-05, 1.1755952073144726e-05, 1.1480547073006164e-05, 1.1472032383608166e-05, 1.1221639397263061e-05, 1.117267856898252e-05, 1.0820638635777868e-05, 1.075012369256001e-05, 1.051755953085376e-05, 1.0517027476453222e-05, 1.0480838682269678e-05, 1.0199047210335266e-05, 9.866165783023462e-06, 9.510466952633578e-06, 9.432701517653186e-06, 9.329191925644409e-06, 9.247368325304706e-06, 9.157529348158278e-06, 9.133082130574621e-06, 8.980078746390063e-06, 8.737003554415423e-06, 8.646000424050726e-06, 8.188587344193365e-06, 7.869410183047876e-06, 7.708158591412939e-06, 7.671171260881238e-06, 7.5383914008853026e-06, 7.4729327934619505e-06, 7.378436748695094e-06, 7.0346786742447875e-06, 7.03002206137171e-06, 6.657094218098791e-06, 6.545335509144934e-06, 6.345765996229602e-06, 6.218042017280823e-06, 6.181853223097278e-06, 6.075682449591113e-06, 5.87877457292052e-06, 5.852963568031555e-06, 5.614145720755914e-06, 5.603901172435144e-06, 5.60257058168645e-06, 5.558133580052527e-06, 5.344727469491772e-06, 5.064665401732782e-06, 4.808551693713525e-06, 4.751075721287634e-06, 4.6358577492355835e-06, 4.494829227041919e-06, 4.422984147822717e-06, 4.252685357641894e-06, 4.087708020961145e-06, 4.040077328681946e-06, 3.953863597416785e-06, 3.886010290443664e-06, 3.7407237414299743e-06, 3.561643779903534e-06, 3.5475409276841674e-06, 3.4550739655969664e-06, 3.4409708860039245e-06, 3.408640850466327e-06, 3.3893491035996703e-06, 3.3495682600914733e-06, 3.208273255950189e-06, 3.169423962390283e-06, 3.0989094739197753e-06, 2.884971308958484e-06, 2.7476678496896056e-06, 2.388177335888031e-06, 2.276019358760095e-06, 2.2498093130707275e-06, 2.117295480275061e-06, 2.100797701132251e-06, 2.027090204137494e-06, 1.8019761682808166e-06, 1.7756331089913147e-06, 1.7397106830685516e-06, 1.4678975048809662e-06, 1.404168415319873e-06, 1.3823488416164764e-06, 1.3321904361873749e-06, 1.2709892871498596e-06, 1.1580331147342804e-06, 1.0953684750347747e-06, 1.046274405780423e-06, 9.693737865745788e-07, 9.130952776104095e-07, 9.110996188610443e-07, 9.081725806936447e-07, 8.887478770702728e-07, 7.817787945896271e-07, 7.628862590536301e-07, 7.501138270527008e-07, 7.391582244054007e-07, 7.341483296841034e-07, 7.184488595157745e-07, 7.136592330425628e-07, 6.964962722122436e-07, 6.882474394842575e-07, 6.692218335047073e-07, 6.025657057762146e-07, 5.980421633466904e-07, 5.699694156646729e-07, 5.4429153806268e-07, 4.6339951609297714e-07, 4.4623658368436736e-07, 3.4818160088434524e-07, 3.107164161519904e-07, 2.5691198857202835e-07, 2.5331974029541016e-07, 2.2977059188633575e-07, 1.9517861460371932e-07, 1.1402049437947426e-07, 1.0869865718632354e-07, 1.0843255893178139e-07]\n"
     ]
    }
   ],
   "source": [
    "print(len(result_trigger))\n",
    "print(min(result_trigger))\n",
    "print(max(result_trigger))\n",
    "print(sorted(result_trigger,reverse=True))\n",
    "print(max(result_clean))\n",
    "print(sorted(result_clean,reverse=True))"
   ]
  },
  {
   "cell_type": "code",
   "execution_count": null,
   "metadata": {},
   "outputs": [
    {
     "data": {
      "image/png": "[encoded data removed]",
      "text/plain": [
       "<Figure size 1000x500 with 1 Axes>"
      ]
     },
     "metadata": {},
     "output_type": "display_data"
    }
   ],
   "source": [
    "import matplotlib.pyplot as plt\n",
    "\n",
    "# Ensure you have your data loaded in result_clean and result_trigger\n",
    "# Example: result_clean = [1, 2, 3], result_trigger = [3, 2, 1]\n",
    "# result_trigger = [x for x in result_trigger if x < 0.8 and x>0.2]\n",
    "# result_clean = [x for x in result_clean if x < 2 and x>0.2]\n",
    "\n",
    "# plt.figure(figsize=(10, 5))\n",
    "\n",
    "# plt.hist(result_trigger, alpha=0.7, bins=10, label='Trigger Edge',density=True)\n",
    "# # plt.hist(result_trigger, alpha=0.7, bins=10, label='Trigger Data')\n",
    "\n",
    "# plt.hist(result_clean, alpha=0.7, bins=10, label='Clean Edge',density=True)\n",
    "# # plt.hist(result_clean, alpha=0.7, bins=10, label='Clean Data')\n",
    "\n",
    "\n",
    "# # plt.title('Histogram of Clean and Trigger Data')\n",
    "# plt.xlabel('Prediction Variance')\n",
    "# plt.ylabel('Frequency')\n",
    "# plt.legend()\n",
    "# plt.grid(True)\n",
    "\n",
    "# # Save the plot before displaying it\n",
    "# plt.savefig('cora.pdf')\n",
    "\n",
    "# # Display the plot\n",
    "# plt.show()\n",
    "plt.figure(figsize=(10, 5))\n",
    "\n",
    "plt.hist(result_trigger, alpha=0.7, bins=10, label='Trigger Edges', density=True)\n",
    "plt.hist(result_clean, alpha=0.7, bins=10, label='Clean Edges', density=True)\n",
    "\n",
    "plt.xlabel('Prediction Variance',fontsize=16)\n",
    "plt.ylabel('Frequency',fontsize=16)\n",
    "\n",
    "# Adjust x and y ticks\n",
    "plt.xticks(fontsize=16)\n",
    "plt.yticks(fontsize=16)\n",
    "\n",
    "plt.legend(fontsize=16)\n",
    "plt.grid(True)\n",
    "\n",
    "# Add a caption below the figure\n",
    "# plt.figtext(0.5, -0.05, 'Comparison of prediction variance due to trigger edges drop and clean edges drop.', wrap=True, horizontalalignment='center', fontsize=14)\n",
    "\n",
    "# Save the plot before displaying it\n",
    "plt.savefig('cora.pdf')\n",
    "\n",
    "# Display the plot\n",
    "plt.show()"
   ]
  },
  {
   "cell_type": "code",
   "execution_count": null,
   "metadata": {},
   "outputs": [
    {
     "data": {
      "text/plain": [
       "[0.6435327529907227]"
      ]
     },
     "execution_count": 31,
     "metadata": {},
     "output_type": "execute_result"
    }
   ],
   "source": [
    "filter = [x for x in result_clean if x > 0.4]\n",
    "filter"
   ]
  },
  {
   "cell_type": "code",
   "execution_count": null,
   "metadata": {},
   "outputs": [],
   "source": [
    "poison_labels[idx_attach] = args.target_class"
   ]
  },
  {
   "cell_type": "code",
   "execution_count": null,
   "metadata": {},
   "outputs": [
    {
     "name": "stdout",
     "output_type": "stream",
     "text": [
      "tensor([0, 0, 0, 0, 0, 0, 0, 0, 0, 0, 0, 0, 0, 0, 0, 0, 0, 0, 0, 0, 0, 0, 0, 0,\n",
      "        0, 0, 0, 0, 0, 0, 0], device='cuda:3')\n"
     ]
    },
    {
     "name": "stderr",
     "output_type": "stream",
     "text": [
      "/data/home/zbz5349/defense_backdoor/RIGBD/models/GAT.py:61: UserWarning: To copy construct from a tensor, it is recommended to use sourceTensor.clone().detach() or sourceTensor.clone().detach().requires_grad_(True), rather than torch.tensor(sourceTensor).\n",
      "  self.labels = torch.tensor(labels, dtype=torch.long)\n",
      "/data/home/zbz5349/defense_backdoor/RIGBD/models/GAT.py:83: UserWarning: To copy construct from a tensor, it is recommended to use sourceTensor.clone().detach() or sourceTensor.clone().detach().requires_grad_(True), rather than torch.tensor(sourceTensor).\n",
      "  idx2 = torch.tensor(idx2).to(self.device)\n"
     ]
    },
    {
     "name": "stdout",
     "output_type": "stream",
     "text": [
      "accuracy on clean test nodes: 1.0000\n"
     ]
    }
   ],
   "source": [
    "## retrain a model on purified graph ##\n",
    "# stop\n",
    "# labels for target poisoned node before purified #\n",
    "# print(poison_labels[idx_attach])\n",
    "\n",
    "# # purifying #\n",
    "# for idx in index_of_less_robust:\n",
    "#     poison_labels[bkd_tn_nodes[idx]]=data.y[bkd_tn_nodes[idx]]\n",
    "\n",
    "# # labels for target poisoned node after purified #\n",
    "# print(poison_labels[idx_attach])\n",
    "\n",
    "# # retrain a model #\n",
    "# test_model = model_construct(args,args.test_model,data,device).to(device) \n",
    "# test_model.fit(poison_x,poison_edge_index, poison_edge_weights, poison_labels, bkd_tn_nodes, idx_val,train_iters=args.epochs,verbose=False)\n",
    "\n",
    "# ## test model on purified graph (poisoned target node) ##\n",
    "# clean_acc = test_model.test(poison_x,poison_edge_index, poison_edge_weights,poison_labels,idx_attach)\n",
    "\n",
    "# print(\"accuracy on clean test nodes: {:.4f}\".format(clean_acc))\n",
    "print(poison_labels[idx_attach])\n",
    "\n",
    "# purifying #\n",
    "# for idx in index_of_less_robust[:400]:\n",
    "#     poison_labels[bkd_tn_nodes[idx]]=data.y[bkd_tn_nodes[idx]]\n",
    "\n",
    "# # labels for target poisoned node after purified #\n",
    "# print(poison_labels[idx_attach])\n",
    "\n",
    "# retrain a model #s\n",
    "test_model = model_construct(args,args.test_model,data,device).to(device) \n",
    "test_model.fit(poison_x,poison_edge_index, poison_edge_weights, poison_labels, bkd_tn_nodes, idx_val,train_iters=args.epochs,verbose=False, finetune=True, attach=index_of_less_robust)\n",
    "\n",
    "## test model on purified graph (poisoned target node) ##\n",
    "clean_acc = test_model.test(poison_x,poison_edge_index, poison_edge_weights,poison_labels,idx_attach)\n",
    "\n",
    "print(\"accuracy on clean test nodes: {:.4f}\".format(clean_acc))"
   ]
  },
  {
   "cell_type": "code",
   "execution_count": null,
   "metadata": {},
   "outputs": [
    {
     "name": "stdout",
     "output_type": "stream",
     "text": [
      "ASR: 1.0000\n",
      "Flip ASR: 1.0000/225 nodes\n",
      "CA: 0.8111\n"
     ]
    }
   ],
   "source": [
    "# add a trigger detector #\n",
    "# assumption: backdoor attack's success is based on trigger pattern #\n",
    "# 1. outlier, trigger different to each other #\n",
    "# 2. in distribution, trigger similar to each other #\n",
    "# in case, model trained on clean graph learn attack pattern #\n",
    "induct_edge_index = torch.cat([poison_edge_index,mask_edge_index],dim=1)\n",
    "induct_edge_weights = torch.cat([poison_edge_weights,torch.ones([mask_edge_index.shape[1]],dtype=torch.float,device=device)])\n",
    "induct_x, induct_edge_index,induct_edge_weights = model.inject_trigger(idx_atk,poison_x,induct_edge_index,induct_edge_weights,device)\n",
    "induct_x, induct_edge_index,induct_edge_weights = induct_x.clone().detach(), induct_edge_index.clone().detach(),induct_edge_weights.clone().detach()\n",
    "\n",
    "output = test_model(induct_x,induct_edge_index,induct_edge_weights)\n",
    "train_attach_rate = (output.argmax(dim=1)[idx_atk]==args.target_class).float().mean()\n",
    "print(\"ASR: {:.4f}\".format(train_attach_rate))\n",
    "asr = train_attach_rate\n",
    "flip_idx_atk = idx_atk[(data.y[idx_atk] != args.target_class).nonzero().flatten()]\n",
    "flip_asr = (output.argmax(dim=1)[flip_idx_atk]==args.target_class).float().mean()\n",
    "print(\"Flip ASR: {:.4f}/{} nodes\".format(flip_asr,flip_idx_atk.shape[0]))\n",
    "ca = test_model.test(induct_x,induct_edge_index,induct_edge_weights,data.y,idx_clean_test)\n",
    "print(\"CA: {:.4f}\".format(ca))"
   ]
  },
  {
   "cell_type": "code",
   "execution_count": null,
   "metadata": {},
   "outputs": [
    {
     "name": "stderr",
     "output_type": "stream",
     "text": [
      "/home/zbz5349/anaconda3/envs/spurious/lib/python3.8/site-packages/torch/nn/_reduction.py:42: UserWarning: size_average and reduce args will be deprecated, please use reduction='none' instead.\n",
      "  warnings.warn(warning.format(ret))\n"
     ]
    }
   ],
   "source": [
    "predictions_1 = []\n",
    "for i in range(4):\n",
    "            test_model.eval()\n",
    "            noisy_poison_edge_index, noisy_poison_edge_weights = sample_noise_all(poison_edge_index, poison_edge_weights, device)\n",
    "            output = test_model(poison_x,noisy_poison_edge_index,noisy_poison_edge_weights)\n",
    "            train_attach_rate = (output.argmax(dim=1)[idx_attach]==args.target_class).float().mean()\n",
    "            train_clean_rate = (output.argmax(dim=1)[idx_train]==data.y[idx_train]).float().mean()\n",
    "            predictions_1.append(torch.exp(output[known_nodes]))\n",
    "\n",
    "epsilon = 1e-8\n",
    "deviations = []\n",
    "for sub_pred in predictions_1:\n",
    "\n",
    "    sub_pred += epsilon\n",
    "    deviation = F.kl_div(sub_pred.log(), ori_predict, reduce=False)\n",
    "    for othersub_pred in predictions:\n",
    "        deviation += F.kl_div(sub_pred.log(), othersub_pred, reduce=False)\n",
    "    deviations.append(deviation)"
   ]
  },
  {
   "cell_type": "code",
   "execution_count": null,
   "metadata": {},
   "outputs": [
    {
     "name": "stdout",
     "output_type": "stream",
     "text": [
      "index_of_less_robust tensor([545, 554, 562, 569, 544, 557, 567, 571, 566, 556, 553, 543, 563, 547,\n",
      "        565, 550, 541, 559, 555, 548, 116, 568, 542, 551, 558, 560, 564, 552,\n",
      "        237, 546, 100], device='cuda:3')\n",
      "count 28\n"
     ]
    }
   ],
   "source": [
    "summed_deviations = torch.zeros_like(deviations[0]).to(deviations[0].device)\n",
    "for deviation in deviations:\n",
    "    ##### summed deviations for each node #####\n",
    "    summed_deviations += deviation\n",
    "\n",
    "\n",
    "##### get the index for nodes with less robustness #####\n",
    "    \n",
    "##### args.vs_number is unknown #####\n",
    "index_of_less_robust = torch.sort(torch.mean(summed_deviations,dim=-1),descending=True)[1][:mask.sum()]\n",
    "print('index_of_less_robust',index_of_less_robust)\n",
    "\n",
    "##### count how many poisoned target nodes are selected in less robustness nodes #####\n",
    "count = 0\n",
    "dd = []\n",
    "for idx in index_of_less_robust:\n",
    "    if idx >= len(known_nodes)-args.vs_number:\n",
    "        count += 1\n",
    "        dd.append(idx)\n",
    "print('count',count)"
   ]
  },
  {
   "cell_type": "code",
   "execution_count": null,
   "metadata": {},
   "outputs": [
    {
     "data": {
      "image/png": "[encoded data removed]",
      "text/plain": [
       "<Figure size 1000x600 with 1 Axes>"
      ]
     },
     "metadata": {},
     "output_type": "display_data"
    }
   ],
   "source": [
    "\n",
    "# visualize robustness distribution #\n",
    "a=torch.mean(summed_deviations,dim=-1)\n",
    "a_excluding_last_40 = a[:-args.vs_number].detach().cpu()\n",
    "a_last=a[-mask.sum():].detach().cpu()\n",
    "\n",
    "\n",
    "a_last_40 = a[-args.vs_number:].detach().cpu()\n",
    "\n",
    "\n",
    "\n",
    "\n",
    "indices_to_remove = [i for i, node in enumerate(known_nodes[-args.vs_number:]) if data.y[node] == args.target_class]\n",
    "\n",
    "indices_to_remove = []\n",
    "\n",
    "a_last_list = list(a_last)\n",
    "\n",
    "indices_to_check = range(len(known_nodes[-args.vs_number:]))\n",
    "\n",
    "# indices_to_remove = []\n",
    "\n",
    "# ##### find those nodes that are already have target class or poisoned failed #####\n",
    "# for i in indices_to_check:\n",
    "#     condition1 = data.y[known_nodes[-args.vs_number:][i]] == args.target_class\n",
    "#     condition2 = output.argmax(dim=1)[idx_attach[i]] != args.target_class\n",
    "    \n",
    "#     if condition1 or condition2:\n",
    "#         indices_to_remove.append(i)\n",
    "\n",
    "# for index in sorted(indices_to_remove, reverse=True):\n",
    "#     del a_last_list[index]\n",
    "\n",
    "\n",
    "a_last_40 = a_last_list\n",
    "plt.figure(figsize=(10, 6))\n",
    "# plt.figure(figsize=(40, 24))\n",
    "##### benign nodes #####\n",
    "plt.hist(a_excluding_last_40, bins=20, alpha=0.5, label='benign nodes', density=True)\n",
    "##### poisoned success nodes #####\n",
    "plt.hist(a_last_40, bins=20, alpha=0.5, label='poisoned target nodes',density=True)\n",
    "plt.legend(loc='upper right')\n",
    "plt.xlabel('Value')\n",
    "plt.ylabel('Frequency')\n",
    "plt.title('Distribution of robustness for each node')\n",
    "plt.savefig('a.jpg')\n",
    "plt.show()"
   ]
  },
  {
   "cell_type": "code",
   "execution_count": null,
   "metadata": {},
   "outputs": [
    {
     "name": "stdout",
     "output_type": "stream",
     "text": [
      "accuracy on poisoned target nodes: 1.0000\n"
     ]
    }
   ],
   "source": [
    "test_model = model_construct(args,args.test_model,data,device).to(device) \n",
    "test_model.fit(poison_x,poison_edge_index, poison_edge_weights, poison_labels, bkd_tn_nodes, idx_val,train_iters=args.epochs,verbose=False)\n",
    "test_model.eval()\n",
    "clean_acc = test_model.test(poison_x,poison_edge_index, poison_edge_weights,poison_labels,idx_attach)\n",
    "output_clean = test_model(poison_x,poison_edge_index,poison_edge_weights)\n",
    "ori_predict = torch.exp(output_clean[known_nodes])\n",
    "print(\"accuracy on poisoned target nodes: {:.4f}\".format(clean_acc))\n",
    "\n",
    "\n",
    "for i in range(10):\n",
    "            test_model.eval()\n",
    "            noisy_poison_edge_index, noisy_poison_edge_weights = sample_noise_all(poison_edge_index, poison_edge_weights, device)\n",
    "            output = test_model(poison_x,noisy_poison_edge_index,noisy_poison_edge_weights)\n",
    "            train_attach_rate = (output.argmax(dim=1)[idx_attach]==args.target_class).float().mean()\n",
    "            train_clean_rate = (output.argmax(dim=1)[idx_train]==data.y[idx_train]).float().mean()\n",
    "            predictions.append(torch.exp(output[known_nodes]))\n",
    "\n",
    "epsilon = 1e-8\n",
    "deviations = []\n",
    "for sub_pred in predictions:\n",
    "    sub_pred += epsilon\n",
    "    deviation = F.kl_div(sub_pred.log(), ori_predict, reduce=False)\n",
    "    deviations.append(deviation)\n",
    "\n",
    "summed_deviations = torch.zeros_like(deviations[0]).to(deviations[0].device)\n",
    "for deviation in deviations:\n",
    "    ##### summed deviations for each node #####\n",
    "    summed_deviations += deviation\n",
    "\n",
    "\n",
    "##### get the index for nodes with less robustness #####\n",
    "    \n",
    "##### args.vs_number is unknown #####\n",
    "# index_of_less_robust = torch.sort(torch.mean(summed_deviations,dim=-1),descending=True)[1][:mask.sum()]\n",
    "index_of_less_robust = torch.sort(torch.mean(summed_deviations,dim=-1),descending=True)[1]"
   ]
  },
  {
   "cell_type": "code",
   "execution_count": null,
   "metadata": {},
   "outputs": [
    {
     "name": "stdout",
     "output_type": "stream",
     "text": [
      "Index found: 31\n",
      "tensor([0, 0, 0, 0, 0, 0, 0, 0, 0, 0, 0, 0, 0, 0, 0, 0, 0, 0, 0, 0, 0, 0, 0, 0,\n",
      "        0, 0, 0, 0, 0, 0, 2], device='cuda:3')\n"
     ]
    }
   ],
   "source": [
    "def find_index(poison_labels, bkd_tn_nodes, index_of_less_robust, target_class):\n",
    "    # Get the specific list to iterate through\n",
    "    labels_list = poison_labels[bkd_tn_nodes[index_of_less_robust]]\n",
    "\n",
    "    # Iterate through the list with index\n",
    "    for i in range(len(labels_list) - 1):  # -1 to avoid index out of range\n",
    "        if labels_list[i] != target_class and labels_list[i + 1] != target_class:\n",
    "            return i - 1\n",
    "\n",
    "    # Return None if the condition is not met in the loop\n",
    "    return None\n",
    "\n",
    "# Example usage:\n",
    "# Assuming poison_labels, bkd_tn_nodes, index_of_less_robust, and target_class are defined\n",
    "result_index = find_index(poison_labels, bkd_tn_nodes, index_of_less_robust, args.target_class)\n",
    "print(\"Index found:\", result_index)\n",
    "print(poison_labels[bkd_tn_nodes[index_of_less_robust][:result_index]])"
   ]
  },
  {
   "cell_type": "code",
   "execution_count": null,
   "metadata": {},
   "outputs": [
    {
     "name": "stdout",
     "output_type": "stream",
     "text": [
      "tensor([0, 0, 0, 0, 0, 0, 0, 0, 0, 0, 0, 0, 0, 0, 0, 0, 0, 0, 0, 0, 0, 0, 0, 0,\n",
      "        0, 0, 0, 0, 0, 0, 0], device='cuda:3')\n",
      "accuracy on clean test nodes: 0.0323\n"
     ]
    }
   ],
   "source": [
    "## retrain a model on purified graph ##\n",
    "\n",
    "# labels for target poisoned node before purified #\n",
    "print(poison_labels[idx_attach])\n",
    "\n",
    "# purifying #\n",
    "# for idx in index_of_less_robust[:400]:\n",
    "#     poison_labels[bkd_tn_nodes[idx]]=data.y[bkd_tn_nodes[idx]]\n",
    "\n",
    "# # labels for target poisoned node after purified #\n",
    "# print(poison_labels[idx_attach])\n",
    "\n",
    "# retrain a model #s\n",
    "test_model = model_construct(args,args.test_model,data,device).to(device) \n",
    "\n",
    "# test_model.fit(poison_x,poison_edge_index, poison_edge_weights, poison_labels, bkd_tn_nodes, idx_val,train_iters=args.epochs,verbose=False, finetune=True, attach=bkd_tn_nodes[index_of_less_robust][:result_index])\n",
    "test_model.fit(poison_x,poison_edge_index, poison_edge_weights, poison_labels, bkd_tn_nodes, idx_val,train_iters=400,verbose=False, finetune=True, attach=bkd_tn_nodes[index_of_less_robust][:result_index])\n",
    "## test model on purified graph (poisoned target node) ##\n",
    "clean_acc = test_model.test(poison_x,poison_edge_index, poison_edge_weights,poison_labels,idx_attach)\n",
    "\n",
    "print(\"accuracy on clean test nodes: {:.4f}\".format(clean_acc))"
   ]
  },
  {
   "cell_type": "code",
   "execution_count": null,
   "metadata": {},
   "outputs": [
    {
     "name": "stdout",
     "output_type": "stream",
     "text": [
      "ASR: 0.1587\n",
      "Flip ASR: 0.0578/225 nodes\n",
      "CA: 0.8370\n"
     ]
    }
   ],
   "source": [
    "induct_edge_index = torch.cat([poison_edge_index,mask_edge_index],dim=1)\n",
    "induct_edge_weights = torch.cat([poison_edge_weights,torch.ones([mask_edge_index.shape[1]],dtype=torch.float,device=device)])\n",
    "induct_x, induct_edge_index,induct_edge_weights = model.inject_trigger(idx_atk,poison_x,induct_edge_index,induct_edge_weights,device)\n",
    "# induct_x, induct_edge_index,induct_edge_weights = model.inject_trigger(idx_attach,poison_x,induct_edge_index,induct_edge_weights,device)\n",
    "induct_x, induct_edge_index,induct_edge_weights = induct_x.clone().detach(), induct_edge_index.clone().detach(),induct_edge_weights.clone().detach()\n",
    "\n",
    "output = test_model(induct_x,induct_edge_index,induct_edge_weights)\n",
    "train_attach_rate = (output.argmax(dim=1)[idx_atk]==args.target_class).float().mean()\n",
    "# train_attach_rate = (output.argmax(dim=1)[idx_attach]==args.target_class).float().mean()\n",
    "print(\"ASR: {:.4f}\".format(train_attach_rate))\n",
    "asr = train_attach_rate\n",
    "flip_idx_atk = idx_atk[(data.y[idx_atk] != args.target_class).nonzero().flatten()]\n",
    "flip_asr = (output.argmax(dim=1)[flip_idx_atk]==args.target_class).float().mean()\n",
    "print(\"Flip ASR: {:.4f}/{} nodes\".format(flip_asr,flip_idx_atk.shape[0]))\n",
    "ca = test_model.test(induct_x,induct_edge_index,induct_edge_weights,data.y,idx_clean_test)\n",
    "print(\"CA: {:.4f}\".format(ca))"
   ]
  },
  {
   "cell_type": "code",
   "execution_count": null,
   "metadata": {},
   "outputs": [
    {
     "name": "stdout",
     "output_type": "stream",
     "text": [
      "recall tensor(0.9677, device='cuda:3')\n",
      "Accuracy 0.967741935483871\n"
     ]
    }
   ],
   "source": [
    "indexs = poison_labels[bkd_tn_nodes[index_of_less_robust][:result_index]]\n",
    "count = 0\n",
    "for i in indexs:\n",
    "    if i == args.target_class:\n",
    "        count += 1\n",
    "## correct\n",
    "correct = count\n",
    "\n",
    "## fasle\n",
    "false = len(indexs) - count\n",
    "\n",
    "print('recall', correct/mask.sum())\n",
    "# print(false/mask.sum())\n",
    "print('Accuracy', correct/len(indexs))"
   ]
  },
  {
   "cell_type": "code",
   "execution_count": null,
   "metadata": {},
   "outputs": [
    {
     "name": "stdout",
     "output_type": "stream",
     "text": [
      "Index found: 31\n"
     ]
    }
   ],
   "source": [
    "def find_index(poison_labels, bkd_tn_nodes, index_of_less_robust, target_class):\n",
    "    # Get the specific list to iterate through\n",
    "    labels_list = poison_labels[bkd_tn_nodes[index_of_less_robust]]\n",
    "\n",
    "    # Iterate through the list with index\n",
    "    for i in range(len(labels_list) - 1):  # -1 to avoid index out of range\n",
    "        if labels_list[i] != target_class and labels_list[i + 1] != target_class and labels_list[i+2]!=target_class:\n",
    "            return i - 1\n",
    "\n",
    "    # Return None if the condition is not met in the loop\n",
    "    return None\n",
    "\n",
    "# Example usage:\n",
    "# Assuming poison_labels, bkd_tn_nodes, index_of_less_robust, and target_class are defined\n",
    "result_index = find_index(poison_labels, bkd_tn_nodes, index_of_less_robust, args.target_class)\n",
    "print(\"Index found:\", result_index)"
   ]
  },
  {
   "cell_type": "code",
   "execution_count": null,
   "metadata": {},
   "outputs": [
    {
     "name": "stdout",
     "output_type": "stream",
     "text": [
      "accuracy on clean test nodes: 0.0323\n",
      "ASR: 0.2030\n",
      "Flip ASR: 0.0844/225 nodes\n",
      "CA: 0.8444\n"
     ]
    }
   ],
   "source": [
    "test_model = model_construct(args,args.test_model,data,device).to(device) \n",
    "\n",
    "# test_model.fit(poison_x,poison_edge_index, poison_edge_weights, poison_labels, bkd_tn_nodes, idx_val,train_iters=args.epochs,verbose=False, finetune=True, attach=bkd_tn_nodes[index_of_less_robust][:result_index])\n",
    "test_model.fit(poison_x,poison_edge_index, poison_edge_weights, poison_labels, bkd_tn_nodes, idx_val,train_iters=400,verbose=False, finetune=True, attach=bkd_tn_nodes[index_of_less_robust][:result_index-1])\n",
    "## test model on purified graph (poisoned target node) ##\n",
    "clean_acc = test_model.test(poison_x,poison_edge_index, poison_edge_weights,poison_labels,idx_attach)\n",
    "\n",
    "print(\"accuracy on clean test nodes: {:.4f}\".format(clean_acc))\n",
    "\n",
    "# add a trigger detector #\n",
    "# assumption: backdoor attack's success is based on trigger pattern #\n",
    "# 1. outlier, trigger different to each other #\n",
    "# 2. in distribution, trigger similar to each other #\n",
    "# # in case, model trained on clean graph learn attack pattern #\n",
    "induct_edge_index = torch.cat([poison_edge_index,mask_edge_index],dim=1)\n",
    "induct_edge_weights = torch.cat([poison_edge_weights,torch.ones([mask_edge_index.shape[1]],dtype=torch.float,device=device)])\n",
    "induct_x, induct_edge_index,induct_edge_weights = model.inject_trigger(idx_atk,poison_x,induct_edge_index,induct_edge_weights,device)\n",
    "# induct_x, induct_edge_index,induct_edge_weights = model.inject_trigger(idx_attach,poison_x,induct_edge_index,induct_edge_weights,device)\n",
    "induct_x, induct_edge_index,induct_edge_weights = induct_x.clone().detach(), induct_edge_index.clone().detach(),induct_edge_weights.clone().detach()\n",
    "\n",
    "output = test_model(induct_x,induct_edge_index,induct_edge_weights)\n",
    "train_attach_rate = (output.argmax(dim=1)[idx_atk]==args.target_class).float().mean()\n",
    "# train_attach_rate = (output.argmax(dim=1)[idx_attach]==args.target_class).float().mean()\n",
    "print(\"ASR: {:.4f}\".format(train_attach_rate))\n",
    "asr = train_attach_rate\n",
    "flip_idx_atk = idx_atk[(data.y[idx_atk] != args.target_class).nonzero().flatten()]\n",
    "flip_asr = (output.argmax(dim=1)[flip_idx_atk]==args.target_class).float().mean()\n",
    "print(\"Flip ASR: {:.4f}/{} nodes\".format(flip_asr,flip_idx_atk.shape[0]))\n",
    "ca = test_model.test(induct_x,induct_edge_index,induct_edge_weights,data.y,idx_clean_test)\n",
    "print(\"CA: {:.4f}\".format(ca))"
   ]
  },
  {
   "cell_type": "code",
   "execution_count": null,
   "metadata": {},
   "outputs": [
    {
     "name": "stdout",
     "output_type": "stream",
     "text": [
      "recall tensor(0.9677, device='cuda:3')\n",
      "Accuracy 1.0\n"
     ]
    }
   ],
   "source": [
    "indexs = poison_labels[bkd_tn_nodes[index_of_less_robust][:result_index-1]]\n",
    "count = 0\n",
    "for i in indexs:\n",
    "    if i == args.target_class:\n",
    "        count += 1\n",
    "## correct\n",
    "correct = count\n",
    "\n",
    "## fasle\n",
    "false = len(indexs) - count\n",
    "\n",
    "print('recall', correct/mask.sum())\n",
    "# print(false/mask.sum())\n",
    "print('Accuracy', correct/len(indexs))"
   ]
  }
 ],
 "metadata": {
  "kernelspec": {
   "display_name": "spurious",
   "language": "python",
   "name": "python3"
  },
  "language_info": {
   "codemirror_mode": {
    "name": "ipython",
    "version": 3
   },
   "file_extension": ".py",
   "mimetype": "text/x-python",
   "name": "python",
   "nbconvert_exporter": "python",
   "pygments_lexer": "ipython3",
   "version": "3.8.17"
  }
 },
 "nbformat": 4,
 "nbformat_minor": 2
}
