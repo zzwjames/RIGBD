{
 "cells": [
  {
   "cell_type": "code",
   "execution_count": 1,
   "metadata": {},
   "outputs": [
    {
     "name": "stderr",
     "output_type": "stream",
     "text": [
      "/tmp/ipykernel_1313764/534782185.py:1: DeprecationWarning: the imp module is deprecated in favour of importlib; see the module's documentation for alternative uses\n",
      "  import imp\n",
      "/home/zbz5349/anaconda3/envs/spurious/lib/python3.8/site-packages/tqdm/auto.py:22: TqdmWarning: IProgress not found. Please update jupyter and ipywidgets. See https://ipywidgets.readthedocs.io/en/stable/user_install.html\n",
      "  from .autonotebook import tqdm as notebook_tqdm\n"
     ]
    },
    {
     "name": "stdout",
     "output_type": "stream",
     "text": [
      "Namespace(cuda=True, dataset='Cora', debug=True, defense_mode='none', device_id=3, dis_weight=1, dropout=0.5, epochs=1000, evaluate_mode='1by1', hidden=64, homo_boost_thrd=0.8, homo_loss_weight=100, inner=1, k=100, lr=0.01, model='GCN', no_cuda=False, outter_size=4096, prune_thr=0.8, range=1.0, rec_epochs=30, seed=10, selection_method='none', target_class=0, target_loss_weight=1, test_model='GIN', thrd=0.5, train_lr=0.01, trigger_size=3, trojan_epochs=400, use_vs_number=True, vs_number=40, vs_ratio=0, weight_decay=0.0005, weight_ood=1, weight_target=1, weight_targetclass=1)\n"
     ]
    }
   ],
   "source": [
    "import imp\n",
    "import time\n",
    "import argparse\n",
    "import numpy as np\n",
    "import torch\n",
    "torch.set_printoptions(threshold=10000)\n",
    "from torch_geometric.datasets import Planetoid,Reddit2,Flickr\n",
    "import torch.nn.functional as F\n",
    "import numpy as np\n",
    "import matplotlib.pyplot as plt\n",
    "# from torch_geometric.loader import DataLoader\n",
    "from help_funcs import prune_unrelated_edge,prune_unrelated_edge_isolated, clu_prune_unrelated_edge\n",
    "import scipy.sparse as sp\n",
    "from torch_geometric.utils import subgraph\n",
    "# Training settings\n",
    "parser = argparse.ArgumentParser()\n",
    "parser.add_argument('--debug', action='store_true',\n",
    "        default=True, help='debug mode')\n",
    "parser.add_argument('--no-cuda', action='store_true', default=False,\n",
    "                    help='Disables CUDA training.')\n",
    "parser.add_argument('--seed', type=int, default=10, help='Random seed.')\n",
    "parser.add_argument('--model', type=str, default='GCN', help='model',\n",
    "                    choices=['GCN','GAT','GraphSage','GIN'])\n",
    "parser.add_argument('--dataset', type=str, default='Cora', \n",
    "                    help='Dataset',\n",
    "                    choices=['Cora','Pubmed','Flickr','ogbn-arxiv','Citeseer','Reddit2'])\n",
    "parser.add_argument('--train_lr', type=float, default=0.01,\n",
    "                    help='Initial learning rate.')\n",
    "parser.add_argument('--weight_decay', type=float, default=5e-4,\n",
    "                    help='Weight decay (L2 loss on parameters).')\n",
    "parser.add_argument('--hidden', type=int, default=64,\n",
    "                    help='Number of hidden units.')\n",
    "parser.add_argument('--thrd', type=float, default=0.5)\n",
    "parser.add_argument('--target_class', type=int, default=0)\n",
    "parser.add_argument('--k', type=int, default=100)\n",
    "parser.add_argument('--dropout', type=float, default=0.5,\n",
    "                    help='Dropout rate (1 - keep probability).')\n",
    "parser.add_argument('--epochs', type=int,  default=1000, help='Number of epochs to train benign and backdoor model.')\n",
    "parser.add_argument('--rec_epochs', type=int,  default=30, help='Number of epochs to train benign and backdoor model.')\n",
    "parser.add_argument('--trojan_epochs', type=int,  default=400, help='Number of epochs to train trigger generator.')\n",
    "parser.add_argument('--inner', type=int,  default=1, help='Number of inner')\n",
    "# backdoor setting\n",
    "parser.add_argument('--lr', type=float, default=0.01,\n",
    "                    help='Initial learning rate.')\n",
    "parser.add_argument('--trigger_size', type=int, default=3,\n",
    "                    help='tirgger_size')\n",
    "parser.add_argument('--use_vs_number', action='store_true', default=True,\n",
    "                    help=\"if use detailed number to decide Vs\")\n",
    "parser.add_argument('--vs_ratio', type=float, default=0,\n",
    "                    help=\"ratio of poisoning nodes relative to the full graph\")\n",
    "parser.add_argument('--range', type=float, default=1.0,\n",
    "                    help=\"ratio of poisoning nodes relative to the full graph\")\n",
    "parser.add_argument('--vs_number', type=int, default=40,\n",
    "                    help=\"number of poisoning nodes relative to the full graph\")\n",
    "# defense setting\n",
    "parser.add_argument('--defense_mode', type=str, default=\"none\",\n",
    "                    choices=['prune', 'isolate', 'none','reconstruct'],\n",
    "                    help=\"Mode of defense\")\n",
    "parser.add_argument('--prune_thr', type=float, default=0.8,\n",
    "                    help=\"Threshold of prunning edges\")\n",
    "parser.add_argument('--target_loss_weight', type=float, default=1,\n",
    "                    help=\"Weight of optimize outter trigger generator\")\n",
    "parser.add_argument('--weight_target', type=float, default=1,\n",
    "                    help=\"Weight of optimize outter trigger generator\")\n",
    "parser.add_argument('--weight_ood', type=float, default=1,\n",
    "                    help=\"Weight of optimize outter trigger generator\")\n",
    "parser.add_argument('--weight_targetclass', type=float, default=1,\n",
    "                    help=\"Weight of optimize outter trigger generator\")\n",
    "parser.add_argument('--outter_size', type=int, default=4096,\n",
    "                    help=\"Weight of optimize outter trigger generator\")\n",
    "parser.add_argument('--homo_loss_weight', type=float, default=100,\n",
    "                    help=\"Weight of optimize similarity loss\")\n",
    "parser.add_argument('--homo_boost_thrd', type=float, default=0.8,\n",
    "                    help=\"Threshold of increase similarity\")\n",
    "# attack setting\n",
    "parser.add_argument('--dis_weight', type=float, default=1,\n",
    "                    help=\"Weight of cluster distance\")\n",
    "parser.add_argument('--selection_method', type=str, default='none',\n",
    "                    choices=['loss','conf','cluster','none','cluster_degree'],\n",
    "                    help='Method to select idx_attach for training trojan model (none means randomly select)')\n",
    "parser.add_argument('--test_model', type=str, default='GAT',\n",
    "                    choices=['GCN','GAT','GraphSage','GIN'],\n",
    "                    help='Model used to attack')\n",
    "parser.add_argument('--evaluate_mode', type=str, default='1by1',\n",
    "                    choices=['overall','1by1'],\n",
    "                    help='Model used to attack')\n",
    "# GPU setting\n",
    "parser.add_argument('--device_id', type=int, default=3,\n",
    "                    help=\"Threshold of prunning edges\")\n",
    "# args = parser.parse_args()\n",
    "args = parser.parse_known_args()[0]\n",
    "args.cuda =  not args.no_cuda and torch.cuda.is_available()\n",
    "device = torch.device(('cuda:{}' if torch.cuda.is_available() else 'cpu').format(args.device_id))\n",
    "\n",
    "np.random.seed(args.seed)\n",
    "torch.manual_seed(args.seed)\n",
    "torch.cuda.manual_seed(args.seed)\n",
    "print(args)"
   ]
  },
  {
   "cell_type": "code",
   "execution_count": 2,
   "metadata": {},
   "outputs": [],
   "source": [
    "from torch_geometric.utils import to_undirected\n",
    "import torch_geometric.transforms as T\n",
    "transform = T.Compose([T.NormalizeFeatures()])\n",
    "\n",
    "if(args.dataset == 'Cora' or args.dataset == 'Citeseer' or args.dataset == 'Pubmed'):\n",
    "    dataset = Planetoid(root='./data/', \\\n",
    "                        name=args.dataset,\\\n",
    "                        transform=transform)\n",
    "elif(args.dataset == 'Flickr'):\n",
    "    dataset = Flickr(root='./data/Flickr/', \\\n",
    "                    transform=transform)\n",
    "elif(args.dataset == 'Reddit2'):\n",
    "    dataset = Reddit2(root='./data/Reddit2/', \\\n",
    "                    transform=transform)\n",
    "elif(args.dataset == 'ogbn-arxiv'):\n",
    "    from ogb.nodeproppred import PygNodePropPredDataset\n",
    "    # Download and process data at './dataset/ogbg_molhiv/'\n",
    "    dataset = PygNodePropPredDataset(name = 'ogbn-arxiv', root='./data/')\n",
    "    split_idx = dataset.get_idx_split() \n",
    "\n",
    "data = dataset[0].to(device)\n",
    "\n",
    "if(args.dataset == 'ogbn-arxiv'):\n",
    "    nNode = data.x.shape[0]\n",
    "    setattr(data,'train_mask',torch.zeros(nNode, dtype=torch.bool).to(device))\n",
    "    # dataset[0].train_mask = torch.zeros(nEdge, dtype=torch.bool).to(device)\n",
    "    data.val_mask = torch.zeros(nNode, dtype=torch.bool).to(device)\n",
    "    data.test_mask = torch.zeros(nNode, dtype=torch.bool).to(device)\n",
    "    data.y = data.y.squeeze(1)\n",
    "    \n",
    "if(args.dataset == 'Reddit2'):\n",
    "    num_nodes_to_sample = 20000  # Adjust this based on your needs\n",
    "\n",
    "    # Randomly select a subset of nodes\n",
    "    sampled_nodes = torch.randint(data.num_nodes, (num_nodes_to_sample,), device=device)\n",
    "\n",
    "    # Perform subgraph sampling\n",
    "    edge,_ = subgraph(sampled_nodes, data.edge_index)\n",
    "    data.edge_index = edge"
   ]
  },
  {
   "cell_type": "code",
   "execution_count": 3,
   "metadata": {},
   "outputs": [],
   "source": [
    "from utils import get_split\n",
    "data, idx_train, idx_val, idx_clean_test, idx_atk = get_split(args,data,device)\n",
    "\n",
    "from torch_geometric.utils import to_undirected\n",
    "from utils import subgraph\n",
    "data.edge_index = to_undirected(data.edge_index)\n",
    "train_edge_index,_, edge_mask = subgraph(torch.bitwise_not(data.test_mask),data.edge_index,relabel_nodes=False)\n",
    "mask_edge_index = data.edge_index[:,torch.bitwise_not(edge_mask)]"
   ]
  },
  {
   "cell_type": "code",
   "execution_count": 4,
   "metadata": {},
   "outputs": [
    {
     "name": "stdout",
     "output_type": "stream",
     "text": [
      "number of benign training nodes 541\n",
      "number of poisoned target nodes 40\n"
     ]
    }
   ],
   "source": [
    "from sklearn_extra import cluster\n",
    "from models.backdoor import Backdoor\n",
    "from models.construct import model_construct\n",
    "import heuristic_selection as hs\n",
    "from torch.distributions.bernoulli import Bernoulli\n",
    "\n",
    "# select poisoned target node #\n",
    "\n",
    "# filter out the unlabeled nodes except from training nodes and testing nodes, nonzero() is to get index, flatten is to get 1-d tensor\n",
    "unlabeled_idx = (torch.bitwise_not(data.test_mask)&torch.bitwise_not(data.train_mask)).nonzero().flatten()\n",
    "if(args.use_vs_number):\n",
    "    size = args.vs_number\n",
    "else:\n",
    "    size = int((len(data.test_mask)-data.test_mask.sum())*args.vs_ratio)\n",
    "# print(\"#Attach Nodes:{}\".format(size))\n",
    "assert size>0, 'The number of selected trigger nodes must be larger than 0!'\n",
    "# here is randomly select poison nodes from unlabeled nodes\n",
    "if(args.selection_method == 'none'):\n",
    "    idx_attach = hs.obtain_attach_nodes(args,unlabeled_idx,size)\n",
    "elif(args.selection_method == 'cluster'):\n",
    "    idx_attach = hs.cluster_distance_selection(args,data,idx_train,idx_val,idx_clean_test,unlabeled_idx,train_edge_index,size,device)\n",
    "    idx_attach = torch.LongTensor(idx_attach).to(device)\n",
    "elif(args.selection_method == 'cluster_degree'):\n",
    "    if(args.dataset == 'Pubmed'):\n",
    "        idx_attach = hs.cluster_degree_selection_seperate_fixed(args,data,idx_train,idx_val,idx_clean_test,unlabeled_idx,train_edge_index,size,device)\n",
    "    else:\n",
    "        idx_attach = hs.cluster_degree_selection(args,data,idx_train,idx_val,idx_clean_test,unlabeled_idx,train_edge_index,size,device)\n",
    "    idx_attach = torch.LongTensor(idx_attach).to(device)\n",
    "# print(\"idx_attach: {}\".format(idx_attach))\n",
    "unlabeled_idx = torch.tensor(list(set(unlabeled_idx.cpu().numpy()) - set(idx_attach.cpu().numpy()))).to(device)\n",
    "print('number of benign training nodes', len(idx_train))\n",
    "print('number of poisoned target nodes', len(idx_attach))\n",
    "\n",
    "# Cora\n",
    "idx_attach = torch.tensor([2183, 2202,  980, 1291, 2630, 2530,  376,  590, 1220,  574,  276,   15,\n",
    "        2049, 2117, 2535, 1505, 2665, 1469,  316, 1201,  511,  700, 1259,  357,\n",
    "        1754,  228, 2290, 1019, 2546,  958, 1263, 2556, 2003,   51,  342,  711,\n",
    "        2305,  461, 1246, 1850])\n",
    "\n",
    "\n",
    "idx_attach = idx_attach.to(device)"
   ]
  },
  {
   "cell_type": "code",
   "execution_count": 5,
   "metadata": {},
   "outputs": [
    {
     "data": {
      "text/plain": [
       "0"
      ]
     },
     "execution_count": 5,
     "metadata": {},
     "output_type": "execute_result"
    }
   ],
   "source": [
    "## trigger generator ##\n",
    "model = Backdoor(args,device)\n",
    "model.fit(data.x, train_edge_index, None, data.y, idx_train,idx_attach, unlabeled_idx, True)"
   ]
  },
  {
   "cell_type": "code",
   "execution_count": 6,
   "metadata": {},
   "outputs": [],
   "source": [
    "\n",
    "total_overall_asr = 0\n",
    "total_overall_ca = 0\n",
    "\n",
    "rs = np.random.RandomState(args.seed)\n",
    "seeds = rs.randint(1000,size=1)\n",
    "overall_asr = 0\n",
    "overall_ca = 0"
   ]
  },
  {
   "cell_type": "code",
   "execution_count": 7,
   "metadata": {},
   "outputs": [],
   "source": [
    "# load poisoned graph #\n",
    "# poison_x = torch.load('poison_x.pt')\n",
    "# poison_edge_index = torch.load('poison_edge_index.pt')\n",
    "# poison_edge_weights = torch.load('poison_edge_weights.pt')\n",
    "# poison_labels = torch.load('poison_labels.pt')\n",
    "poison_x = torch.load('poison_x_cora.pt').to(device)\n",
    "poison_edge_index = torch.load('poison_edge_index_cora.pt').to(device)\n",
    "poison_edge_weights = torch.load('poison_edge_weights_cora.pt').to(device)\n",
    "poison_labels = torch.load('poison_labels_cora.pt').to(device)"
   ]
  },
  {
   "cell_type": "code",
   "execution_count": 8,
   "metadata": {},
   "outputs": [
    {
     "name": "stdout",
     "output_type": "stream",
     "text": [
      "Namespace(cuda=True, dataset='Cora', debug=True, defense_mode='none', device_id=3, dis_weight=1, dropout=0.5, epochs=1000, evaluate_mode='1by1', hidden=64, homo_boost_thrd=0.8, homo_loss_weight=100, inner=1, k=100, lr=0.01, model='GCN', no_cuda=False, outter_size=4096, prune_thr=0.8, range=1.0, rec_epochs=30, seed=10, selection_method='none', target_class=0, target_loss_weight=1, test_model='GIN', thrd=0.5, train_lr=0.01, trigger_size=3, trojan_epochs=400, use_vs_number=True, vs_number=40, vs_ratio=0, weight_decay=0.0005, weight_ood=1, weight_target=1, weight_targetclass=1)\n"
     ]
    }
   ],
   "source": [
    "print(args)\n",
    "\n",
    "mask = data.y[idx_attach] != args.target_class\n",
    "mask = mask.to(device)\n",
    "\n",
    "## only attack those has groud truth labels != target_class ##\n",
    "idx_attach = idx_attach[(data.y[idx_attach] != args.target_class).nonzero().flatten()]\n",
    "\n",
    "bkd_tn_nodes = torch.cat([idx_train,idx_attach]).to(device)\n",
    "# test_model = model_construct(args,args.test_model,data,device).to(device) \n",
    "known_nodes = torch.cat([idx_train,idx_attach]).to(device)\n",
    "predictions = []\n",
    "# edge weight for clean edge_index, may use later #\n",
    "edge_weight = torch.ones([data.edge_index.shape[1]],device=device,dtype=torch.float)\n"
   ]
  },
  {
   "cell_type": "code",
   "execution_count": 9,
   "metadata": {},
   "outputs": [
    {
     "data": {
      "text/plain": [
       "tensor(31, device='cuda:3')"
      ]
     },
     "execution_count": 9,
     "metadata": {},
     "output_type": "execute_result"
    }
   ],
   "source": [
    "mask.sum()"
   ]
  },
  {
   "cell_type": "code",
   "execution_count": null,
   "metadata": {},
   "outputs": [],
   "source": []
  },
  {
   "cell_type": "code",
   "execution_count": 11,
   "metadata": {},
   "outputs": [],
   "source": [
    "# '''\n",
    "# ABL\n",
    "# '''\n",
    "# from models.ABL import ABL\n",
    "\n",
    "# test_model = model_construct(args,args.test_model,data,device).to(device) \n",
    "# adv_model = ABL(args, model_name = args.test_model, model=test_model, isolation_ratio=0.01, threshold = 1, loss_increse_threshold = 2, isolate_epoch = 10, device = device)\n",
    "# adv_model.fit(poison_x,poison_edge_index, poison_edge_weights, poison_labels, bkd_tn_nodes, idx_val,train_iters=args.epochs,verbose=True)\n",
    "# adv_model.eval()\n",
    "# clean_acc = adv_model.test(poison_x,poison_edge_index, poison_edge_weights,poison_labels,idx_attach)\n",
    "# '''\n",
    "# attack evaluation for ABL\n",
    "# '''\n",
    "# induct_edge_index = torch.cat([poison_edge_index,mask_edge_index],dim=1)\n",
    "# induct_edge_weights = torch.cat([poison_edge_weights,torch.ones([mask_edge_index.shape[1]],dtype=torch.float,device=device)])\n",
    "# induct_x, induct_edge_index,induct_edge_weights = model.inject_trigger(idx_atk,poison_x,induct_edge_index,induct_edge_weights,device)\n",
    "# induct_x, induct_edge_index,induct_edge_weights = induct_x.clone().detach(), induct_edge_index.clone().detach(),induct_edge_weights.clone().detach()\n",
    "\n",
    "# adv_model.attack_evaluation(args, induct_x, induct_edge_index,induct_edge_weights, data.y, idx_atk, idx_clean_test)"
   ]
  },
  {
   "cell_type": "code",
   "execution_count": 12,
   "metadata": {},
   "outputs": [
    {
     "name": "stdout",
     "output_type": "stream",
     "text": [
      "Not implement GIN\n"
     ]
    },
    {
     "ename": "UnboundLocalError",
     "evalue": "local variable 'model' referenced before assignment",
     "output_type": "error",
     "traceback": [
      "\u001b[0;31m---------------------------------------------------------------------------\u001b[0m",
      "\u001b[0;31mUnboundLocalError\u001b[0m                         Traceback (most recent call last)",
      "Cell \u001b[0;32mIn[12], line 2\u001b[0m\n\u001b[1;32m      1\u001b[0m \u001b[39m# train a backdoored model on poisoned graph # \u001b[39;00m\n\u001b[0;32m----> 2\u001b[0m test_model \u001b[39m=\u001b[39m model_construct(args,args\u001b[39m.\u001b[39;49mtest_model,data,device)\u001b[39m.\u001b[39mto(device) \n\u001b[1;32m      3\u001b[0m test_model\u001b[39m.\u001b[39mfit(poison_x,poison_edge_index, poison_edge_weights, poison_labels, bkd_tn_nodes, idx_val,train_iters\u001b[39m=\u001b[39margs\u001b[39m.\u001b[39mepochs,verbose\u001b[39m=\u001b[39m\u001b[39mFalse\u001b[39;00m)\n\u001b[1;32m      4\u001b[0m test_model\u001b[39m.\u001b[39meval()\n",
      "File \u001b[0;32m/data/home/zbz5349/defense_backdoor/pre_test/models/construct.py:74\u001b[0m, in \u001b[0;36mmodel_construct\u001b[0;34m(args, model_name, data, device)\u001b[0m\n\u001b[1;32m     72\u001b[0m \u001b[39melse\u001b[39;00m:\n\u001b[1;32m     73\u001b[0m     \u001b[39mprint\u001b[39m(\u001b[39m\"\u001b[39m\u001b[39mNot implement \u001b[39m\u001b[39m{}\u001b[39;00m\u001b[39m\"\u001b[39m\u001b[39m.\u001b[39mformat(model_name))\n\u001b[0;32m---> 74\u001b[0m \u001b[39mreturn\u001b[39;00m model\n",
      "\u001b[0;31mUnboundLocalError\u001b[0m: local variable 'model' referenced before assignment"
     ]
    }
   ],
   "source": [
    "# train a backdoored model on poisoned graph # \n",
    "test_model = model_construct(args,args.test_model,data,device).to(device) \n",
    "test_model.fit(poison_x,poison_edge_index, poison_edge_weights, poison_labels, bkd_tn_nodes, idx_val,train_iters=args.epochs,verbose=False)\n",
    "test_model.eval()\n",
    "clean_acc = test_model.test(poison_x,poison_edge_index, poison_edge_weights,poison_labels,idx_attach)\n",
    "output_clean = test_model(poison_x,poison_edge_index,poison_edge_weights)\n",
    "ori_predict = torch.exp(output_clean[known_nodes])\n",
    "print(\"accuracy on poisoned target nodes: {:.4f}\".format(clean_acc))"
   ]
  },
  {
   "cell_type": "code",
   "execution_count": null,
   "metadata": {},
   "outputs": [
    {
     "name": "stdout",
     "output_type": "stream",
     "text": [
      "ASR: 0.9779\n",
      "Flip ASR: 0.9733/225 nodes\n",
      "CA: 0.8407\n"
     ]
    }
   ],
   "source": [
    "# test backdoored model for comparison #\n",
    "induct_edge_index = torch.cat([poison_edge_index,mask_edge_index],dim=1)\n",
    "induct_edge_weights = torch.cat([poison_edge_weights,torch.ones([mask_edge_index.shape[1]],dtype=torch.float,device=device)])\n",
    "induct_x, induct_edge_index,induct_edge_weights = model.inject_trigger(idx_atk,poison_x,induct_edge_index,induct_edge_weights,device)\n",
    "induct_x, induct_edge_index,induct_edge_weights = induct_x.clone().detach(), induct_edge_index.clone().detach(),induct_edge_weights.clone().detach()\n",
    "\n",
    "output = test_model(induct_x,induct_edge_index,induct_edge_weights)\n",
    "train_attach_rate = (output.argmax(dim=1)[idx_atk]==args.target_class).float().mean()\n",
    "print(\"ASR: {:.4f}\".format(train_attach_rate))\n",
    "asr = train_attach_rate\n",
    "flip_idx_atk = idx_atk[(data.y[idx_atk] != args.target_class).nonzero().flatten()]\n",
    "flip_asr = (output.argmax(dim=1)[flip_idx_atk]==args.target_class).float().mean()\n",
    "print(\"Flip ASR: {:.4f}/{} nodes\".format(flip_asr,flip_idx_atk.shape[0]))\n",
    "ca = test_model.test(induct_x,induct_edge_index,induct_edge_weights,data.y,idx_clean_test)\n",
    "print(\"CA: {:.4f}\".format(ca))"
   ]
  },
  {
   "cell_type": "code",
   "execution_count": null,
   "metadata": {},
   "outputs": [
    {
     "data": {
      "text/plain": [
       "tensor([0, 0, 0, 0, 0, 0, 0, 0, 0, 0, 0, 0, 0, 0, 0, 0, 0, 0, 0, 0, 0, 0, 0, 0,\n",
       "        0, 0, 0, 0, 3, 0, 0, 0, 0, 0, 0, 0, 0, 0, 0, 0, 0, 0, 0, 0, 0, 0, 0, 0,\n",
       "        0, 0, 0, 0, 0, 0, 0, 0, 0, 0, 0, 0, 0, 0, 0, 0, 0, 0, 0, 0, 0, 3, 0, 0,\n",
       "        0, 0, 0, 0, 0, 0, 0, 0, 0, 0, 0, 0, 0, 0, 0, 0, 0, 0, 0, 0, 0, 0, 0, 0,\n",
       "        0, 0, 0, 0, 0, 0, 0, 0, 0, 0, 0, 0, 0, 0, 0, 0, 0, 0, 3, 0, 0, 0, 0, 0,\n",
       "        0, 0, 0, 0, 0, 0, 0, 0, 0, 0, 0, 0, 0, 0, 0, 0, 0, 0, 0, 0, 0, 0, 0, 0,\n",
       "        0, 0, 0, 0, 0, 0, 0, 0, 0, 0, 0, 0, 0, 0, 0, 0, 3, 2, 0, 4, 0, 0, 0, 0,\n",
       "        0, 0, 0, 0, 0, 0, 0, 0, 0, 0, 0, 0, 0, 0, 0, 0, 0, 0, 0, 0, 0, 0, 0, 0,\n",
       "        0, 0, 0, 0, 0, 0, 0, 0, 0, 0, 0, 0, 0, 0, 0, 0, 0, 0, 0, 0, 0, 0, 0, 0,\n",
       "        0, 0, 0, 0, 0, 0, 0, 0, 0], device='cuda:3')"
      ]
     },
     "execution_count": 15,
     "metadata": {},
     "output_type": "execute_result"
    }
   ],
   "source": [
    "output[flip_idx_atk].argmax(dim=1)"
   ]
  },
  {
   "cell_type": "code",
   "execution_count": null,
   "metadata": {},
   "outputs": [],
   "source": [
    "# edge drop #\n",
    "def sample_noise_all(edge_index, edge_weight,device):\n",
    "    noisy_edge_index = edge_index.clone().detach()\n",
    "    if(edge_weight == None):\n",
    "        noisy_edge_weight = torch.ones([noisy_edge_index.shape[1],]).to(device)\n",
    "    else:\n",
    "        noisy_edge_weight = edge_weight.clone().detach()\n",
    "    # # rand_noise_data = copy.deepcopy(data)\n",
    "    # rand_noise_data.edge_weight = torch.ones([rand_noise_data.edge_index.shape[1],]).to(device)\n",
    "    m = Bernoulli(torch.tensor([0.5]).to(device))\n",
    "    mask = m.sample(noisy_edge_weight.shape).squeeze(-1).int()\n",
    "    # print('mask',mask)\n",
    "    rand_inputs = torch.randint_like(noisy_edge_weight, low=0, high=2).squeeze().int().to(device)\n",
    "    # print(rand_noise_data.edge_weight.shape,mask.shape)\n",
    "    noisy_edge_weight = noisy_edge_weight * mask #+ rand_inputs * (1-mask)\n",
    "        \n",
    "    if(noisy_edge_weight!=None):\n",
    "        noisy_edge_index = noisy_edge_index[:,noisy_edge_weight.nonzero().flatten().long()]\n",
    "        noisy_edge_weight = torch.ones([noisy_edge_index.shape[1],]).to(device)\n",
    "    return noisy_edge_index, noisy_edge_weight"
   ]
  },
  {
   "cell_type": "code",
   "execution_count": null,
   "metadata": {},
   "outputs": [],
   "source": [
    "# test robustness #\n",
    "for i in range(20):\n",
    "            test_model.eval()\n",
    "            noisy_poison_edge_index, noisy_poison_edge_weights = sample_noise_all(poison_edge_index, poison_edge_weights, device)\n",
    "            output = test_model(poison_x,noisy_poison_edge_index,noisy_poison_edge_weights)\n",
    "            train_attach_rate = (output.argmax(dim=1)[idx_attach]==args.target_class).float().mean()\n",
    "            train_clean_rate = (output.argmax(dim=1)[idx_train]==data.y[idx_train]).float().mean()\n",
    "            predictions.append(torch.exp(output[known_nodes]))"
   ]
  },
  {
   "cell_type": "code",
   "execution_count": null,
   "metadata": {},
   "outputs": [],
   "source": [
    "# torch.argmax(predictions[8][23868])"
   ]
  },
  {
   "cell_type": "code",
   "execution_count": null,
   "metadata": {},
   "outputs": [
    {
     "name": "stdout",
     "output_type": "stream",
     "text": [
      "index_of_less_robust tensor([557, 553, 554, 550, 560, 571, 555, 544, 558, 565, 548, 562, 547, 570,\n",
      "        543, 556, 443, 566, 559, 541, 567, 379, 569, 561, 292, 333, 414, 564,\n",
      "        549, 542, 563], device='cuda:3')\n",
      "count 26\n"
     ]
    },
    {
     "name": "stderr",
     "output_type": "stream",
     "text": [
      "/home/zbz5349/anaconda3/envs/spurious/lib/python3.8/site-packages/torch/nn/_reduction.py:42: UserWarning: size_average and reduce args will be deprecated, please use reduction='none' instead.\n",
      "  warnings.warn(warning.format(ret))\n"
     ]
    }
   ],
   "source": [
    "epsilon = 1e-8\n",
    "deviations = []\n",
    "for sub_pred in predictions:\n",
    "    sub_pred += epsilon\n",
    "    deviation = F.kl_div(sub_pred.log(), ori_predict, reduce=False)\n",
    "    deviations.append(deviation)\n",
    "\n",
    "summed_deviations = torch.zeros_like(deviations[0]).to(deviations[0].device)\n",
    "for deviation in deviations:\n",
    "    ##### summed deviations for each node #####\n",
    "    summed_deviations += deviation\n",
    "\n",
    "\n",
    "##### get the index for nodes with less robustness #####\n",
    "    \n",
    "##### args.vs_number is unknown #####\n",
    "index_of_less_robust = torch.sort(torch.mean(summed_deviations,dim=-1),descending=True)[1][:mask.sum()]\n",
    "print('index_of_less_robust',index_of_less_robust)\n",
    "\n",
    "##### count how many poisoned target nodes are selected in less robustness nodes #####\n",
    "count = 0\n",
    "dd = []\n",
    "for idx in index_of_less_robust:\n",
    "    if idx >= len(known_nodes)-args.vs_number:\n",
    "        count += 1\n",
    "        dd.append(idx)\n",
    "print('count',count)"
   ]
  },
  {
   "cell_type": "code",
   "execution_count": null,
   "metadata": {},
   "outputs": [
    {
     "data": {
      "text/plain": [
       "tensor([12.4577,  9.9363,  9.7744,  9.6951,  9.6502,  9.0988,  8.1278,  7.5710,\n",
       "         7.5393,  7.3728,  6.6465,  6.4928,  6.3946,  6.3736,  6.0384,  5.9185,\n",
       "         5.7984,  5.5552,  5.4952,  5.2455,  5.2004,  5.1461,  4.6186,  4.3596,\n",
       "         4.2763,  4.2441,  3.9821,  3.8788,  3.8605,  3.8514,  3.7410],\n",
       "       device='cuda:3', grad_fn=<SliceBackward0>)"
      ]
     },
     "execution_count": 21,
     "metadata": {},
     "output_type": "execute_result"
    }
   ],
   "source": [
    "torch.sort(torch.mean(summed_deviations,dim=-1),descending=True)[0][:mask.sum()]"
   ]
  },
  {
   "cell_type": "code",
   "execution_count": null,
   "metadata": {},
   "outputs": [
    {
     "name": "stdout",
     "output_type": "stream",
     "text": [
      "572\n"
     ]
    },
    {
     "data": {
      "text/plain": [
       "tensor(31, device='cuda:3')"
      ]
     },
     "execution_count": 22,
     "metadata": {},
     "output_type": "execute_result"
    }
   ],
   "source": [
    "print(len(ori_predict))\n",
    "mask.sum()"
   ]
  },
  {
   "cell_type": "code",
   "execution_count": null,
   "metadata": {},
   "outputs": [
    {
     "data": {
      "image/png": "[encoded data removed]",
      "text/plain": [
       "<Figure size 700x500 with 1 Axes>"
      ]
     },
     "metadata": {},
     "output_type": "display_data"
    }
   ],
   "source": [
    "\n",
    "\n",
    "# visualize robustness distribution #\n",
    "a=torch.mean(summed_deviations,dim=-1)\n",
    "a_excluding_last_40 = a[:-args.vs_number].detach().cpu()\n",
    "a_last=a[-mask.sum():].detach().cpu()\n",
    "\n",
    "\n",
    "a_last_40 = a[-args.vs_number:].detach().cpu()\n",
    "\n",
    "\n",
    "\n",
    "\n",
    "indices_to_remove = [i for i, node in enumerate(known_nodes[-args.vs_number:]) if data.y[node] == args.target_class]\n",
    "\n",
    "indices_to_remove = []\n",
    "\n",
    "a_last_list = list(a_last)\n",
    "\n",
    "indices_to_check = range(len(known_nodes[-args.vs_number:]))\n",
    "\n",
    "# indices_to_remove = []\n",
    "\n",
    "# ##### find those nodes that are already have target class or poisoned failed #####\n",
    "# for i in indices_to_check:\n",
    "#     condition1 = data.y[known_nodes[-args.vs_number:][i]] == args.target_class\n",
    "#     condition2 = output.argmax(dim=1)[idx_attach[i]] != args.target_class\n",
    "    \n",
    "#     if condition1 or condition2:\n",
    "#         indices_to_remove.append(i)\n",
    "\n",
    "# for index in sorted(indices_to_remove, reverse=True):\n",
    "#     del a_last_list[index]\n",
    "\n",
    "\n",
    "a_last_40 = a_last_list\n",
    "plt.figure(figsize=(7, 5))\n",
    "# plt.figure(figsize=(40, 24))\n",
    "##### benign nodes #####\n",
    "\n",
    "plt.hist(a_excluding_last_40, bins=15, alpha=0.5, label='Clean Nodes', density=True)\n",
    "plt.hist(a_last_40, bins=15, alpha=0.5, label='Poisoned Nodes',density=True)\n",
    "##### poisoned success nodes #####\n",
    "\n",
    "plt.legend(loc='upper right')\n",
    "plt.xlabel('Prediction Variance',fontsize=24)\n",
    "plt.ylabel('Frequency',fontsize=24)\n",
    "\n",
    "from matplotlib.ticker import FuncFormatter\n",
    "formatter = FuncFormatter(lambda x, pos: f'{x:.1f}')\n",
    "plt.xticks(fontsize=22)\n",
    "plt.yticks(fontsize=22)\n",
    "\n",
    "plt.legend(fontsize=26)\n",
    "\n",
    "plt.savefig('random_cora.pdf')\n",
    "plt.show()"
   ]
  },
  {
   "cell_type": "code",
   "execution_count": null,
   "metadata": {},
   "outputs": [
    {
     "data": {
      "image/png": "[encoded data removed]",
      "text/plain": [
       "<Figure size 700x500 with 1 Axes>"
      ]
     },
     "metadata": {},
     "output_type": "display_data"
    }
   ],
   "source": [
    "import numpy as np\n",
    "import matplotlib.pyplot as plt\n",
    "from matplotlib.ticker import FuncFormatter\n",
    "\n",
    "# Ensure a_excluding_last_40 is a numpy array\n",
    "if not isinstance(a_excluding_last_40, np.ndarray):\n",
    "    a_excluding_last_40 = a_excluding_last_40.detach().cpu().numpy()\n",
    "\n",
    "# Ensure a_last_40 is a numpy array\n",
    "if not isinstance(a_last_40, np.ndarray):\n",
    "    a_last_40 = np.array(a_last_40)\n",
    "\n",
    "# Calculate the histograms and convert them to percentages\n",
    "bins = 15\n",
    "hist_clean, bin_edges_clean = np.histogram(a_excluding_last_40, bins=bins, density=False)\n",
    "hist_poisoned, bin_edges_poisoned = np.histogram(a_last_40, bins=bins, density=False)\n",
    "\n",
    "# Calculate percentages\n",
    "hist_clean_percentage = hist_clean / np.sum(hist_clean) * 100\n",
    "hist_poisoned_percentage = hist_poisoned / np.sum(hist_poisoned) * 100\n",
    "\n",
    "# Plot the histograms\n",
    "plt.figure(figsize=(7, 5))\n",
    "\n",
    "# Benign nodes\n",
    "plt.hist(bin_edges_clean[:-1], bins=bin_edges_clean, weights=hist_clean_percentage, alpha=0.5, label='Clean Nodes', density=False)\n",
    "# Poisoned nodes\n",
    "plt.hist(bin_edges_poisoned[:-1], bins=bin_edges_poisoned, weights=hist_poisoned_percentage, alpha=0.5, label='Poisoned Nodes', density=False)\n",
    "\n",
    "# Add legend, labels, and formatters\n",
    "plt.legend(loc='upper right')\n",
    "plt.xlabel('Prediction Variance', fontsize=24)\n",
    "plt.ylabel('Percentage (%)', fontsize=24)\n",
    "\n",
    "formatter = FuncFormatter(lambda x, pos: f'{x:.0f}')\n",
    "plt.xticks(fontsize=22)\n",
    "plt.yticks(fontsize=22)\n",
    "plt.gca().yaxis.set_major_formatter(formatter)\n",
    "\n",
    "plt.legend(fontsize=26)\n",
    "plt.savefig('random_cora_UGBA.pdf')\n",
    "plt.show()"
   ]
  },
  {
   "cell_type": "code",
   "execution_count": null,
   "metadata": {},
   "outputs": [
    {
     "name": "stdout",
     "output_type": "stream",
     "text": [
      "5.798379\n",
      "2.96276\n"
     ]
    }
   ],
   "source": [
    "print(max(a_excluding_last_40))\n",
    "print(min(a_last_40))"
   ]
  },
  {
   "cell_type": "code",
   "execution_count": null,
   "metadata": {},
   "outputs": [],
   "source": [
    "output_clean = torch.exp(output_clean)"
   ]
  },
  {
   "cell_type": "code",
   "execution_count": null,
   "metadata": {},
   "outputs": [
    {
     "name": "stdout",
     "output_type": "stream",
     "text": [
      "tensor([0, 0, 0, 0, 0, 0, 0, 0, 0, 0, 0, 0, 0, 0, 0, 0, 0, 0, 0, 0, 0, 0, 0, 0,\n",
      "        0, 0, 0, 0, 0, 0, 0], device='cuda:3')\n"
     ]
    },
    {
     "name": "stderr",
     "output_type": "stream",
     "text": [
      "/home/zbz5349/anaconda3/envs/spurious/lib/python3.8/site-packages/torch/nn/_reduction.py:42: UserWarning: size_average and reduce args will be deprecated, please use reduction='none' instead.\n",
      "  warnings.warn(warning.format(ret))\n"
     ]
    },
    {
     "name": "stdout",
     "output_type": "stream",
     "text": [
      "[0.0046961260959506035, 0.0010995417833328247, 0.010220406576991081, 0.00462912255898118, 0.018106218427419662, 0.0005601385491900146, 0.00033551003434695303, 0.0002431421889923513, 6.272095197346061e-05, 5.181659435038455e-05, 0.0024458011612296104, 0.0012544364435598254, 0.000585808593314141, 6.784845027141273e-05, 8.976273966254666e-05, 0.0003491963434498757, 0.0002162110758945346, 0.0004854970029555261, 0.00027099839644506574, 0.15134714543819427, 0.012841922231018543, 7.681881470489316e-06, 4.566541065287311e-06, 2.372644075876451e-06, 0.00018851931963581592, 4.433494723343756e-06, 0.00011452570470282808, 0.00028513799770735204, 0.00041412151767872274, 6.464954640250653e-05, 2.4984550691442564e-05, 0.00010426543303765357, 0.002796505345031619, 0.00020342128118500113, 0.0004209770413581282, 0.000272780132945627, 0.00047842509229667485, 0.00010608137381495908, 9.344565478386357e-05, 6.218387716216967e-05, 6.0094058426329866e-05, 1.2051646990585141e-05, 0.005620154086500406, 1.647443241381552e-05, 8.082696149358526e-05, 0.00017112893692683429, 5.73854376852978e-05, 4.420057302922942e-05, 0.0006662447704002261, 0.0004908509436063468, 0.0012360636610537767, 0.009907925501465797, 0.003797422396019101, 0.02372785657644272, 0.10012049973011017, 0.13418973982334137, 0.001089088385924697, 0.00012722905375994742, 0.0011307623935863376, 0.006958643905818462, 0.061652522534132004, 0.0009245793335139751, 0.0030335881747305393, 0.013735155574977398, 0.00020677836437243968, 0.00021746117272414267, 3.6638230085372925e-05, 0.0007226483430713415, 0.00326980440877378, 0.00027500413125380874, 0.10686691850423813, 0.0009829330956563354, 2.2462436390924267e-05, 0.00024942203890532255, 2.1804125935886987e-05, 0.00010536611807765439, 6.972160190343857e-05, 0.0002079707192024216, 0.0005295222508721054, 9.333675552625209e-05, 0.0008084794390015304, 0.0001728562783682719, 5.372134910430759e-05, 0.0001886959362309426, 8.366669499082491e-05, 9.35275384108536e-05, 5.348609192878939e-05, 6.705722626065835e-06, 1.91157300832856e-06, 6.705722626065835e-06, 6.770116669940762e-06, 9.002590377349406e-05, 2.2638856535195373e-05, 3.350033921378781e-06, 0.07506336271762848, 0.00039454165380448103, 0.0001764224434737116, 0.0003738167870324105, 5.2480427257250994e-05, 0.00018528781947679818, 0.0511171855032444, 0.0023670222144573927, 0.0004735280526801944, 0.00027265932294540107, 0.0005051866173744202, 0.0005887544830329716, 0.0020000063814222813, 0.0005164731992408633, 0.005976120475679636, 0.019233468919992447, 0.1405353844165802, 0.0002142329467460513, 0.004441187717020512, 0.0029222869779914618, 0.0005473369965329766, 0.0008055624202825129, 0.0005917078233323991, 0.0002839624066837132, 0.0004403051279950887, 0.0005742466310039163, 0.00017447504797019064, 0.0010413918644189835, 0.0009204713860526681, 8.541532588424161e-05, 4.424527651281096e-05, 0.0003474280529189855, 9.162970673060045e-05, 4.666538370656781e-05, 0.001302114105783403, 0.00034568991395644844, 0.0012149232206866145, 6.789182225475088e-05, 0.00011310587433399633, 0.0012486095074564219, 0.002056546276435256, 0.03762265294790268, 0.0026737654116004705, 0.02739640325307846, 0.006598221138119698, 0.04059120640158653, 0.00918964110314846, 0.006243500392884016, 0.021442316472530365, 0.0009792341152206063, 0.0006746051367372274, 0.003222079249098897, 0.0012868563644587994, 0.0009510613163001835, 0.0005614582332782447, 0.016922174021601677, 0.0040613203309476376, 0.0016639435198158026, 0.00032931569148786366, 0.00026841595536097884, 0.025609197095036507, 0.07059936225414276, 0.0001548175496282056, 0.00025730914785526693, 0.0008546424214728177, 0.0002520162670407444, 0.0002518306428100914, 0.00017624050087761134, 0.0005656701396219432, 0.00015780795365571976, 0.22754976153373718, 7.597763033118099e-05, 1.5246948350977618e-05, 3.6432342312764376e-05, 2.1629302864312194e-06, 0.012122642248868942, 0.2187216728925705, 7.316251139855012e-05, 0.00010979450598824769, 0.00020390600548125803, 0.003683443646878004, 0.012396234087646008, 0.004346529021859169, 0.005550177302211523, 0.004330536350607872, 0.005848736967891455, 0.015393379144370556, 0.00022496523160953075, 0.0002309162518940866, 0.0008526451420038939, 0.0009234191384166479, 0.07213811576366425, 3.912095394298376e-07, 9.976232604458346e-07, 6.037922730683931e-07, 8.573037484893575e-05, 0.0013299161801114678, 0.0016743993619456887, 0.24061040580272675, 1.2061559573339764e-05, 7.723458111286163e-06, 6.1770638239977416e-06, 2.7583646442508325e-05, 8.6103034846019e-05, 0.0002266626397613436, 0.001572957611642778, 0.0009854207746684551, 0.0021043901797384024, 0.0005244204658083618, 0.0009638265473768115, 0.00038550954195670784, 0.0014123537112027407, 0.005465416237711906, 0.11566434055566788, 0.00019138885545544326, 2.175802546844352e-05, 9.014404895424377e-06, 5.974055238766596e-05, 0.00011834622273454443, 4.9619804485701025e-05, 2.463095552229788e-05, 2.6731886464403942e-05, 1.1905230167030822e-05, 6.181587195897009e-06, 7.713719242019579e-05, 0.0008916835067793727, 0.0024935193359851837, 0.0006790294428355992, 0.0016708816401660442, 0.001588827813975513, 0.001588827813975513, 0.004139268305152655, 0.00010205459693679586, 0.003890823107212782, 0.00017030032176990062, 0.00024696096079424024, 8.298696775455028e-05, 0.00036071136128157377, 0.0005000047385692596, 7.964072210597806e-06, 0.00013749554636888206, 8.515774243278429e-05, 3.2855466997716576e-05, 0.0001517372002126649, 0.00041602845885790884, 0.0002327574766241014, 4.586145223584026e-05, 0.00014267703227233142, 0.00013620173558592796, 0.00011722624185495079, 0.0009773385245352983, 0.0016571792075410485, 0.004298047628253698, 4.732476008939557e-05, 1.3492203834175598e-05, 0.0004834322608076036, 0.00024652137653902173, 6.404759187716991e-05, 4.1493614844512194e-05, 2.5549372367095202e-05, 2.296096135978587e-05, 3.5514658520696685e-05, 9.20178645174019e-05, 1.210972186527215e-05, 0.00016617575602140278, 9.87907151284162e-06, 0.00011114164954051375, 1.774329211912118e-05, 5.1262923079775646e-05, 1.6665353541611694e-06, 1.0776200724649243e-05, 3.8703903555870056e-05, 1.2086438800906762e-05, 2.4732735255383886e-05, 3.6752651340066222e-06, 8.863716357154772e-05, 0.00025079905753955245, 3.095716465395526e-06, 1.4461045793723315e-05, 3.1093135476112366e-05, 5.229243470239453e-06, 7.16399972588988e-06, 0.007512126117944717, 0.00026104654534719884, 0.027769364416599274, 0.044996943324804306, 4.6390126954065636e-05, 0.0006833684165030718, 0.0004345407651271671, 0.13116033375263214, 3.7701269320677966e-05, 2.4901970391510986e-05, 0.0010417172452434897, 6.562724593095481e-05, 3.046715573873371e-05, 8.592328958911821e-05, 3.453011595411226e-05, 8.489404535794165e-06, 0.0006823485600762069, 0.00039893455686978996, 0.0003403241862542927, 0.002034700009971857, 0.0013103262754157186, 0.001719307736493647, 0.0012102127075195312, 0.015463778749108315, 0.0005609675426967442, 0.000151331681990996, 6.0148275224491954e-05, 7.875902520027012e-05, 0.0011585041647776961, 0.002585792914032936, 0.001046989462338388, 0.0010320201981812716, 0.0010713773081079125, 0.0002453330089338124, 0.001687714015133679, 0.003825952298939228, 7.10298481862992e-05, 8.781666838331148e-05, 0.0013227352173998952, 0.0003298984083812684, 0.00022582577366847545, 0.0005101484712213278, 0.0006215772009454668, 0.0006215710891410708, 0.00047051641740836203, 0.0027482016012072563, 0.004863123409450054, 0.001646637450903654, 0.0012163094943389297, 0.01045130006968975, 0.0009726344724185765, 0.009094294160604477, 0.0010318724671378732, 8.552035978937056e-06, 3.381865326446132e-06, 2.4454202502965927e-06, 7.654810178792104e-05, 2.9921964596724138e-05, 3.3591011742828414e-05, 8.9432651293464e-05, 7.675202505197376e-05, 4.130748493480496e-05, 0.009986814111471176, 0.0006211815634742379, 0.0052624838426709175, 0.01351754367351532, 1.3443442185234744e-05, 5.073646207165439e-06, 1.671125346547342e-06, 0.00033857981907203794, 0.00019499087648000568, 0.00013236209633760154, 0.0012999996542930603, 8.867216092767194e-05, 0.0011161044239997864, 0.0007572701433673501, 4.519708818406798e-05, 0.0004406483785714954, 4.1269300709245726e-05, 7.060303323669359e-05, 0.00020609849889297038, 0.0002978021220769733, 0.0019460752373561263, 0.003574293339625001, 0.0030503286980092525, 0.020626060664653778, 0.07114972919225693, 0.0003098720626439899, 3.1824223697185516e-05, 8.452338079223409e-05, 0.00044515664922073483, 0.0001070538055500947, 0.011594323441386223, 0.008908885531127453, 0.00017139555711764842, 0.00026781990891322494, 0.00020271727407816797, 8.229485683841631e-05, 6.079301601857878e-05, 9.70384935499169e-05, 0.0002544365415815264, 0.00021165610814932734, 0.00018490638467483222, 0.00013785011833533645, 8.486358274240047e-05, 9.215982572641224e-05, 0.009598958306014538, 0.0026132450439035892, 0.2159755825996399, 0.008298739790916443, 0.010808308608829975, 0.009780103340744972, 0.0004705629835370928, 0.0009706628625281155, 0.008777683600783348, 0.017493879422545433, 0.0012614078586921096, 0.00041959970258176327, 0.00010445980296935886, 0.0004745056794490665, 0.00030653306748718023, 0.00015624133811797947, 3.069120430154726e-05, 0.00027627518284134567, 0.00014667266805190593, 0.0002169124927604571, 0.0007343300385400653, 0.0002860562817659229, 5.2987867093179375e-05, 5.4379794164560735e-05, 0.00023767871607560664, 3.9367670979117975e-05, 0.0003589099214877933, 0.002846114570274949, 0.003630390390753746, 0.00020902605319861323, 0.00893306266516447, 0.023913508281111717, 3.195447789039463e-05, 0.0004901628126390278, 1.899126436910592e-05, 0.00022087620163802058, 0.0006928404327481985, 7.581764293718152e-06, 3.2077146897790954e-05, 6.300051609287038e-05, 0.0005964016891084611, 1.533542490506079e-05, 0.00016818562289699912, 0.0003378573164809495, 0.00014966500748414546, 0.0022494846489280462, 0.0010213456116616726, 0.00018683662347029895, 0.00020005941041745245, 0.0021656183525919914, 0.0006732292822562158, 0.15189209580421448, 0.000644178013317287, 0.004906459245830774, 0.0006282454705797136, 0.009159727022051811, 9.879270692181308e-06, 2.3145428713178262e-05, 0.0004116104100830853, 8.85192202986218e-05, 0.022466814145445824, 5.5172615248011425e-05, 0.000652424234431237, 0.0013903622748330235, 0.022780396044254303, 0.03519473224878311, 3.060692051803926e-06, 4.8233864617941435e-06, 7.585955245303921e-06, 0.14499622583389282, 0.0003165783709846437, 0.0021246883552521467, 0.002257521264255047, 0.19315366446971893, 0.016561394557356834, 0.0004845128860324621, 0.00030531975789926946, 0.000574531324673444, 0.0001403042842866853, 5.381740993470885e-05, 3.2805706723593175e-05, 0.00012987494119443, 0.00011944718426093459, 0.0006693641771562397, 0.0005332476575858891, 0.005941818933933973, 0.00017465172277297825, 0.0003049011866096407, 0.0011857588542625308, 0.0003924263291992247, 5.206309651839547e-05, 6.819367263233289e-05, 0.001039608963765204, 0.0005888824816793203, 0.00022577682102564722, 0.001199259888380766, 0.00026285144849680364, 0.0007940494106151164, 0.00029611881473101676, 0.0068823667243123055, 0.026598893105983734, 0.0007229062030091882, 0.0028011396061629057, 0.002632809104397893, 0.00015995316789485514, 0.00033788589644245803, 2.209087324445136e-05, 0.00040146391256712377, 0.0006987546221353114, 0.0048658521845936775, 5.007987783756107e-05, 0.0018830071203410625, 0.007201655767858028, 0.002182317664846778, 0.016878163442015648, 0.002575526712462306, 0.002131536602973938, 0.000780459784436971, 0.002963791135698557, 0.0018198040779680014, 0.0019605224952101707, 0.008954940363764763, 0.007264625746756792, 0.0076261255890131, 0.000930740381591022, 0.002400842262431979, 0.0030434781219810247, 0.0017412686720490456, 0.00012812843488063663, 1.5690391592215747e-05, 0.0004445701779332012, 0.03166886791586876, 0.017752666026353836, 0.01422865130007267, 0.0005304052610881627, 0.0005309513071551919, 0.15045422315597534, 1.478734066040488e-05, 7.042827928671613e-05, 9.200801969200256e-07, 2.0187149857520126e-05, 0.018912101164460182, 0.002837758045643568, 0.0004329053626861423, 0.00027721855440177023, 0.006161315832287073, 0.00020407726697158068, 0.2462371289730072, 0.16149431467056274, 4.3559288315009326e-05, 0.00865514762699604, 0.002874956699088216, 0.0004120969388168305, 9.710352060210425e-06, 1.2500178854679689e-05, 0.0008993546362034976, 7.316011760849506e-05, 9.610674169380218e-05, 0.0019330547656863928, 0.0004135370545554906, 0.02596895582973957, 0.005347224418073893, 0.002347295405343175, 0.004098567645996809, 0.012470858171582222, 0.0019695269875228405, 0.0004469481064006686, 0.02950318530201912, 0.00883832760155201, 0.001706878887489438, 0.00024239267804659903, 0.0005691217957064509, 0.0022369034122675657, 2.288426003360655e-05, 7.87793833296746e-05, 4.9577261961530894e-05, 3.426867988309823e-05, 0.0001307289639953524, 4.610472751664929e-05, 0.00026965513825416565, 6.228625716175884e-05, 2.7403901185607538e-05, 1.2528750630735885e-05, 0.0003151766723021865, 0.010046018287539482, 0.00031866878271102905, 0.0033680745400488377, 0.00011597521370276809, 0.02728753350675106, 0.004739760421216488, 0.18690980970859528, 0.0010550773004069924, 0.0006913609686307609, 0.00014823995297774673, 0.0024785713758319616, 4.0625538531458005e-05, 5.294095171848312e-05, 0.005205093417316675, 0.012816998176276684, 0.019834233447909355, 2.9228354833321646e-05, 0.0004058037593495101, 0.0002306718088220805, 0.0002685104263946414, 0.0003512358234729618, 0.0029747465159744024, 0.0015703801764175296, 0.00012050835357513279, 1.4615162399422843e-05, 1.6977179257082753e-05, 7.802472828188911e-05, 8.050502401601989e-06, 4.444938531378284e-05, 0.0002845158742275089, 1.1331268979120068e-05, 6.686630513286218e-05, 2.749211125774309e-05, 6.008308264426887e-05, 0.00014044504496268928, 2.3722117475699633e-05, 0.0003434568934608251, 0.00011534776422195137, 3.450896110734902e-05, 4.844154682359658e-05, 7.206308509921655e-06, 0.00012450931535568088, 0.020267559215426445, 0.00019930543203372508, 7.149444718379527e-05, 2.2014870410203002e-05, 9.420527931069955e-05, 0.050714027136564255, 0.004097647033631802, 0.013623553328216076, 0.0010969575960189104, 0.0009632502333261073, 0.000844350375700742, 0.00023863810929469764, 0.004553769715130329, 0.00040905337664298713, 0.002966760192066431, 0.0016818168805912137, 0.0004863964859396219, 2.0050711100338958e-05, 3.8592810597037897e-05, 1.3788231626676861e-05, 1.7051452232408337e-05, 2.2652160623692907e-05, 8.926062037062366e-06, 5.301354576658923e-06, 3.2233409001491964e-05, 3.4079024771926925e-05, 1.0751255103969015e-05, 1.379887544317171e-05, 0.007735499180853367, 0.01614726148545742, 0.0004508293350227177, 0.0018796533113345504, 0.0008027612348087132, 0.0016647141892462969, 0.0019377657445147634, 0.0007162424153648317, 0.0042730532586574554, 5.159248030395247e-05, 0.00041747133946046233, 0.0009086846839636564, 0.001047604251652956, 0.0033714165911078453, 0.011787018738687038, 0.0026285916101187468, 0.0006699113873764873, 0.05814964696764946, 0.002126935636624694, 0.009277921169996262, 1.819736644392833e-05, 0.007592355832457542, 0.0011472111800685525, 0.0004450074047781527, 0.0033795605413615704, 0.014678975567221642, 0.010065700858831406, 0.005075673572719097, 0.002183302538469434, 0.001712943078018725, 0.0007121084490790963, 0.0004871030105277896, 0.0002755320747382939, 0.0008346470422111452, 0.0006836142274551094, 0.0013943453086540103, 0.022372758015990257, 0.0010851651895791292, 0.0015860903076827526, 0.00023773021530359983, 0.0010905690724030137, 0.0003200142236892134, 0.0006038876599632204, 0.00023926649009808898, 0.00023973907809704542, 0.0006720366654917598, 1.9931369024561718e-05, 0.0014692220138385892, 0.0009814435616135597, 0.00015724504191894084, 0.00048066466115415096, 9.92289642454125e-05, 2.5740360797499306e-05, 0.00016046273231040686, 6.018828571541235e-05, 0.00081379379844293, 0.0005111532518640161, 0.0004322175227571279, 0.0012361019616946578, 1.7531749108457007e-05, 0.0013193496270105243, 9.687671263236552e-05, 0.0008828688296489418, 0.001654927502386272, 0.058375198394060135, 0.00015118252485990524, 0.0008107015746645629, 0.0002888528979383409, 0.000541810761205852, 1.0973807320624474e-06, 2.5835554424702423e-06, 1.336115360572876e-06, 0.0011703207856044173, 0.0012869331985712051, 0.000365412823157385, 2.805010581141687e-06, 1.0439460993438843e-06, 1.7170928003906738e-06, 3.3554223932696914e-07, 9.592622518539429e-07, 1.9433377929090057e-06, 1.1139284197270172e-06, 1.4835636648058426e-05, 2.1619989354348945e-07, 1.9381488982617157e-06, 2.353518766540219e-06, 3.825474323093658e-06, 3.89512388210278e-06, 0.0016067561227828264, 0.006776290480047464, 0.006310807541012764, 8.77108977874741e-05, 0.00024496845435351133, 6.206493708305061e-05, 0.00013205729192122817, 0.00010165852290811017, 0.0002260518231196329, 2.452012813591864e-05, 6.44515148451319e-06, 2.4613726054667495e-05, 7.13918643668876e-06, 0.04142162948846817, 0.008066194131970406, 0.051940400153398514, 0.000500023365020752, 0.00043796710087917745, 0.0008546077297069132, 6.708902219543234e-05, 1.857209463196341e-05, 5.745927751377167e-07, 1.0399206985312048e-05, 2.586133177828742e-06, 1.636051081277401e-07, 0.00010966583067784086, 0.0005971004138700664, 0.00015422875003423542, 0.0007903084042482078, 0.0017899509984999895, 0.004091606475412846, 0.0008087392779998481, 0.0004760570009239018, 0.29585957527160645, 0.0006256122142076492, 0.0010536162881180644, 0.00017460303206462413, 0.0004425813676789403, 0.0010054275626316667, 0.00019575117039494216, 0.000824378861580044, 8.35142272990197e-05, 0.028480539098381996, 3.3074524253606796e-05, 4.7491532313870266e-05, 0.01932401955127716, 0.0014378202613443136, 0.008190291933715343, 0.009405011311173439, 0.0035442919470369816, 0.007302982732653618, 0.0006948967929929495, 0.00048147994675673544, 0.01883365586400032, 0.006924010813236237, 0.02190319448709488, 0.009998012334108353, 0.0009653732413426042, 0.0023533590137958527, 0.1285831183195114, 0.001634548301808536, 0.0038357656449079514, 0.004903127439320087, 0.004497345071285963, 0.0007282756851054728, 4.82447721878998e-05, 6.246653356356546e-05, 0.0007981808739714324, 0.000497003085911274, 0.00039770122384652495, 3.6658719182014465e-05, 8.989258640212938e-05, 0.00013685865269508213, 0.00021303154062479734, 0.0002184100594604388, 0.004545988980680704, 0.0027990001253783703, 0.004366626963019371, 0.006348354741930962, 0.06846705824136734, 0.35542556643486023, 0.00026316355797462165, 1.6243064237642102e-05, 0.0003884714387822896, 5.6282751756953076e-05, 7.817920959496405e-06, 6.392199338733917e-07, 4.215099579596426e-06, 2.874061692637042e-06, 2.9715843083977234e-06, 7.217284746730002e-06, 5.922147465753369e-06, 7.2675761657592375e-06, 5.120444984640926e-05, 1.1580331147342804e-06, 1.2353461897873785e-05, 6.063176442694385e-06, 2.7588437205849914e-06, 4.015464128315216e-06, 0.00019953932496719062, 8.612445526523516e-05, 0.00014764178195036948, 0.0015505001647397876, 0.002323776949197054, 0.0008078817627392709, 0.00014361257490236312, 5.2519379096338525e-05, 1.944734776770929e-06, 4.904680827166885e-05, 0.00039555778494104743, 6.99090651323786e-06, 0.00011247270595049486, 9.942460746970028e-05, 7.860249752411619e-05, 4.277724292478524e-05, 0.0026560788974165916, 0.011619756929576397, 4.0068625821731985e-05, 3.962771006627008e-05, 0.0002083952713292092, 0.00013146789569873363, 0.0003123306087218225, 0.0002429444866720587, 9.207447874359787e-05, 0.00015830807387828827, 0.3886876404285431, 0.00043441596790216863, 0.0004790394159499556, 0.00023936321667861193, 0.0003463948087301105, 5.142098234500736e-05, 2.0018913346575573e-05, 0.0001540567318443209, 8.726652595214546e-05, 0.000544071604963392, 0.00012457797129172832, 4.283784801373258e-05, 7.291417568922043e-05, 1.2903075912618078e-05, 1.7644837498664856e-05, 0.00011935378279304132, 4.010288466815837e-05, 0.00011178119893884286, 0.24019326269626617, 0.028535734862089157, 0.009286266751587391, 0.0021432817447930574, 0.0010000723414123058, 0.0022671862971037626, 7.451240526279435e-05, 9.128757483267691e-06, 6.932514224899933e-05, 0.000577689555939287, 0.009821896441280842, 4.2208204831695184e-05, 4.3112253479193896e-05, 3.711031240527518e-05, 0.00012748439621645957, 2.9222275770734996e-05, 0.0001560656528454274, 0.0006926182541064918, 0.0035632506478577852, 0.0005850134766660631, 7.15404748916626e-05, 5.5325886933133006e-05, 7.84657895565033e-05, 0.3650011420249939, 0.0006094500422477722, 0.0006269881851039827, 0.003925842698663473, 4.496425754041411e-05, 0.00026412628358229995, 0.0006607473478652537, 0.281095951795578, 0.0008104912121780217, 0.00043196819024160504, 0.0005174620309844613, 0.0008153995731845498, -7.716673522395467e-09, -7.716673522395467e-09, 0.019435206428170204, 0.20481806993484497, 0.005546108353883028, 0.003983020782470703, 0.000838358246255666, 4.842398629989475e-05, 4.387188164400868e-05, 6.358738028211519e-05, 4.6562538045691326e-05, 1.5581759726046585e-05, 2.9228354833321646e-05, 0.0004058037593495101, 0.0002306718088220805, 1.685308052401524e-05, 0.00026579448604024947, 8.244819764513522e-05, 5.7432469475315884e-05, 0.15214043855667114, 0.005911534186452627, 0.0025468943640589714, 0.0002662861661519855, 0.00044857844477519393, 2.808203862514347e-05, 0.0001899139751913026, 3.4578944905661047e-05, 1.640671143832151e-05, 0.00014641376037616283, 8.53796664159745e-05, 8.093725773505867e-05, 0.0002776089240796864, 0.0015456605469807982, 0.0034677686635404825, 2.5278755856561475e-05, 0.0004405803920235485, 0.002916019642725587, 0.11240232735872269, 0.026811422780156136, 0.00025503209326416254, 0.0006218671915121377, 0.00016102181689348072, 5.8491667005000636e-05, 0.0008720512269064784, 1.3784971997665707e-05, 0.00033110787626355886, 0.0019775470718741417, 0.0016118485946208239, 0.0004764292680192739, 0.0029752394184470177, 0.0024116006679832935, 0.0007850820547901094, 0.015485401265323162, 0.04408920556306839, 8.812480518827215e-05, 0.0030122357420623302, 0.002378297271206975, 0.0009580340120010078, 1.2887775483250152e-05, 5.958675319561735e-05, 7.059625204419717e-06, 4.2076622776221484e-05, 1.6638477973174304e-05, 2.876123744499637e-06, 0.00010698229016270489, 6.025524271535687e-06, 6.298029620666057e-05, 1.4335183550429065e-05, 7.143244602048071e-06, 2.4705993837415008e-06, 1.3617267313748016e-06, 0.0012200208147987723, 0.008022068999707699, 0.0009555218275636435, 0.32586097717285156, 0.001460702857002616, 0.0002868376614060253, 5.6763848988339305e-05, 0.0022956309840083122, 0.0002906884183175862, 0.00022735846869181842, 0.005458704195916653, 0.03235941007733345, 0.00020887823484372348, 1.3594582924270071e-05, 0.00039987967466004193, 2.0912117179250345e-05, 0.00031468115048483014, 0.003149175550788641, 0.0005922409472987056, 0.004383682738989592, 8.752436770009808e-06, 0.00010264518641633913, 0.00047942466335371137, 0.00012932851677760482, 9.550407412461936e-05, 0.00011856654600705951, 1.252974834642373e-05, 3.684990952024236e-05, 5.953107392997481e-05, 3.813646253547631e-05, 2.1947947971057147e-05, 0.00012696681369561702, 4.172990429651691e-06, 1.1464980161690619e-05, 5.0126844143960625e-05, 0.00021717471827287227, 1.1969890692853369e-05, 7.143111361074261e-06, 0.0004281810251995921, 0.0001229617337230593, 4.102609182154993e-06, 0.00015349846216849983, 9.642381883168127e-06, 3.070969796681311e-06, 9.15184136829339e-06, 4.406211883178912e-05, 9.025404142448679e-05, 4.221605558996089e-05, 0.00029471737798303366, 0.0010865177027881145, 7.055700280034216e-06, 8.074566721916199e-06, 0.000182173156645149, 0.00018226569227408618, 1.861447799456073e-06, 1.1101099516963586e-05, 0.00045523702283389866, 8.176919800462201e-05, 6.678367935819551e-05, 0.0007448916439898312, 3.6097000702284276e-05, 0.000169694161741063, 0.00012326525757089257, 3.287647996330634e-05, 1.2381983651721384e-05, 0.15873032808303833, 0.0016953246667981148, 0.0006968241068534553, 0.0037262914702296257, 0.008065703324973583, 0.00046440656296908855, 0.00011301786435069516, 0.0011348543921485543, 2.659032543306239e-05, 0.0001609643513802439, 0.00014774169540032744, 2.7286554541205987e-05, 3.5855653550243005e-05, 0.00017829878197517246, 0.000493433210067451, 2.5550569262122735e-05, 0.0001187162270070985, 0.00016322759620379657, 0.0006292292382568121, 2.231821599707473e-05, 0.001474900753237307, 4.8601072194287553e-05, 0.00044074098696000874, 0.00022584214457310736, 0.0006909974617883563, 0.0001402610505465418, 0.0014458124060183764, 0.0001755150587996468, 0.00010224671859759837, 6.333113560685888e-05, 2.175260306103155e-05, 9.771752957021818e-06, 4.5460183173418045e-06, 4.942695341014769e-06, 0.031317055225372314, 0.029734710231423378, 0.007393347565084696, 0.002915765158832073, 0.001832499634474516, 0.0023805524688214064, 0.0020051365718245506, 0.0009771410841494799, 0.00015579044702462852, 0.00017300395120400935, 5.9601854445645586e-05, 0.000165473684319295, 0.0010045362869277596, 0.0002598591090645641, 0.00010290116915712133, 3.705879134940915e-05, 0.00017065256542991847, 0.0014204607577994466, 0.002542136935517192, 0.0012275640619918704, 0.000917973811738193, 0.003202830208465457, 0.014948775060474873, 0.005172028671950102, 0.009529301896691322, 0.02219180017709732, 0.007195115555077791, 0.0002287221868755296, 0.0003695525520015508, 4.294089012546465e-05, 0.0003758759412448853, 0.000994870439171791, 0.00024684093659743667, 0.0009986263466998935, 0.00020537340606097132, 0.00012046325718984008, 0.0014885013224557042, 0.008042976260185242, 0.005887233652174473, 0.07566176354885101, 6.72778842272237e-05, 0.0004647033638320863, 0.0005727045936509967, 1.7884121916722506e-05, 0.0006201291689649224, 0.00033678009640425444, 0.00030858602258376777, 0.00045337583287619054, 0.0011828510323539376, 0.0005210127565078437, 0.0014577710535377264, 0.011938066221773624, 0.00014703720808029175, 0.00038555910577997565, 0.00010030304838437587, 0.0003233476309105754, 0.00047973106848075986, 0.0009160448098555207, 0.0005889263702556491, 0.00019045827502850443, 8.551404607715085e-05, 0.00012498642900027335, 0.0012031719088554382, 8.269679528893903e-05, 2.8152551749371924e-05, 0.0006368860485963523, 0.00046321950503624976, 6.147088424768299e-05, 3.4477561712265015e-05, 0.0011474816128611565, 0.0003384250740054995, 1.3486483112501446e-05, 0.0008753419970162213, 0.002374243689700961, 0.0006501830648630857, 0.010781043209135532, 0.005787104833871126, 0.0009446021867915988, 0.0005741943023167551, 1.6713514924049377e-05, 3.2090716558741406e-05, 1.1359475138306152e-06, 1.5894484022282995e-05, 0.0005193094839341938, 0.00013879500329494476, 1.6265948943328112e-05, 2.67526411334984e-05, 2.3894810510682873e-05, 0.00014965450100135058, 5.785296161775477e-05, 1.6806914572953247e-05, 2.602913582450128e-06, 0.00018612535495776683, 6.930995732545853e-05, 4.848292519454844e-05, 6.930995732545853e-05, 0.11594714224338531, 0.047329891473054886, 1.2194339433335699e-05, 9.114854037761688e-06, 2.7085523015557555e-06, 2.08414039661875e-05, 4.6406475462390517e-07, 2.936460305136279e-06, 1.5635575891792541e-06, 1.2003151823591907e-05, 3.172483957314398e-06, 1.2975319805264007e-05, 1.9946668544434942e-05, 2.050586226687301e-05, 3.1784711040927505e-07, 3.3634050851105712e-06, 5.01450699630368e-07, 1.3356363524508197e-05, 8.804990102362353e-06, 1.5070130530148163e-06, 4.048326445627026e-06, 2.4667011530254968e-05, 5.070386350780609e-07, 5.671754479408264e-07, 3.925258624803973e-06, 9.062434401130304e-06, 0.3672255873680115, 5.5876960686873645e-05, 0.0001352224498987198, 1.4500426914310083e-05, 1.057689769368153e-05, 2.4273460439871997e-05, 3.909239967470057e-05, 1.0505851605557837e-05, 3.0304174288176e-05, 6.601720087928697e-05, 0.000510977057274431, 2.340972605452407e-05, 8.14625236671418e-05, 1.8277140043210238e-05, 0.0001650888443691656, 0.0006027018534950912, 3.3334697491227416e-06, 0.00013943036901764572, 0.00012581476767081767, 0.0009168421383947134, 4.288647687644698e-05, 0.007310379296541214, 0.007557344157248735, 2.7891250283573754e-05, 6.0754697187803686e-05, 2.6813309887074865e-05, 0.00034321434213779867, 4.1209761548088863e-05, 4.038284532725811e-05, 6.563249917235225e-05, 0.12124107778072357, 0.00010944233508780599, 0.00025561402435414493, 7.789475785102695e-05, 4.859322143602185e-05, 0.0006707975990138948, 4.853042264585383e-05, 9.260114165954292e-05, 0.00030788566800765693, 7.958444621181116e-05, 0.0001870079868240282, 0.0002109158376697451, 7.178208761615679e-05, 7.858021126594394e-05, 0.002344999462366104, 0.00042773704626597464, 0.002228441182523966, 0.00312830600887537, 0.0012340591056272388, 0.004246228840202093, 0.011096630245447159, 6.577465683221817e-08, 6.514269301760578e-08, 3.0765909286856186e-06, 2.0594536636053817e-06, 5.109135940983833e-07, 1.1774578645429301e-08, 6.293080190289402e-08, 3.256302960608082e-08, 1.0328534472137108e-06, 9.995087424385929e-09, 3.2542075132369064e-06, 4.925532266497612e-07, 8.279956773549202e-07, 1.7878068803156566e-08, 3.1781382858753204e-08, 4.604392529472534e-07, 2.537854193462863e-08, 1.273184579986264e-06, 9.995087424385929e-09, 7.631673724972643e-06, 1.021793991640152e-07, 5.5596633075083446e-08, 8.465057277362575e-08, 1.0207961054220505e-07, 3.55781878624839e-07, 1.0611090601742035e-06, 3.3981635283453215e-07, 1.9170279301761184e-06, 1.9740713241844787e-07, 8.381903882082042e-08, 1.8634767684488907e-07, 1.2329380751907593e-06, 5.403999239206314e-07, 4.799055659532314e-06, 9.75111447587551e-07, 6.629021527260193e-07, 2.637804925598175e-07, 2.0334264263510704e-06, 2.581260503120575e-07, 9.995087424385929e-09, 3.156518602054348e-08, 2.498605624623451e-07, 2.357909352213028e-07, 1.9956913899221718e-10, 3.1496998076363525e-07, 1.1227426455207024e-07, 8.756095581929912e-08, 9.961826030746579e-09, 2.1353896428877306e-08, 1.843020953629093e-07, 1.3587332148290443e-07, 6.178436888149008e-05, 4.299161446397193e-05, 0.0727468729019165, 0.0008189270156435668, 0.001885919482447207, 0.004649391397833824, 0.0017540780827403069, 0.0014576992252841592, 0.0005234320415183902, 0.004479851108044386, 0.002273107413202524, 0.0008915351936593652, 0.004550463519990444, 0.02729744277894497, 0.01804923079907894, 0.016926657408475876, 0.04134960100054741, 0.003292572684586048, 0.006608279887586832, 0.00043138492037542164, 0.013076904229819775, 0.007259306963533163, 0.000843844551127404, 0.00020060395763721317, 0.0003138535830657929, 0.0002798518107738346, 0.0017239457229152322, 0.0018630882259458303, 0.001574627822265029, 0.0022996903862804174, 0.00030471011996269226, 5.26696203451138e-05, 3.303521225461736e-05, 2.8580959678947693e-06, 0.0018985490314662457, 0.001132032717578113, 0.0030234919395297766, 7.532723248004913e-05, 0.0001179852697532624, 0.0013648219173774123, 0.0009319420787505805, 0.06089267507195473, 0.0009296914795413613, 0.0014087981544435024, 0.044504936784505844, 0.0264741200953722, 0.0008952158968895674, 0.000739161332603544, 0.00020832409791182727, 0.0002666874206624925, 9.103944466914982e-05, 6.0891736211488023e-05, 0.30628713965415955, 0.0005699798348359764, 0.0009018999990075827, 0.0005534030497074127, 0.06921850889921188, 0.006758435163646936, 0.004262569360435009, 0.008294505998492241, 0.0006958668818697333, 0.0021909154020249844, 4.427960084285587e-05, 0.00010654051584424451, 0.0008698169840499759, 0.0006412592483684421, 0.001413744525052607, 0.0007219607359729707, 0.0015950006200000644, 0.0006392853683792055, 0.00010956198821077123, 0.0026251019444316626, 0.005043724551796913, 0.02379271760582924, 0.012771698646247387, 8.115012860798743e-06, 6.1379482758638915e-06, 0.00016120861982926726, 0.00012216744653414935, 7.414006540784612e-05, 3.192267831764184e-05, 1.9027586404263275e-06, 4.2112547816941515e-05, 1.036495541484328e-05, 5.5744480960129295e-06, 0.008923612534999847, 0.0025448380038142204, 0.013938864693045616, 0.00023994808725547045, 0.00022094431915320456, 0.00011291993723716587, 0.00025385033222846687, 0.08054518699645996, 0.00047119840746745467, 0.002366953296586871, 0.0069664837792515755, 0.00035780828329734504, 1.7453518012189306e-05, 6.811800267314538e-05, 0.00037242393591441214, 0.0001639875554246828, 0.0001147892398876138, 0.00038158282404765487, 0.002153990790247917, 0.0020312664564698935, 0.018195535987615585, 6.28656052867882e-05, 9.193032019538805e-05, 1.7476402717875317e-05, 9.796981430554297e-06, 8.361973596038297e-05, 0.00020355758897494525, 2.9328679374884814e-05, 0.00012392258213367313, 0.00031494483118876815, 0.0005461491527967155, 2.5752400688361377e-05, 7.838975761842448e-06, 1.3605675121652894e-05, 0.12660127878189087, 8.389859431190416e-05, 0.00025171987363137305, 5.779801358585246e-05, 0.09674929082393646, 0.011504072695970535, 0.004550844430923462, 0.0011151391081511974, 0.00019116913608741015, 0.0009799142135307193, 0.01660616137087345, 0.005731340032070875, 0.00037852011155337095, 0.0018407480092719197, 0.001849780441261828, 0.008993426337838173, 0.00015764377894811332, 0.0001664342707954347, 0.0012788544408977032, 0.0007977767963893712, 0.0006977535667829216, 0.4697292447090149, 0.003184183035045862, 0.004459095187485218, 0.0014946560841053724, 4.7370594984386116e-05, 0.00015025846369098872, 1.1299870493530761e-05, 2.0522425984381698e-05, 0.00023077336663845927, 0.00025386596098542213, 1.0071855285787024e-05, 6.6282232182857115e-06, 3.45743537764065e-05, 1.1029054803657345e-05, 2.134378519258462e-05, 1.0447111890243832e-05, 5.502746353158727e-05, 0.00015840650303289294, 2.799555886667804e-06, 6.104071508161724e-05, 6.499098526546732e-05, 1.9777301076828735e-06, 5.349716502678348e-06, 3.6168578390061157e-06, 1.9777301076828735e-06, 0.0025289785116910934, 0.0006087933434173465, 0.0005688717938028276, 0.015088063664734364, 0.001028026919811964, 0.007077647838741541, 0.0011375171598047018, 0.00021559945889748633, 0.0013561906525865197, 0.001557046896778047, 0.016609689220786095, 0.006032415200024843, 0.00018050189828500152, 0.00011479589011287317, 0.0001697396655799821, 7.136139902286232e-05, 0.003930943552404642, 0.01216067560017109, 0.22325043380260468, 0.0003939795424230397, 0.0007113066967576742, 0.00018005087622441351, 0.00022849335800856352, 0.00025742396246641874, 0.00010933142038993537, 3.144610673189163e-05, 0.0001689577620709315, 0.00022481835912913084, 0.00020011035667266697, 0.0004435370792634785, 0.22319915890693665, 0.0077368030324578285, 0.0016388553194701672, 0.008830329403281212, 0.0011400687508285046, 0.0004435068112798035, 0.00011126519530080259, 3.28010501107201e-05, 2.8914007998537272e-05, 6.138147909950931e-06, 0.0001751577074173838, 0.00018213903240393847, 0.005794117692857981, 0.001968836411833763, 0.21056434512138367, 0.07239936292171478, 9.475901606492698e-05, 1.1659361007332336e-05, 1.4498298696707934e-05, 0.0002500363625586033, 1.0109905815625098e-05, 0.00018812438065651804, 0.0004108712018933147, 0.0005967345205135643, 0.00013261815183795989, 0.0004350154777057469, 0.0023581520654261112, 0.000378530501620844, 0.0005256200674921274, 0.00022395075939130038, 1.9713172150659375e-05, 1.3466259588312823e-05, 0.00021208990074228495, 2.650901706147124e-06, 0.00017948492313735187, 5.329976920620538e-05, 1.2873922059952747e-05, 9.794819561648183e-06, 2.920195402111858e-05, 0.002617389429360628, 0.0012393220094963908, 3.619585186243057e-05, 0.0008835746557451785, 6.550976831931621e-05, 6.888122152304277e-05, 0.0005926338490098715, 0.00015192519640550017, 0.001087580225430429, 0.00016389308439102024, 8.16284300526604e-05, 0.00021101468882989138, 0.0038102681282907724, 0.02755783684551716, 0.0003315024368930608, 9.025407780427486e-05, 0.0002892428601626307, 0.0015537888975813985, 0.000851375749334693, 0.14890073239803314, 0.0007997810025699437, 5.151491131982766e-05, 0.00023877728381194174, 0.0003014547692146152, 0.00010719470446929336, 1.4727137568115722e-05, 0.00017545746231917292, 0.00023235513071995229, 0.0005836272030137479, 0.0016870899125933647, 0.0010409371461719275, 0.010829154402017593, 0.03516572341322899, 0.0008828627178445458, 0.01087284367531538, 0.0030524088069796562, 0.00018375288345851004, 0.00010129650036105886, 1.543627331557218e-05, 5.680242975358851e-05, 3.3153221011161804e-05, 0.00032303936313837767, 1.3363149264478125e-05, 3.2612257200526074e-05, 9.663935634307563e-05, 0.00023387267719954252, 0.0001258081174455583, 8.503508070134558e-06, 9.524110646452755e-05, 0.00012747172149829566, 0.0005261804908514023, 0.0006742846453562379, 0.0002050886832876131, 0.00017891825700644404, 0.000578810868319124, 9.965740900952369e-05, 3.967916654801229e-06, 6.396779645001516e-05, 0.000989793217740953, 0.003985443152487278, 0.0005807919660583138, 0.05531097948551178, 0.00010493278387002647, 6.885534094180912e-05, 9.421406139153987e-05, 0.00017100294644478709, 0.0003389021730981767, 0.00012910363147966564, 1.3780398148810491e-05, 0.00029650257783941925, 0.00017098098760470748, 0.09755578637123108, 0.017450910061597824, 7.906280370661989e-05, 1.9181919924449176e-05, 7.798396836733446e-05, 2.979610326292459e-05, 9.21787868719548e-05, 0.1758262813091278, 0.010134551674127579, 0.007465938106179237, 0.0015251168515533209, 0.0005920224939472973, 0.005713338498026133, 0.01751728728413582, 0.0116202924400568, 0.1227666437625885, 0.12361735850572586, 0.0002264275390189141, 0.000401614117436111, 0.0025037878658622503, 0.001143387402407825, 0.043041154742240906, 0.05216497555375099, 0.26009601354599, 0.15270288288593292, 0.007519209291785955, 0.016684317961335182, 6.590464909095317e-05, 4.161828110227361e-05, 0.14456385374069214, 0.0021933873649686575, 0.00025446846848353744, 0.0004434384754858911, 1.4204889339453075e-05, 3.489130222078529e-06, 0.000153509114170447, 8.074580546235666e-05, 2.4520393253624206e-06, 2.4520393253624206e-06, 0.0027942839078605175, 0.0016359526198357344, 8.184912303477176e-07, 9.756602139532333e-07, 0.0023178760893642902, 0.18731461465358734, 0.03441775590181351, 0.0726182758808136]\n"
     ]
    }
   ],
   "source": [
    "# output, x = test_model(poison_x,noisy_poison_edge_index,noisy_poison_edge_weights)\n",
    "# output_clean = torch.exp(output)\n",
    "# epsilon = 1e-8\n",
    "print(output_clean[idx_attach].argmax(dim=1))\n",
    "\n",
    "\n",
    "from torch_geometric.utils import k_hop_subgraph\n",
    "result_clean=[]\n",
    "for node_id in idx_train:\n",
    "    node_id = node_id.item()\n",
    "    subset, edge_index, mapping, edge_mask = k_hop_subgraph(node_id, 2, poison_edge_index, relabel_nodes=False)\n",
    "    loop_edges = edge_index[:, edge_index[0] == node_id]\n",
    "    non_loop_edges = edge_index[:, edge_index[0] != node_id]\n",
    "\n",
    "    selected_x = poison_x[subset]\n",
    "    \n",
    "    for i in range(loop_edges.size(1)):\n",
    "        # Current loop edge to remove\n",
    "        current_loop_edge = loop_edges[:, i]\n",
    "\n",
    "        # Find indices of the current loop edge and its reverse\n",
    "        forward_edge_mask = (edge_index[0] == current_loop_edge[0]) & (edge_index[1] == current_loop_edge[1])\n",
    "        reverse_edge_mask = (edge_index[0] == current_loop_edge[1]) & (edge_index[1] == current_loop_edge[0])\n",
    "\n",
    "        # Combine masks for forward and reverse edges\n",
    "        combined_mask = forward_edge_mask | reverse_edge_mask\n",
    "\n",
    "        # Remove both forward and reverse edges from the graph\n",
    "        modified_edge_index = edge_index[:, ~combined_mask]\n",
    "\n",
    "        edge_weights = torch.ones(modified_edge_index.size(1), dtype=torch.float, device=device)\n",
    "\n",
    "        output = test_model(poison_x, modified_edge_index, edge_weights)\n",
    "        output = output[node_id]\n",
    "        output = torch.exp(output)\n",
    "        output += epsilon\n",
    "        # print(output)\n",
    "        # print(output_clean[node_id])\n",
    "        deviation = F.kl_div(output.log(), output_clean[node_id], reduce=False)\n",
    "        result_clean.append(deviation.mean().item())\n",
    "        # print(deviation.mean().item())\n",
    "print(result_clean)\n"
   ]
  },
  {
   "cell_type": "code",
   "execution_count": null,
   "metadata": {},
   "outputs": [
    {
     "name": "stdout",
     "output_type": "stream",
     "text": [
      "[0.686935305595398, 0.2520464062690735, 0.9102712273597717, 0.7195176482200623, 0.5371489524841309, 0.45379847288131714, 0.6800859570503235, 0.8619793653488159, 0.5454912781715393, 0.9496711492538452, 0.3140215575695038, 0.7677653431892395, 0.6564729809761047, 0.8722783327102661, 0.7717121243476868, 0.7789889574050903, 1.9745736122131348, 0.8992641568183899, 1.0468038320541382, 0.8305408954620361, 0.3746654689311981, 0.5902591943740845, 0.3326583802700043, 0.7392865419387817, 0.704847514629364, 0.5185059309005737, 0.48434194922447205, 0.603878915309906, 0.3425329327583313, 0.5085777640342712, 0.8669720888137817]\n"
     ]
    }
   ],
   "source": [
    "result_trigger = []\n",
    "for node_id in idx_attach:\n",
    "    node_id = node_id.item()\n",
    "    subset, edge_index, mapping, edge_mask = k_hop_subgraph(node_id, 2, poison_edge_index, relabel_nodes=False)\n",
    "    loop_edges = edge_index[:, edge_index[0] == node_id]\n",
    "    non_loop_edges = edge_index[:, edge_index[0] != node_id]\n",
    "\n",
    "    selected_x = poison_x[subset]\n",
    "    \n",
    "    for i in range(loop_edges.size(1)):\n",
    "        # Current loop edge to remove\n",
    "        current_loop_edge = loop_edges[:, i]\n",
    "\n",
    "        # Find indices of the current loop edge and its reverse\n",
    "        forward_edge_mask = (edge_index[0] == current_loop_edge[0]) & (edge_index[1] == current_loop_edge[1])\n",
    "        reverse_edge_mask = (edge_index[0] == current_loop_edge[1]) & (edge_index[1] == current_loop_edge[0])\n",
    "\n",
    "        # Combine masks for forward and reverse edges\n",
    "        combined_mask = forward_edge_mask | reverse_edge_mask\n",
    "\n",
    "        # Remove both forward and reverse edges from the graph\n",
    "        modified_edge_index = edge_index[:, ~combined_mask]\n",
    "\n",
    "        edge_weights = torch.ones(modified_edge_index.size(1), dtype=torch.float, device=device)\n",
    "\n",
    "        output = test_model(poison_x, modified_edge_index, edge_weights)\n",
    "        output = output[node_id]\n",
    "        output = torch.exp(output)\n",
    "        output += epsilon\n",
    "        # print(output)\n",
    "        # print(output_clean[node_id])\n",
    "        deviation = F.kl_div(output.log(), output_clean[node_id], reduce=False)\n",
    "        \n",
    "        if loop_edges[:,i][1]>len(data.x):\n",
    "            # print(loop_edges[:,i][1])\n",
    "            result_trigger.append(deviation.mean().item())\n",
    "            \n",
    "        # else:\n",
    "        # print(deviation.mean().item())\n",
    "            # result_clean.append(deviation.mean().item())\n",
    "\n",
    "        # result_trigger.append(deviation.mean().item())\n",
    "        # print(deviation.mean().item())\n",
    "print(result_trigger)"
   ]
  },
  {
   "cell_type": "code",
   "execution_count": null,
   "metadata": {},
   "outputs": [
    {
     "data": {
      "text/plain": [
       "31"
      ]
     },
     "execution_count": 29,
     "metadata": {},
     "output_type": "execute_result"
    }
   ],
   "source": [
    "len(result_trigger)"
   ]
  },
  {
   "cell_type": "code",
   "execution_count": null,
   "metadata": {},
   "outputs": [
    {
     "data": {
      "text/plain": [
       "tensor([0, 0, 0, 0, 0, 0, 0, 0, 0, 0, 0, 0, 0, 0, 0, 0, 0, 0, 0, 0, 0, 0, 0, 0,\n",
       "        0, 0, 0, 0, 0, 0, 0], device='cuda:3')"
      ]
     },
     "execution_count": 30,
     "metadata": {},
     "output_type": "execute_result"
    }
   ],
   "source": [
    "output_clean[idx_attach].argmax(dim=1)"
   ]
  },
  {
   "cell_type": "code",
   "execution_count": null,
   "metadata": {},
   "outputs": [
    {
     "name": "stdout",
     "output_type": "stream",
     "text": [
      "31\n",
      "0.2520464062690735\n",
      "1.9745736122131348\n",
      "[1.9745736122131348, 1.0468038320541382, 0.9496711492538452, 0.9102712273597717, 0.8992641568183899, 0.8722783327102661, 0.8669720888137817, 0.8619793653488159, 0.8305408954620361, 0.7789889574050903, 0.7717121243476868, 0.7677653431892395, 0.7392865419387817, 0.7195176482200623, 0.704847514629364, 0.686935305595398, 0.6800859570503235, 0.6564729809761047, 0.603878915309906, 0.5902591943740845, 0.5454912781715393, 0.5371489524841309, 0.5185059309005737, 0.5085777640342712, 0.48434194922447205, 0.45379847288131714, 0.3746654689311981, 0.3425329327583313, 0.3326583802700043, 0.3140215575695038, 0.2520464062690735]\n",
      "0.4697292447090149\n",
      "[0.4697292447090149, 0.3886876404285431, 0.3672255873680115, 0.3650011420249939, 0.35542556643486023, 0.32586097717285156, 0.30628713965415955, 0.29585957527160645, 0.281095951795578, 0.26009601354599, 0.2462371289730072, 0.24061040580272675, 0.24019326269626617, 0.22754976153373718, 0.22325043380260468, 0.22319915890693665, 0.2187216728925705, 0.2159755825996399, 0.21056434512138367, 0.20481806993484497, 0.19315366446971893, 0.18731461465358734, 0.18690980970859528, 0.1758262813091278, 0.16149431467056274, 0.15873032808303833, 0.15270288288593292, 0.15214043855667114, 0.15189209580421448, 0.15134714543819427, 0.15045422315597534, 0.14890073239803314, 0.14499622583389282, 0.14456385374069214, 0.1405353844165802, 0.13418973982334137, 0.13116033375263214, 0.1285831183195114, 0.12660127878189087, 0.12361735850572586, 0.1227666437625885, 0.12124107778072357, 0.11594714224338531, 0.11566434055566788, 0.11240232735872269, 0.10686691850423813, 0.10012049973011017, 0.09755578637123108, 0.09674929082393646, 0.08054518699645996, 0.07566176354885101, 0.07506336271762848, 0.0727468729019165, 0.0726182758808136, 0.07239936292171478, 0.07213811576366425, 0.07114972919225693, 0.07059936225414276, 0.06921850889921188, 0.06846705824136734, 0.061652522534132004, 0.06089267507195473, 0.058375198394060135, 0.05814964696764946, 0.05531097948551178, 0.05216497555375099, 0.051940400153398514, 0.0511171855032444, 0.050714027136564255, 0.047329891473054886, 0.044996943324804306, 0.044504936784505844, 0.04408920556306839, 0.043041154742240906, 0.04142162948846817, 0.04134960100054741, 0.04059120640158653, 0.03762265294790268, 0.03519473224878311, 0.03516572341322899, 0.03441775590181351, 0.03235941007733345, 0.03166886791586876, 0.031317055225372314, 0.029734710231423378, 0.02950318530201912, 0.028535734862089157, 0.028480539098381996, 0.027769364416599274, 0.02755783684551716, 0.02739640325307846, 0.02729744277894497, 0.02728753350675106, 0.026811422780156136, 0.026598893105983734, 0.0264741200953722, 0.02596895582973957, 0.025609197095036507, 0.023913508281111717, 0.02379271760582924, 0.02372785657644272, 0.022780396044254303, 0.022466814145445824, 0.022372758015990257, 0.02219180017709732, 0.02190319448709488, 0.021442316472530365, 0.020626060664653778, 0.020267559215426445, 0.019834233447909355, 0.019435206428170204, 0.01932401955127716, 0.019233468919992447, 0.018912101164460182, 0.01883365586400032, 0.018195535987615585, 0.018106218427419662, 0.01804923079907894, 0.017752666026353836, 0.01751728728413582, 0.017493879422545433, 0.017450910061597824, 0.016926657408475876, 0.016922174021601677, 0.016878163442015648, 0.016684317961335182, 0.016609689220786095, 0.01660616137087345, 0.016561394557356834, 0.01614726148545742, 0.015485401265323162, 0.015463778749108315, 0.015393379144370556, 0.015088063664734364, 0.014948775060474873, 0.014678975567221642, 0.01422865130007267, 0.013938864693045616, 0.013735155574977398, 0.013623553328216076, 0.01351754367351532, 0.013076904229819775, 0.012841922231018543, 0.012816998176276684, 0.012771698646247387, 0.012470858171582222, 0.012396234087646008, 0.01216067560017109, 0.012122642248868942, 0.011938066221773624, 0.011787018738687038, 0.0116202924400568, 0.011619756929576397, 0.011594323441386223, 0.011504072695970535, 0.011096630245447159, 0.01087284367531538, 0.010829154402017593, 0.010808308608829975, 0.010781043209135532, 0.01045130006968975, 0.010220406576991081, 0.010134551674127579, 0.010065700858831406, 0.010046018287539482, 0.009998012334108353, 0.009986814111471176, 0.009907925501465797, 0.009821896441280842, 0.009780103340744972, 0.009598958306014538, 0.009529301896691322, 0.009405011311173439, 0.009286266751587391, 0.009277921169996262, 0.00918964110314846, 0.009159727022051811, 0.009094294160604477, 0.008993426337838173, 0.008954940363764763, 0.00893306266516447, 0.008923612534999847, 0.008908885531127453, 0.00883832760155201, 0.008830329403281212, 0.008777683600783348, 0.00865514762699604, 0.008298739790916443, 0.008294505998492241, 0.008190291933715343, 0.008066194131970406, 0.008065703324973583, 0.008042976260185242, 0.008022068999707699, 0.0077368030324578285, 0.007735499180853367, 0.0076261255890131, 0.007592355832457542, 0.007557344157248735, 0.007519209291785955, 0.007512126117944717, 0.007465938106179237, 0.007393347565084696, 0.007310379296541214, 0.007302982732653618, 0.007264625746756792, 0.007259306963533163, 0.007201655767858028, 0.007195115555077791, 0.007077647838741541, 0.0069664837792515755, 0.006958643905818462, 0.006924010813236237, 0.0068823667243123055, 0.006776290480047464, 0.006758435163646936, 0.006608279887586832, 0.006598221138119698, 0.006348354741930962, 0.006310807541012764, 0.006243500392884016, 0.006161315832287073, 0.006032415200024843, 0.005976120475679636, 0.005941818933933973, 0.005911534186452627, 0.005887233652174473, 0.005848736967891455, 0.005794117692857981, 0.005787104833871126, 0.005731340032070875, 0.005713338498026133, 0.005620154086500406, 0.005550177302211523, 0.005546108353883028, 0.005465416237711906, 0.005458704195916653, 0.005347224418073893, 0.0052624838426709175, 0.005205093417316675, 0.005172028671950102, 0.005075673572719097, 0.005043724551796913, 0.004906459245830774, 0.004903127439320087, 0.0048658521845936775, 0.004863123409450054, 0.004739760421216488, 0.0046961260959506035, 0.004649391397833824, 0.00462912255898118, 0.004553769715130329, 0.004550844430923462, 0.004550463519990444, 0.004545988980680704, 0.004497345071285963, 0.004479851108044386, 0.004459095187485218, 0.004441187717020512, 0.004383682738989592, 0.004366626963019371, 0.004346529021859169, 0.004330536350607872, 0.004298047628253698, 0.0042730532586574554, 0.004262569360435009, 0.004246228840202093, 0.004139268305152655, 0.004098567645996809, 0.004097647033631802, 0.004091606475412846, 0.0040613203309476376, 0.003985443152487278, 0.003983020782470703, 0.003930943552404642, 0.003925842698663473, 0.003890823107212782, 0.0038357656449079514, 0.003825952298939228, 0.0038102681282907724, 0.003797422396019101, 0.0037262914702296257, 0.003683443646878004, 0.003630390390753746, 0.003574293339625001, 0.0035632506478577852, 0.0035442919470369816, 0.0034677686635404825, 0.0033795605413615704, 0.0033714165911078453, 0.0033680745400488377, 0.003292572684586048, 0.00326980440877378, 0.003222079249098897, 0.003202830208465457, 0.003184183035045862, 0.003149175550788641, 0.00312830600887537, 0.0030524088069796562, 0.0030503286980092525, 0.0030434781219810247, 0.0030335881747305393, 0.0030234919395297766, 0.0030122357420623302, 0.0029752394184470177, 0.0029747465159744024, 0.002966760192066431, 0.002963791135698557, 0.0029222869779914618, 0.002916019642725587, 0.002915765158832073, 0.002874956699088216, 0.002846114570274949, 0.002837758045643568, 0.0028011396061629057, 0.0027990001253783703, 0.002796505345031619, 0.0027942839078605175, 0.0027482016012072563, 0.0026737654116004705, 0.0026560788974165916, 0.002632809104397893, 0.0026285916101187468, 0.0026251019444316626, 0.002617389429360628, 0.0026132450439035892, 0.002585792914032936, 0.002575526712462306, 0.0025468943640589714, 0.0025448380038142204, 0.002542136935517192, 0.0025289785116910934, 0.0025037878658622503, 0.0024935193359851837, 0.0024785713758319616, 0.0024458011612296104, 0.0024116006679832935, 0.002400842262431979, 0.0023805524688214064, 0.002378297271206975, 0.002374243689700961, 0.0023670222144573927, 0.002366953296586871, 0.0023581520654261112, 0.0023533590137958527, 0.002347295405343175, 0.002344999462366104, 0.002323776949197054, 0.0023178760893642902, 0.0022996903862804174, 0.0022956309840083122, 0.002273107413202524, 0.0022671862971037626, 0.002257521264255047, 0.0022494846489280462, 0.0022369034122675657, 0.002228441182523966, 0.0021933873649686575, 0.0021909154020249844, 0.002183302538469434, 0.002182317664846778, 0.0021656183525919914, 0.002153990790247917, 0.0021432817447930574, 0.002131536602973938, 0.002126935636624694, 0.0021246883552521467, 0.0021043901797384024, 0.002056546276435256, 0.002034700009971857, 0.0020312664564698935, 0.0020051365718245506, 0.0020000063814222813, 0.0019775470718741417, 0.0019695269875228405, 0.001968836411833763, 0.0019605224952101707, 0.0019460752373561263, 0.0019377657445147634, 0.0019330547656863928, 0.0018985490314662457, 0.001885919482447207, 0.0018830071203410625, 0.0018796533113345504, 0.0018630882259458303, 0.001849780441261828, 0.0018407480092719197, 0.001832499634474516, 0.0018198040779680014, 0.0017899509984999895, 0.0017540780827403069, 0.0017412686720490456, 0.0017239457229152322, 0.001719307736493647, 0.001712943078018725, 0.001706878887489438, 0.0016953246667981148, 0.001687714015133679, 0.0016870899125933647, 0.0016818168805912137, 0.0016743993619456887, 0.0016708816401660442, 0.0016647141892462969, 0.0016639435198158026, 0.0016571792075410485, 0.001654927502386272, 0.001646637450903654, 0.0016388553194701672, 0.0016359526198357344, 0.001634548301808536, 0.0016118485946208239, 0.0016067561227828264, 0.0015950006200000644, 0.001588827813975513, 0.001588827813975513, 0.0015860903076827526, 0.001574627822265029, 0.001572957611642778, 0.0015703801764175296, 0.001557046896778047, 0.0015537888975813985, 0.0015505001647397876, 0.0015456605469807982, 0.0015251168515533209, 0.0014946560841053724, 0.0014885013224557042, 0.001474900753237307, 0.0014692220138385892, 0.001460702857002616, 0.0014577710535377264, 0.0014576992252841592, 0.0014458124060183764, 0.0014378202613443136, 0.0014204607577994466, 0.001413744525052607, 0.0014123537112027407, 0.0014087981544435024, 0.0013943453086540103, 0.0013903622748330235, 0.0013648219173774123, 0.0013561906525865197, 0.0013299161801114678, 0.0013227352173998952, 0.0013193496270105243, 0.0013103262754157186, 0.001302114105783403, 0.0012999996542930603, 0.0012869331985712051, 0.0012868563644587994, 0.0012788544408977032, 0.0012614078586921096, 0.0012544364435598254, 0.0012486095074564219, 0.0012393220094963908, 0.0012361019616946578, 0.0012360636610537767, 0.0012340591056272388, 0.0012275640619918704, 0.0012200208147987723, 0.0012163094943389297, 0.0012149232206866145, 0.0012102127075195312, 0.0012031719088554382, 0.001199259888380766, 0.0011857588542625308, 0.0011828510323539376, 0.0011703207856044173, 0.0011585041647776961, 0.0011474816128611565, 0.0011472111800685525, 0.001143387402407825, 0.0011400687508285046, 0.0011375171598047018, 0.0011348543921485543, 0.001132032717578113, 0.0011307623935863376, 0.0011161044239997864, 0.0011151391081511974, 0.0010995417833328247, 0.0010969575960189104, 0.0010905690724030137, 0.001089088385924697, 0.001087580225430429, 0.0010865177027881145, 0.0010851651895791292, 0.0010713773081079125, 0.0010550773004069924, 0.0010536162881180644, 0.001047604251652956, 0.001046989462338388, 0.0010417172452434897, 0.0010413918644189835, 0.0010409371461719275, 0.001039608963765204, 0.0010320201981812716, 0.0010318724671378732, 0.001028026919811964, 0.0010213456116616726, 0.0010054275626316667, 0.0010045362869277596, 0.0010000723414123058, 0.0009986263466998935, 0.000994870439171791, 0.000989793217740953, 0.0009854207746684551, 0.0009829330956563354, 0.0009814435616135597, 0.0009799142135307193, 0.0009792341152206063, 0.0009773385245352983, 0.0009771410841494799, 0.0009726344724185765, 0.0009706628625281155, 0.0009653732413426042, 0.0009638265473768115, 0.0009632502333261073, 0.0009580340120010078, 0.0009555218275636435, 0.0009510613163001835, 0.0009446021867915988, 0.0009319420787505805, 0.000930740381591022, 0.0009296914795413613, 0.0009245793335139751, 0.0009234191384166479, 0.0009204713860526681, 0.000917973811738193, 0.0009168421383947134, 0.0009160448098555207, 0.0009086846839636564, 0.0009018999990075827, 0.0008993546362034976, 0.0008952158968895674, 0.0008916835067793727, 0.0008915351936593652, 0.0008835746557451785, 0.0008828688296489418, 0.0008828627178445458, 0.0008753419970162213, 0.0008720512269064784, 0.0008698169840499759, 0.0008546424214728177, 0.0008546077297069132, 0.0008526451420038939, 0.000851375749334693, 0.000844350375700742, 0.000843844551127404, 0.000838358246255666, 0.0008346470422111452, 0.000824378861580044, 0.0008189270156435668, 0.0008153995731845498, 0.00081379379844293, 0.0008107015746645629, 0.0008104912121780217, 0.0008087392779998481, 0.0008084794390015304, 0.0008078817627392709, 0.0008055624202825129, 0.0008027612348087132, 0.0007997810025699437, 0.0007981808739714324, 0.0007977767963893712, 0.0007940494106151164, 0.0007903084042482078, 0.0007850820547901094, 0.000780459784436971, 0.0007572701433673501, 0.0007448916439898312, 0.000739161332603544, 0.0007343300385400653, 0.0007282756851054728, 0.0007229062030091882, 0.0007226483430713415, 0.0007219607359729707, 0.0007162424153648317, 0.0007121084490790963, 0.0007113066967576742, 0.0006987546221353114, 0.0006977535667829216, 0.0006968241068534553, 0.0006958668818697333, 0.0006948967929929495, 0.0006928404327481985, 0.0006926182541064918, 0.0006913609686307609, 0.0006909974617883563, 0.0006836142274551094, 0.0006833684165030718, 0.0006823485600762069, 0.0006790294428355992, 0.0006746051367372274, 0.0006742846453562379, 0.0006732292822562158, 0.0006720366654917598, 0.0006707975990138948, 0.0006699113873764873, 0.0006693641771562397, 0.0006662447704002261, 0.0006607473478652537, 0.000652424234431237, 0.0006501830648630857, 0.000644178013317287, 0.0006412592483684421, 0.0006392853683792055, 0.0006368860485963523, 0.0006292292382568121, 0.0006282454705797136, 0.0006269881851039827, 0.0006256122142076492, 0.0006218671915121377, 0.0006215772009454668, 0.0006215710891410708, 0.0006211815634742379, 0.0006201291689649224, 0.0006094500422477722, 0.0006087933434173465, 0.0006038876599632204, 0.0006027018534950912, 0.0005971004138700664, 0.0005967345205135643, 0.0005964016891084611, 0.0005926338490098715, 0.0005922409472987056, 0.0005920224939472973, 0.0005917078233323991, 0.0005889263702556491, 0.0005888824816793203, 0.0005887544830329716, 0.000585808593314141, 0.0005850134766660631, 0.0005836272030137479, 0.0005807919660583138, 0.000578810868319124, 0.000577689555939287, 0.000574531324673444, 0.0005742466310039163, 0.0005741943023167551, 0.0005727045936509967, 0.0005699798348359764, 0.0005691217957064509, 0.0005688717938028276, 0.0005656701396219432, 0.0005614582332782447, 0.0005609675426967442, 0.0005601385491900146, 0.0005534030497074127, 0.0005473369965329766, 0.0005461491527967155, 0.000544071604963392, 0.000541810761205852, 0.0005332476575858891, 0.0005309513071551919, 0.0005304052610881627, 0.0005295222508721054, 0.0005261804908514023, 0.0005256200674921274, 0.0005244204658083618, 0.0005234320415183902, 0.0005210127565078437, 0.0005193094839341938, 0.0005174620309844613, 0.0005164731992408633, 0.0005111532518640161, 0.000510977057274431, 0.0005101484712213278, 0.0005051866173744202, 0.000500023365020752, 0.0005000047385692596, 0.000497003085911274, 0.000493433210067451, 0.0004908509436063468, 0.0004901628126390278, 0.0004871030105277896, 0.0004863964859396219, 0.0004854970029555261, 0.0004845128860324621, 0.0004834322608076036, 0.00048147994675673544, 0.00048066466115415096, 0.00047973106848075986, 0.00047942466335371137, 0.0004790394159499556, 0.00047842509229667485, 0.0004764292680192739, 0.0004760570009239018, 0.0004745056794490665, 0.0004735280526801944, 0.00047119840746745467, 0.0004705629835370928, 0.00047051641740836203, 0.0004647033638320863, 0.00046440656296908855, 0.00046321950503624976, 0.00045523702283389866, 0.00045337583287619054, 0.0004508293350227177, 0.00044857844477519393, 0.0004469481064006686, 0.00044515664922073483, 0.0004450074047781527, 0.0004445701779332012, 0.0004435370792634785, 0.0004435068112798035, 0.0004434384754858911, 0.0004425813676789403, 0.00044074098696000874, 0.0004406483785714954, 0.0004405803920235485, 0.0004403051279950887, 0.00043796710087917745, 0.0004350154777057469, 0.0004345407651271671, 0.00043441596790216863, 0.0004329053626861423, 0.0004322175227571279, 0.00043196819024160504, 0.00043138492037542164, 0.0004281810251995921, 0.00042773704626597464, 0.0004209770413581282, 0.00041959970258176327, 0.00041747133946046233, 0.00041602845885790884, 0.00041412151767872274, 0.0004135370545554906, 0.0004120969388168305, 0.0004116104100830853, 0.0004108712018933147, 0.00040905337664298713, 0.0004058037593495101, 0.0004058037593495101, 0.000401614117436111, 0.00040146391256712377, 0.00039987967466004193, 0.00039893455686978996, 0.00039770122384652495, 0.00039555778494104743, 0.00039454165380448103, 0.0003939795424230397, 0.0003924263291992247, 0.0003884714387822896, 0.00038555910577997565, 0.00038550954195670784, 0.00038158282404765487, 0.000378530501620844, 0.00037852011155337095, 0.0003758759412448853, 0.0003738167870324105, 0.00037242393591441214, 0.0003695525520015508, 0.000365412823157385, 0.00036071136128157377, 0.0003589099214877933, 0.00035780828329734504, 0.0003512358234729618, 0.0003491963434498757, 0.0003474280529189855, 0.0003463948087301105, 0.00034568991395644844, 0.0003434568934608251, 0.00034321434213779867, 0.0003403241862542927, 0.0003389021730981767, 0.00033857981907203794, 0.0003384250740054995, 0.00033788589644245803, 0.0003378573164809495, 0.00033678009640425444, 0.00033551003434695303, 0.0003315024368930608, 0.00033110787626355886, 0.0003298984083812684, 0.00032931569148786366, 0.0003233476309105754, 0.00032303936313837767, 0.0003200142236892134, 0.00031866878271102905, 0.0003165783709846437, 0.0003151766723021865, 0.00031494483118876815, 0.00031468115048483014, 0.0003138535830657929, 0.0003123306087218225, 0.0003098720626439899, 0.00030858602258376777, 0.00030788566800765693, 0.00030653306748718023, 0.00030531975789926946, 0.0003049011866096407, 0.00030471011996269226, 0.0003014547692146152, 0.0002978021220769733, 0.00029650257783941925, 0.00029611881473101676, 0.00029471737798303366, 0.0002906884183175862, 0.0002892428601626307, 0.0002888528979383409, 0.0002868376614060253, 0.0002860562817659229, 0.00028513799770735204, 0.0002845158742275089, 0.0002839624066837132, 0.0002798518107738346, 0.0002776089240796864, 0.00027721855440177023, 0.00027627518284134567, 0.0002755320747382939, 0.00027500413125380874, 0.000272780132945627, 0.00027265932294540107, 0.00027099839644506574, 0.00026965513825416565, 0.0002685104263946414, 0.00026841595536097884, 0.00026781990891322494, 0.0002666874206624925, 0.0002662861661519855, 0.00026579448604024947, 0.00026412628358229995, 0.00026316355797462165, 0.00026285144849680364, 0.00026104654534719884, 0.0002598591090645641, 0.00025742396246641874, 0.00025730914785526693, 0.00025561402435414493, 0.00025503209326416254, 0.00025446846848353744, 0.0002544365415815264, 0.00025386596098542213, 0.00025385033222846687, 0.0002520162670407444, 0.0002518306428100914, 0.00025171987363137305, 0.00025079905753955245, 0.0002500363625586033, 0.00024942203890532255, 0.00024696096079424024, 0.00024684093659743667, 0.00024652137653902173, 0.0002453330089338124, 0.00024496845435351133, 0.0002431421889923513, 0.0002429444866720587, 0.00024239267804659903, 0.00023994808725547045, 0.00023973907809704542, 0.00023936321667861193, 0.00023926649009808898, 0.00023877728381194174, 0.00023863810929469764, 0.00023773021530359983, 0.00023767871607560664, 0.00023387267719954252, 0.0002327574766241014, 0.00023235513071995229, 0.0002309162518940866, 0.00023077336663845927, 0.0002306718088220805, 0.0002306718088220805, 0.0002287221868755296, 0.00022849335800856352, 0.00022735846869181842, 0.0002266626397613436, 0.0002264275390189141, 0.0002260518231196329, 0.00022584214457310736, 0.00022582577366847545, 0.00022577682102564722, 0.00022496523160953075, 0.00022481835912913084, 0.00022395075939130038, 0.00022094431915320456, 0.00022087620163802058, 0.0002184100594604388, 0.00021746117272414267, 0.00021717471827287227, 0.0002169124927604571, 0.0002162110758945346, 0.00021559945889748633, 0.0002142329467460513, 0.00021303154062479734, 0.00021208990074228495, 0.00021165610814932734, 0.00021101468882989138, 0.0002109158376697451, 0.00020902605319861323, 0.00020887823484372348, 0.0002083952713292092, 0.00020832409791182727, 0.0002079707192024216, 0.00020677836437243968, 0.00020609849889297038, 0.00020537340606097132, 0.0002050886832876131, 0.00020407726697158068, 0.00020390600548125803, 0.00020355758897494525, 0.00020342128118500113, 0.00020271727407816797, 0.00020060395763721317, 0.00020011035667266697, 0.00020005941041745245, 0.00019953932496719062, 0.00019930543203372508, 0.00019575117039494216, 0.00019499087648000568, 0.00019138885545544326, 0.00019116913608741015, 0.00019045827502850443, 0.0001899139751913026, 0.0001886959362309426, 0.00018851931963581592, 0.00018812438065651804, 0.0001870079868240282, 0.00018683662347029895, 0.00018612535495776683, 0.00018528781947679818, 0.00018490638467483222, 0.00018375288345851004, 0.00018226569227408618, 0.000182173156645149, 0.00018213903240393847, 0.00018050189828500152, 0.00018005087622441351, 0.00017948492313735187, 0.00017891825700644404, 0.00017829878197517246, 0.0001764224434737116, 0.00017624050087761134, 0.0001755150587996468, 0.00017545746231917292, 0.0001751577074173838, 0.00017465172277297825, 0.00017460303206462413, 0.00017447504797019064, 0.00017300395120400935, 0.0001728562783682719, 0.00017139555711764842, 0.00017112893692683429, 0.00017100294644478709, 0.00017098098760470748, 0.00017065256542991847, 0.00017030032176990062, 0.0001697396655799821, 0.000169694161741063, 0.0001689577620709315, 0.00016818562289699912, 0.0001664342707954347, 0.00016617575602140278, 0.000165473684319295, 0.0001650888443691656, 0.0001639875554246828, 0.00016389308439102024, 0.00016322759620379657, 0.00016120861982926726, 0.00016102181689348072, 0.0001609643513802439, 0.00016046273231040686, 0.00015995316789485514, 0.00015840650303289294, 0.00015830807387828827, 0.00015780795365571976, 0.00015764377894811332, 0.00015724504191894084, 0.00015624133811797947, 0.0001560656528454274, 0.00015579044702462852, 0.0001548175496282056, 0.00015422875003423542, 0.0001540567318443209, 0.000153509114170447, 0.00015349846216849983, 0.00015192519640550017, 0.0001517372002126649, 0.000151331681990996, 0.00015118252485990524, 0.00015025846369098872, 0.00014966500748414546, 0.00014965450100135058, 0.00014823995297774673, 0.00014774169540032744, 0.00014764178195036948, 0.00014703720808029175, 0.00014667266805190593, 0.00014641376037616283, 0.00014361257490236312, 0.00014267703227233142, 0.00014044504496268928, 0.0001403042842866853, 0.0001402610505465418, 0.00013943036901764572, 0.00013879500329494476, 0.00013785011833533645, 0.00013749554636888206, 0.00013685865269508213, 0.00013620173558592796, 0.0001352224498987198, 0.00013261815183795989, 0.00013236209633760154, 0.00013205729192122817, 0.00013146789569873363, 0.0001307289639953524, 0.00012987494119443, 0.00012932851677760482, 0.00012910363147966564, 0.00012812843488063663, 0.00012748439621645957, 0.00012747172149829566, 0.00012722905375994742, 0.00012696681369561702, 0.00012581476767081767, 0.0001258081174455583, 0.00012498642900027335, 0.00012457797129172832, 0.00012450931535568088, 0.00012392258213367313, 0.00012326525757089257, 0.0001229617337230593, 0.00012216744653414935, 0.00012050835357513279, 0.00012046325718984008, 0.00011944718426093459, 0.00011935378279304132, 0.0001187162270070985, 0.00011856654600705951, 0.00011834622273454443, 0.0001179852697532624, 0.00011722624185495079, 0.00011597521370276809, 0.00011534776422195137, 0.00011479589011287317, 0.0001147892398876138, 0.00011452570470282808, 0.00011310587433399633, 0.00011301786435069516, 0.00011291993723716587, 0.00011247270595049486, 0.00011178119893884286, 0.00011126519530080259, 0.00011114164954051375, 0.00010979450598824769, 0.00010966583067784086, 0.00010956198821077123, 0.00010944233508780599, 0.00010933142038993537, 0.00010719470446929336, 0.0001070538055500947, 0.00010698229016270489, 0.00010654051584424451, 0.00010608137381495908, 0.00010536611807765439, 0.00010493278387002647, 0.00010445980296935886, 0.00010426543303765357, 0.00010290116915712133, 0.00010264518641633913, 0.00010224671859759837, 0.00010205459693679586, 0.00010165852290811017, 0.00010129650036105886, 0.00010030304838437587, 9.965740900952369e-05, 9.942460746970028e-05, 9.92289642454125e-05, 9.70384935499169e-05, 9.687671263236552e-05, 9.663935634307563e-05, 9.610674169380218e-05, 9.550407412461936e-05, 9.524110646452755e-05, 9.475901606492698e-05, 9.421406139153987e-05, 9.420527931069955e-05, 9.35275384108536e-05, 9.344565478386357e-05, 9.333675552625209e-05, 9.260114165954292e-05, 9.21787868719548e-05, 9.215982572641224e-05, 9.207447874359787e-05, 9.20178645174019e-05, 9.193032019538805e-05, 9.162970673060045e-05, 9.103944466914982e-05, 9.025407780427486e-05, 9.025404142448679e-05, 9.002590377349406e-05, 8.989258640212938e-05, 8.976273966254666e-05, 8.9432651293464e-05, 8.867216092767194e-05, 8.863716357154772e-05, 8.85192202986218e-05, 8.812480518827215e-05, 8.781666838331148e-05, 8.77108977874741e-05, 8.726652595214546e-05, 8.612445526523516e-05, 8.6103034846019e-05, 8.592328958911821e-05, 8.573037484893575e-05, 8.551404607715085e-05, 8.541532588424161e-05, 8.53796664159745e-05, 8.515774243278429e-05, 8.486358274240047e-05, 8.452338079223409e-05, 8.389859431190416e-05, 8.366669499082491e-05, 8.361973596038297e-05, 8.35142272990197e-05, 8.298696775455028e-05, 8.269679528893903e-05, 8.244819764513522e-05, 8.229485683841631e-05, 8.176919800462201e-05, 8.16284300526604e-05, 8.14625236671418e-05, 8.093725773505867e-05, 8.082696149358526e-05, 8.074580546235666e-05, 7.958444621181116e-05, 7.906280370661989e-05, 7.87793833296746e-05, 7.875902520027012e-05, 7.860249752411619e-05, 7.858021126594394e-05, 7.84657895565033e-05, 7.802472828188911e-05, 7.798396836733446e-05, 7.789475785102695e-05, 7.713719242019579e-05, 7.675202505197376e-05, 7.654810178792104e-05, 7.597763033118099e-05, 7.532723248004913e-05, 7.451240526279435e-05, 7.414006540784612e-05, 7.316251139855012e-05, 7.316011760849506e-05, 7.291417568922043e-05, 7.178208761615679e-05, 7.15404748916626e-05, 7.149444718379527e-05, 7.136139902286232e-05, 7.10298481862992e-05, 7.060303323669359e-05, 7.042827928671613e-05, 6.972160190343857e-05, 6.932514224899933e-05, 6.930995732545853e-05, 6.930995732545853e-05, 6.888122152304277e-05, 6.885534094180912e-05, 6.819367263233289e-05, 6.811800267314538e-05, 6.789182225475088e-05, 6.784845027141273e-05, 6.72778842272237e-05, 6.708902219543234e-05, 6.686630513286218e-05, 6.678367935819551e-05, 6.601720087928697e-05, 6.590464909095317e-05, 6.563249917235225e-05, 6.562724593095481e-05, 6.550976831931621e-05, 6.499098526546732e-05, 6.464954640250653e-05, 6.404759187716991e-05, 6.396779645001516e-05, 6.358738028211519e-05, 6.333113560685888e-05, 6.300051609287038e-05, 6.298029620666057e-05, 6.28656052867882e-05, 6.272095197346061e-05, 6.246653356356546e-05, 6.228625716175884e-05, 6.218387716216967e-05, 6.206493708305061e-05, 6.178436888149008e-05, 6.147088424768299e-05, 6.104071508161724e-05, 6.0891736211488023e-05, 6.079301601857878e-05, 6.0754697187803686e-05, 6.018828571541235e-05, 6.0148275224491954e-05, 6.0094058426329866e-05, 6.008308264426887e-05, 5.974055238766596e-05, 5.9601854445645586e-05, 5.958675319561735e-05, 5.953107392997481e-05, 5.8491667005000636e-05, 5.785296161775477e-05, 5.779801358585246e-05, 5.7432469475315884e-05, 5.73854376852978e-05, 5.680242975358851e-05, 5.6763848988339305e-05, 5.6282751756953076e-05, 5.5876960686873645e-05, 5.5325886933133006e-05, 5.5172615248011425e-05, 5.502746353158727e-05, 5.4379794164560735e-05, 5.381740993470885e-05, 5.372134910430759e-05, 5.348609192878939e-05, 5.329976920620538e-05, 5.2987867093179375e-05, 5.294095171848312e-05, 5.26696203451138e-05, 5.2519379096338525e-05, 5.2480427257250994e-05, 5.206309651839547e-05, 5.181659435038455e-05, 5.159248030395247e-05, 5.151491131982766e-05, 5.142098234500736e-05, 5.1262923079775646e-05, 5.120444984640926e-05, 5.0126844143960625e-05, 5.007987783756107e-05, 4.9619804485701025e-05, 4.9577261961530894e-05, 4.904680827166885e-05, 4.8601072194287553e-05, 4.859322143602185e-05, 4.853042264585383e-05, 4.848292519454844e-05, 4.844154682359658e-05, 4.842398629989475e-05, 4.82447721878998e-05, 4.7491532313870266e-05, 4.7370594984386116e-05, 4.732476008939557e-05, 4.666538370656781e-05, 4.6562538045691326e-05, 4.6390126954065636e-05, 4.610472751664929e-05, 4.586145223584026e-05, 4.519708818406798e-05, 4.496425754041411e-05, 4.444938531378284e-05, 4.427960084285587e-05, 4.424527651281096e-05, 4.420057302922942e-05, 4.406211883178912e-05, 4.387188164400868e-05, 4.3559288315009326e-05, 4.3112253479193896e-05, 4.299161446397193e-05, 4.294089012546465e-05, 4.288647687644698e-05, 4.283784801373258e-05, 4.277724292478524e-05, 4.221605558996089e-05, 4.2208204831695184e-05, 4.2112547816941515e-05, 4.2076622776221484e-05, 4.161828110227361e-05, 4.1493614844512194e-05, 4.130748493480496e-05, 4.1269300709245726e-05, 4.1209761548088863e-05, 4.0625538531458005e-05, 4.038284532725811e-05, 4.010288466815837e-05, 4.0068625821731985e-05, 3.962771006627008e-05, 3.9367670979117975e-05, 3.909239967470057e-05, 3.8703903555870056e-05, 3.8592810597037897e-05, 3.813646253547631e-05, 3.7701269320677966e-05, 3.711031240527518e-05, 3.705879134940915e-05, 3.684990952024236e-05, 3.6658719182014465e-05, 3.6638230085372925e-05, 3.6432342312764376e-05, 3.619585186243057e-05, 3.6097000702284276e-05, 3.5855653550243005e-05, 3.5514658520696685e-05, 3.4578944905661047e-05, 3.45743537764065e-05, 3.453011595411226e-05, 3.450896110734902e-05, 3.4477561712265015e-05, 3.426867988309823e-05, 3.4079024771926925e-05, 3.3591011742828414e-05, 3.3153221011161804e-05, 3.3074524253606796e-05, 3.303521225461736e-05, 3.287647996330634e-05, 3.2855466997716576e-05, 3.2805706723593175e-05, 3.28010501107201e-05, 3.2612257200526074e-05, 3.2233409001491964e-05, 3.2090716558741406e-05, 3.2077146897790954e-05, 3.195447789039463e-05, 3.192267831764184e-05, 3.1824223697185516e-05, 3.144610673189163e-05, 3.1093135476112366e-05, 3.069120430154726e-05, 3.046715573873371e-05, 3.0304174288176e-05, 2.9921964596724138e-05, 2.979610326292459e-05, 2.9328679374884814e-05, 2.9228354833321646e-05, 2.9228354833321646e-05, 2.9222275770734996e-05, 2.920195402111858e-05, 2.8914007998537272e-05, 2.8152551749371924e-05, 2.808203862514347e-05, 2.7891250283573754e-05, 2.7583646442508325e-05, 2.749211125774309e-05, 2.7403901185607538e-05, 2.7286554541205987e-05, 2.6813309887074865e-05, 2.67526411334984e-05, 2.6731886464403942e-05, 2.659032543306239e-05, 2.5752400688361377e-05, 2.5740360797499306e-05, 2.5550569262122735e-05, 2.5549372367095202e-05, 2.5278755856561475e-05, 2.4984550691442564e-05, 2.4901970391510986e-05, 2.4732735255383886e-05, 2.4667011530254968e-05, 2.463095552229788e-05, 2.4613726054667495e-05, 2.452012813591864e-05, 2.4273460439871997e-05, 2.3894810510682873e-05, 2.3722117475699633e-05, 2.340972605452407e-05, 2.3145428713178262e-05, 2.296096135978587e-05, 2.288426003360655e-05, 2.2652160623692907e-05, 2.2638856535195373e-05, 2.2462436390924267e-05, 2.231821599707473e-05, 2.209087324445136e-05, 2.2014870410203002e-05, 2.1947947971057147e-05, 2.1804125935886987e-05, 2.175802546844352e-05, 2.175260306103155e-05, 2.134378519258462e-05, 2.0912117179250345e-05, 2.08414039661875e-05, 2.0522425984381698e-05, 2.050586226687301e-05, 2.0187149857520126e-05, 2.0050711100338958e-05, 2.0018913346575573e-05, 1.9946668544434942e-05, 1.9931369024561718e-05, 1.9713172150659375e-05, 1.9181919924449176e-05, 1.899126436910592e-05, 1.857209463196341e-05, 1.8277140043210238e-05, 1.819736644392833e-05, 1.7884121916722506e-05, 1.774329211912118e-05, 1.7644837498664856e-05, 1.7531749108457007e-05, 1.7476402717875317e-05, 1.7453518012189306e-05, 1.7051452232408337e-05, 1.6977179257082753e-05, 1.685308052401524e-05, 1.6806914572953247e-05, 1.6713514924049377e-05, 1.6638477973174304e-05, 1.647443241381552e-05, 1.640671143832151e-05, 1.6265948943328112e-05, 1.6243064237642102e-05, 1.5894484022282995e-05, 1.5690391592215747e-05, 1.5581759726046585e-05, 1.543627331557218e-05, 1.533542490506079e-05, 1.5246948350977618e-05, 1.4835636648058426e-05, 1.478734066040488e-05, 1.4727137568115722e-05, 1.4615162399422843e-05, 1.4500426914310083e-05, 1.4498298696707934e-05, 1.4461045793723315e-05, 1.4335183550429065e-05, 1.4204889339453075e-05, 1.379887544317171e-05, 1.3788231626676861e-05, 1.3784971997665707e-05, 1.3780398148810491e-05, 1.3605675121652894e-05, 1.3594582924270071e-05, 1.3492203834175598e-05, 1.3486483112501446e-05, 1.3466259588312823e-05, 1.3443442185234744e-05, 1.3363149264478125e-05, 1.3356363524508197e-05, 1.2975319805264007e-05, 1.2903075912618078e-05, 1.2887775483250152e-05, 1.2873922059952747e-05, 1.252974834642373e-05, 1.2528750630735885e-05, 1.2500178854679689e-05, 1.2381983651721384e-05, 1.2353461897873785e-05, 1.2194339433335699e-05, 1.210972186527215e-05, 1.2086438800906762e-05, 1.2061559573339764e-05, 1.2051646990585141e-05, 1.2003151823591907e-05, 1.1969890692853369e-05, 1.1905230167030822e-05, 1.1659361007332336e-05, 1.1464980161690619e-05, 1.1331268979120068e-05, 1.1299870493530761e-05, 1.1101099516963586e-05, 1.1029054803657345e-05, 1.0776200724649243e-05, 1.0751255103969015e-05, 1.057689769368153e-05, 1.0505851605557837e-05, 1.0447111890243832e-05, 1.0399206985312048e-05, 1.036495541484328e-05, 1.0109905815625098e-05, 1.0071855285787024e-05, 9.879270692181308e-06, 9.87907151284162e-06, 9.796981430554297e-06, 9.794819561648183e-06, 9.771752957021818e-06, 9.710352060210425e-06, 9.642381883168127e-06, 9.15184136829339e-06, 9.128757483267691e-06, 9.114854037761688e-06, 9.062434401130304e-06, 9.014404895424377e-06, 8.926062037062366e-06, 8.804990102362353e-06, 8.752436770009808e-06, 8.552035978937056e-06, 8.503508070134558e-06, 8.489404535794165e-06, 8.115012860798743e-06, 8.074566721916199e-06, 8.050502401601989e-06, 7.964072210597806e-06, 7.838975761842448e-06, 7.817920959496405e-06, 7.723458111286163e-06, 7.681881470489316e-06, 7.631673724972643e-06, 7.585955245303921e-06, 7.581764293718152e-06, 7.2675761657592375e-06, 7.217284746730002e-06, 7.206308509921655e-06, 7.16399972588988e-06, 7.143244602048071e-06, 7.143111361074261e-06, 7.13918643668876e-06, 7.059625204419717e-06, 7.055700280034216e-06, 6.99090651323786e-06, 6.770116669940762e-06, 6.705722626065835e-06, 6.705722626065835e-06, 6.6282232182857115e-06, 6.44515148451319e-06, 6.181587195897009e-06, 6.1770638239977416e-06, 6.138147909950931e-06, 6.1379482758638915e-06, 6.063176442694385e-06, 6.025524271535687e-06, 5.922147465753369e-06, 5.5744480960129295e-06, 5.349716502678348e-06, 5.301354576658923e-06, 5.229243470239453e-06, 5.073646207165439e-06, 4.942695341014769e-06, 4.8233864617941435e-06, 4.799055659532314e-06, 4.566541065287311e-06, 4.5460183173418045e-06, 4.433494723343756e-06, 4.215099579596426e-06, 4.172990429651691e-06, 4.102609182154993e-06, 4.048326445627026e-06, 4.015464128315216e-06, 3.967916654801229e-06, 3.925258624803973e-06, 3.89512388210278e-06, 3.825474323093658e-06, 3.6752651340066222e-06, 3.6168578390061157e-06, 3.489130222078529e-06, 3.381865326446132e-06, 3.3634050851105712e-06, 3.350033921378781e-06, 3.3334697491227416e-06, 3.2542075132369064e-06, 3.172483957314398e-06, 3.095716465395526e-06, 3.0765909286856186e-06, 3.070969796681311e-06, 3.060692051803926e-06, 2.9715843083977234e-06, 2.936460305136279e-06, 2.876123744499637e-06, 2.874061692637042e-06, 2.8580959678947693e-06, 2.805010581141687e-06, 2.799555886667804e-06, 2.7588437205849914e-06, 2.7085523015557555e-06, 2.650901706147124e-06, 2.602913582450128e-06, 2.586133177828742e-06, 2.5835554424702423e-06, 2.4705993837415008e-06, 2.4520393253624206e-06, 2.4520393253624206e-06, 2.4454202502965927e-06, 2.372644075876451e-06, 2.353518766540219e-06, 2.1629302864312194e-06, 2.0594536636053817e-06, 2.0334264263510704e-06, 1.9777301076828735e-06, 1.9777301076828735e-06, 1.944734776770929e-06, 1.9433377929090057e-06, 1.9381488982617157e-06, 1.9170279301761184e-06, 1.91157300832856e-06, 1.9027586404263275e-06, 1.861447799456073e-06, 1.7170928003906738e-06, 1.671125346547342e-06, 1.6665353541611694e-06, 1.5635575891792541e-06, 1.5070130530148163e-06, 1.3617267313748016e-06, 1.336115360572876e-06, 1.273184579986264e-06, 1.2329380751907593e-06, 1.1580331147342804e-06, 1.1359475138306152e-06, 1.1139284197270172e-06, 1.0973807320624474e-06, 1.0611090601742035e-06, 1.0439460993438843e-06, 1.0328534472137108e-06, 9.976232604458346e-07, 9.756602139532333e-07, 9.75111447587551e-07, 9.592622518539429e-07, 9.200801969200256e-07, 8.279956773549202e-07, 8.184912303477176e-07, 6.629021527260193e-07, 6.392199338733917e-07, 6.037922730683931e-07, 5.745927751377167e-07, 5.671754479408264e-07, 5.403999239206314e-07, 5.109135940983833e-07, 5.070386350780609e-07, 5.01450699630368e-07, 4.925532266497612e-07, 4.6406475462390517e-07, 4.604392529472534e-07, 3.912095394298376e-07, 3.55781878624839e-07, 3.3981635283453215e-07, 3.3554223932696914e-07, 3.1784711040927505e-07, 3.1496998076363525e-07, 2.637804925598175e-07, 2.581260503120575e-07, 2.498605624623451e-07, 2.357909352213028e-07, 2.1619989354348945e-07, 1.9740713241844787e-07, 1.8634767684488907e-07, 1.843020953629093e-07, 1.636051081277401e-07, 1.3587332148290443e-07, 1.1227426455207024e-07, 1.021793991640152e-07, 1.0207961054220505e-07, 8.756095581929912e-08, 8.465057277362575e-08, 8.381903882082042e-08, 6.577465683221817e-08, 6.514269301760578e-08, 6.293080190289402e-08, 5.5596633075083446e-08, 3.256302960608082e-08, 3.1781382858753204e-08, 3.156518602054348e-08, 2.537854193462863e-08, 2.1353896428877306e-08, 1.7878068803156566e-08, 1.1774578645429301e-08, 9.995087424385929e-09, 9.995087424385929e-09, 9.995087424385929e-09, 9.961826030746579e-09, 1.9956913899221718e-10, -7.716673522395467e-09, -7.716673522395467e-09]\n"
     ]
    }
   ],
   "source": [
    "print(len(result_trigger))\n",
    "print(min(result_trigger))\n",
    "print(max(result_trigger))\n",
    "print(sorted(result_trigger,reverse=True))\n",
    "print(max(result_clean))\n",
    "print(sorted(result_clean,reverse=True))"
   ]
  },
  {
   "cell_type": "code",
   "execution_count": null,
   "metadata": {},
   "outputs": [
    {
     "data": {
      "image/png": "[encoded data removed]",
      "text/plain": [
       "<Figure size 1000x500 with 1 Axes>"
      ]
     },
     "metadata": {},
     "output_type": "display_data"
    }
   ],
   "source": [
    "import matplotlib.pyplot as plt\n",
    "\n",
    "# Ensure you have your data loaded in result_clean and result_trigger\n",
    "# Example: result_clean = [1, 2, 3], result_trigger = [3, 2, 1]\n",
    "# result_trigger = [x for x in result_trigger if x < 0.8 and x>0.2]\n",
    "# result_clean = [x for x in result_clean if x < 2 and x>0.2]\n",
    "\n",
    "# plt.figure(figsize=(10, 5))\n",
    "\n",
    "# plt.hist(result_trigger, alpha=0.7, bins=10, label='Trigger Edge',density=True)\n",
    "# # plt.hist(result_trigger, alpha=0.7, bins=10, label='Trigger Data')\n",
    "\n",
    "# plt.hist(result_clean, alpha=0.7, bins=10, label='Clean Edge',density=True)\n",
    "# # plt.hist(result_clean, alpha=0.7, bins=10, label='Clean Data')\n",
    "\n",
    "\n",
    "# # plt.title('Histogram of Clean and Trigger Data')\n",
    "# plt.xlabel('Prediction Variance')\n",
    "# plt.ylabel('Frequency')\n",
    "# plt.legend()\n",
    "# plt.grid(True)\n",
    "\n",
    "# # Save the plot before displaying it\n",
    "# plt.savefig('cora.pdf')\n",
    "\n",
    "# # Display the plot\n",
    "# plt.show()\n",
    "plt.figure(figsize=(10, 5))\n",
    "\n",
    "plt.hist(result_trigger, alpha=0.7, bins=10, label='Trigger Edges', density=True)\n",
    "plt.hist(result_clean, alpha=0.7, bins=10, label='Clean Edges', density=True)\n",
    "\n",
    "plt.xlabel('Prediction Variance',fontsize=16)\n",
    "plt.ylabel('Frequency',fontsize=16)\n",
    "\n",
    "# Adjust x and y ticks\n",
    "plt.xticks(fontsize=16)\n",
    "plt.yticks(fontsize=16)\n",
    "\n",
    "plt.legend(fontsize=16)\n",
    "plt.grid(True)\n",
    "\n",
    "# Add a caption below the figure\n",
    "# plt.figtext(0.5, -0.05, 'Comparison of prediction variance due to trigger edges drop and clean edges drop.', wrap=True, horizontalalignment='center', fontsize=14)\n",
    "\n",
    "# Save the plot before displaying it\n",
    "plt.savefig('cora.pdf')\n",
    "\n",
    "# Display the plot\n",
    "plt.show()"
   ]
  },
  {
   "cell_type": "code",
   "execution_count": null,
   "metadata": {},
   "outputs": [
    {
     "data": {
      "text/plain": [
       "[0.4697292447090149]"
      ]
     },
     "execution_count": 33,
     "metadata": {},
     "output_type": "execute_result"
    }
   ],
   "source": [
    "filter = [x for x in result_clean if x > 0.4]\n",
    "filter"
   ]
  },
  {
   "cell_type": "code",
   "execution_count": null,
   "metadata": {},
   "outputs": [],
   "source": [
    "poison_labels[idx_attach] = args.target_class"
   ]
  },
  {
   "cell_type": "code",
   "execution_count": null,
   "metadata": {},
   "outputs": [
    {
     "name": "stdout",
     "output_type": "stream",
     "text": [
      "tensor([0, 0, 0, 0, 0, 0, 0, 0, 0, 0, 0, 0, 0, 0, 0, 0, 0, 0, 0, 0, 0, 0, 0, 0,\n",
      "        0, 0, 0, 0, 0, 0, 0], device='cuda:3')\n"
     ]
    },
    {
     "name": "stderr",
     "output_type": "stream",
     "text": [
      "/data/home/zbz5349/defense_backdoor/pre_test/models/SAGE.py:94: UserWarning: To copy construct from a tensor, it is recommended to use sourceTensor.clone().detach() or sourceTensor.clone().detach().requires_grad_(True), rather than torch.tensor(sourceTensor).\n",
      "  idx2 = torch.tensor(idx2).to(self.device)\n"
     ]
    },
    {
     "name": "stdout",
     "output_type": "stream",
     "text": [
      "accuracy on clean test nodes: 1.0000\n"
     ]
    }
   ],
   "source": [
    "## retrain a model on purified graph ##\n",
    "# stop\n",
    "# labels for target poisoned node before purified #\n",
    "# print(poison_labels[idx_attach])\n",
    "\n",
    "# # purifying #\n",
    "# for idx in index_of_less_robust:\n",
    "#     poison_labels[bkd_tn_nodes[idx]]=data.y[bkd_tn_nodes[idx]]\n",
    "\n",
    "# # labels for target poisoned node after purified #\n",
    "# print(poison_labels[idx_attach])\n",
    "\n",
    "# # retrain a model #\n",
    "# test_model = model_construct(args,args.test_model,data,device).to(device) \n",
    "# test_model.fit(poison_x,poison_edge_index, poison_edge_weights, poison_labels, bkd_tn_nodes, idx_val,train_iters=args.epochs,verbose=False)\n",
    "\n",
    "# ## test model on purified graph (poisoned target node) ##\n",
    "# clean_acc = test_model.test(poison_x,poison_edge_index, poison_edge_weights,poison_labels,idx_attach)\n",
    "\n",
    "# print(\"accuracy on clean test nodes: {:.4f}\".format(clean_acc))\n",
    "print(poison_labels[idx_attach])\n",
    "\n",
    "# purifying #\n",
    "# for idx in index_of_less_robust[:400]:\n",
    "#     poison_labels[bkd_tn_nodes[idx]]=data.y[bkd_tn_nodes[idx]]\n",
    "\n",
    "# # labels for target poisoned node after purified #\n",
    "# print(poison_labels[idx_attach])\n",
    "\n",
    "# retrain a model #s\n",
    "test_model = model_construct(args,args.test_model,data,device).to(device) \n",
    "test_model.fit(poison_x,poison_edge_index, poison_edge_weights, poison_labels, bkd_tn_nodes, idx_val,train_iters=args.epochs,verbose=False, finetune=True, attach=index_of_less_robust)\n",
    "\n",
    "## test model on purified graph (poisoned target node) ##\n",
    "clean_acc = test_model.test(poison_x,poison_edge_index, poison_edge_weights,poison_labels,idx_attach)\n",
    "\n",
    "print(\"accuracy on clean test nodes: {:.4f}\".format(clean_acc))"
   ]
  },
  {
   "cell_type": "code",
   "execution_count": null,
   "metadata": {},
   "outputs": [
    {
     "name": "stdout",
     "output_type": "stream",
     "text": [
      "ASR: 0.9852\n",
      "Flip ASR: 0.9822/225 nodes\n",
      "CA: 0.7778\n"
     ]
    }
   ],
   "source": [
    "# add a trigger detector #\n",
    "# assumption: backdoor attack's success is based on trigger pattern #\n",
    "# 1. outlier, trigger different to each other #\n",
    "# 2. in distribution, trigger similar to each other #\n",
    "# in case, model trained on clean graph learn attack pattern #\n",
    "induct_edge_index = torch.cat([poison_edge_index,mask_edge_index],dim=1)\n",
    "induct_edge_weights = torch.cat([poison_edge_weights,torch.ones([mask_edge_index.shape[1]],dtype=torch.float,device=device)])\n",
    "induct_x, induct_edge_index,induct_edge_weights = model.inject_trigger(idx_atk,poison_x,induct_edge_index,induct_edge_weights,device)\n",
    "induct_x, induct_edge_index,induct_edge_weights = induct_x.clone().detach(), induct_edge_index.clone().detach(),induct_edge_weights.clone().detach()\n",
    "\n",
    "output = test_model(induct_x,induct_edge_index,induct_edge_weights)\n",
    "train_attach_rate = (output.argmax(dim=1)[idx_atk]==args.target_class).float().mean()\n",
    "print(\"ASR: {:.4f}\".format(train_attach_rate))\n",
    "asr = train_attach_rate\n",
    "flip_idx_atk = idx_atk[(data.y[idx_atk] != args.target_class).nonzero().flatten()]\n",
    "flip_asr = (output.argmax(dim=1)[flip_idx_atk]==args.target_class).float().mean()\n",
    "print(\"Flip ASR: {:.4f}/{} nodes\".format(flip_asr,flip_idx_atk.shape[0]))\n",
    "ca = test_model.test(induct_x,induct_edge_index,induct_edge_weights,data.y,idx_clean_test)\n",
    "print(\"CA: {:.4f}\".format(ca))"
   ]
  },
  {
   "cell_type": "code",
   "execution_count": null,
   "metadata": {},
   "outputs": [
    {
     "name": "stderr",
     "output_type": "stream",
     "text": [
      "/home/zbz5349/anaconda3/envs/spurious/lib/python3.8/site-packages/torch/nn/_reduction.py:42: UserWarning: size_average and reduce args will be deprecated, please use reduction='none' instead.\n",
      "  warnings.warn(warning.format(ret))\n"
     ]
    }
   ],
   "source": [
    "predictions_1 = []\n",
    "for i in range(4):\n",
    "            test_model.eval()\n",
    "            noisy_poison_edge_index, noisy_poison_edge_weights = sample_noise_all(poison_edge_index, poison_edge_weights, device)\n",
    "            output = test_model(poison_x,noisy_poison_edge_index,noisy_poison_edge_weights)\n",
    "            train_attach_rate = (output.argmax(dim=1)[idx_attach]==args.target_class).float().mean()\n",
    "            train_clean_rate = (output.argmax(dim=1)[idx_train]==data.y[idx_train]).float().mean()\n",
    "            predictions_1.append(torch.exp(output[known_nodes]))\n",
    "\n",
    "epsilon = 1e-8\n",
    "deviations = []\n",
    "for sub_pred in predictions_1:\n",
    "\n",
    "    sub_pred += epsilon\n",
    "    deviation = F.kl_div(sub_pred.log(), ori_predict, reduce=False)\n",
    "    for othersub_pred in predictions:\n",
    "        deviation += F.kl_div(sub_pred.log(), othersub_pred, reduce=False)\n",
    "    deviations.append(deviation)"
   ]
  },
  {
   "cell_type": "code",
   "execution_count": null,
   "metadata": {},
   "outputs": [
    {
     "name": "stdout",
     "output_type": "stream",
     "text": [
      "index_of_less_robust tensor([557, 550, 556, 543, 555, 569, 562, 547, 553, 560, 548, 545, 546, 567,\n",
      "        561, 565, 568, 564, 558, 544, 542, 549, 552, 559, 570, 571, 101, 541,\n",
      "        302, 414,  54], device='cuda:3')\n",
      "count 27\n"
     ]
    }
   ],
   "source": [
    "summed_deviations = torch.zeros_like(deviations[0]).to(deviations[0].device)\n",
    "for deviation in deviations:\n",
    "    ##### summed deviations for each node #####\n",
    "    summed_deviations += deviation\n",
    "\n",
    "\n",
    "##### get the index for nodes with less robustness #####\n",
    "    \n",
    "##### args.vs_number is unknown #####\n",
    "index_of_less_robust = torch.sort(torch.mean(summed_deviations,dim=-1),descending=True)[1][:mask.sum()]\n",
    "print('index_of_less_robust',index_of_less_robust)\n",
    "\n",
    "##### count how many poisoned target nodes are selected in less robustness nodes #####\n",
    "count = 0\n",
    "dd = []\n",
    "for idx in index_of_less_robust:\n",
    "    if idx >= len(known_nodes)-args.vs_number:\n",
    "        count += 1\n",
    "        dd.append(idx)\n",
    "print('count',count)"
   ]
  },
  {
   "cell_type": "code",
   "execution_count": null,
   "metadata": {},
   "outputs": [
    {
     "data": {
      "image/png": "[encoded data removed]",
      "text/plain": [
       "<Figure size 1000x600 with 1 Axes>"
      ]
     },
     "metadata": {},
     "output_type": "display_data"
    }
   ],
   "source": [
    "\n",
    "# visualize robustness distribution #\n",
    "a=torch.mean(summed_deviations,dim=-1)\n",
    "a_excluding_last_40 = a[:-args.vs_number].detach().cpu()\n",
    "a_last=a[-mask.sum():].detach().cpu()\n",
    "\n",
    "\n",
    "a_last_40 = a[-args.vs_number:].detach().cpu()\n",
    "\n",
    "\n",
    "\n",
    "\n",
    "indices_to_remove = [i for i, node in enumerate(known_nodes[-args.vs_number:]) if data.y[node] == args.target_class]\n",
    "\n",
    "indices_to_remove = []\n",
    "\n",
    "a_last_list = list(a_last)\n",
    "\n",
    "indices_to_check = range(len(known_nodes[-args.vs_number:]))\n",
    "\n",
    "# indices_to_remove = []\n",
    "\n",
    "# ##### find those nodes that are already have target class or poisoned failed #####\n",
    "# for i in indices_to_check:\n",
    "#     condition1 = data.y[known_nodes[-args.vs_number:][i]] == args.target_class\n",
    "#     condition2 = output.argmax(dim=1)[idx_attach[i]] != args.target_class\n",
    "    \n",
    "#     if condition1 or condition2:\n",
    "#         indices_to_remove.append(i)\n",
    "\n",
    "# for index in sorted(indices_to_remove, reverse=True):\n",
    "#     del a_last_list[index]\n",
    "\n",
    "\n",
    "a_last_40 = a_last_list\n",
    "plt.figure(figsize=(10, 6))\n",
    "# plt.figure(figsize=(40, 24))\n",
    "##### benign nodes #####\n",
    "plt.hist(a_excluding_last_40, bins=20, alpha=0.5, label='benign nodes', density=True)\n",
    "##### poisoned success nodes #####\n",
    "plt.hist(a_last_40, bins=20, alpha=0.5, label='poisoned target nodes',density=True)\n",
    "plt.legend(loc='upper right')\n",
    "plt.xlabel('Value')\n",
    "plt.ylabel('Frequency')\n",
    "plt.title('Distribution of robustness for each node')\n",
    "plt.savefig('a.jpg')\n",
    "plt.show()"
   ]
  },
  {
   "cell_type": "code",
   "execution_count": null,
   "metadata": {},
   "outputs": [
    {
     "name": "stdout",
     "output_type": "stream",
     "text": [
      "accuracy on poisoned target nodes: 1.0000\n"
     ]
    }
   ],
   "source": [
    "test_model = model_construct(args,args.test_model,data,device).to(device) \n",
    "test_model.fit(poison_x,poison_edge_index, poison_edge_weights, poison_labels, bkd_tn_nodes, idx_val,train_iters=args.epochs,verbose=False)\n",
    "test_model.eval()\n",
    "clean_acc = test_model.test(poison_x,poison_edge_index, poison_edge_weights,poison_labels,idx_attach)\n",
    "output_clean = test_model(poison_x,poison_edge_index,poison_edge_weights)\n",
    "ori_predict = torch.exp(output_clean[known_nodes])\n",
    "print(\"accuracy on poisoned target nodes: {:.4f}\".format(clean_acc))\n",
    "\n",
    "\n",
    "for i in range(10):\n",
    "            test_model.eval()\n",
    "            noisy_poison_edge_index, noisy_poison_edge_weights = sample_noise_all(poison_edge_index, poison_edge_weights, device)\n",
    "            output = test_model(poison_x,noisy_poison_edge_index,noisy_poison_edge_weights)\n",
    "            train_attach_rate = (output.argmax(dim=1)[idx_attach]==args.target_class).float().mean()\n",
    "            train_clean_rate = (output.argmax(dim=1)[idx_train]==data.y[idx_train]).float().mean()\n",
    "            predictions.append(torch.exp(output[known_nodes]))\n",
    "\n",
    "epsilon = 1e-8\n",
    "deviations = []\n",
    "for sub_pred in predictions:\n",
    "    sub_pred += epsilon\n",
    "    deviation = F.kl_div(sub_pred.log(), ori_predict, reduce=False)\n",
    "    deviations.append(deviation)\n",
    "\n",
    "summed_deviations = torch.zeros_like(deviations[0]).to(deviations[0].device)\n",
    "for deviation in deviations:\n",
    "    ##### summed deviations for each node #####\n",
    "    summed_deviations += deviation\n",
    "\n",
    "\n",
    "##### get the index for nodes with less robustness #####\n",
    "    \n",
    "##### args.vs_number is unknown #####\n",
    "# index_of_less_robust = torch.sort(torch.mean(summed_deviations,dim=-1),descending=True)[1][:mask.sum()]\n",
    "index_of_less_robust = torch.sort(torch.mean(summed_deviations,dim=-1),descending=True)[1]"
   ]
  },
  {
   "cell_type": "code",
   "execution_count": null,
   "metadata": {},
   "outputs": [
    {
     "name": "stdout",
     "output_type": "stream",
     "text": [
      "Index found: 25\n",
      "tensor([0, 0, 0, 0, 0, 0, 0, 0, 0, 0, 0, 0, 0, 0, 0, 0, 0, 0, 0, 0, 0, 0, 0, 0,\n",
      "        0], device='cuda:3')\n"
     ]
    }
   ],
   "source": [
    "def find_index(poison_labels, bkd_tn_nodes, index_of_less_robust, target_class):\n",
    "    # Get the specific list to iterate through\n",
    "    labels_list = poison_labels[bkd_tn_nodes[index_of_less_robust]]\n",
    "\n",
    "    # Iterate through the list with index\n",
    "    for i in range(len(labels_list) - 1):  # -1 to avoid index out of range\n",
    "        if labels_list[i] != target_class and labels_list[i + 1] != target_class:\n",
    "            return i - 1\n",
    "\n",
    "    # Return None if the condition is not met in the loop\n",
    "    return None\n",
    "\n",
    "# Example usage:\n",
    "# Assuming poison_labels, bkd_tn_nodes, index_of_less_robust, and target_class are defined\n",
    "result_index = find_index(poison_labels, bkd_tn_nodes, index_of_less_robust, args.target_class)\n",
    "print(\"Index found:\", result_index)\n",
    "print(poison_labels[bkd_tn_nodes[index_of_less_robust][:result_index]])"
   ]
  },
  {
   "cell_type": "code",
   "execution_count": null,
   "metadata": {},
   "outputs": [
    {
     "name": "stdout",
     "output_type": "stream",
     "text": [
      "tensor([0, 0, 0, 0, 0, 0, 0, 0, 0, 0, 0, 0, 0, 0, 0, 0, 0, 0, 0, 0, 0, 0, 0, 0,\n",
      "        0, 0, 0, 0, 0, 0, 0], device='cuda:3')\n",
      "accuracy on clean test nodes: 0.2258\n"
     ]
    }
   ],
   "source": [
    "## retrain a model on purified graph ##\n",
    "\n",
    "# labels for target poisoned node before purified #\n",
    "print(poison_labels[idx_attach])\n",
    "\n",
    "# purifying #\n",
    "# for idx in index_of_less_robust[:400]:\n",
    "#     poison_labels[bkd_tn_nodes[idx]]=data.y[bkd_tn_nodes[idx]]\n",
    "\n",
    "# # labels for target poisoned node after purified #\n",
    "# print(poison_labels[idx_attach])\n",
    "\n",
    "# retrain a model #s\n",
    "test_model = model_construct(args,args.test_model,data,device).to(device) \n",
    "\n",
    "# test_model.fit(poison_x,poison_edge_index, poison_edge_weights, poison_labels, bkd_tn_nodes, idx_val,train_iters=args.epochs,verbose=False, finetune=True, attach=bkd_tn_nodes[index_of_less_robust][:result_index])\n",
    "test_model.fit(poison_x,poison_edge_index, poison_edge_weights, poison_labels, bkd_tn_nodes, idx_val,train_iters=400,verbose=False, finetune=True, attach=bkd_tn_nodes[index_of_less_robust][:result_index])\n",
    "## test model on purified graph (poisoned target node) ##\n",
    "clean_acc = test_model.test(poison_x,poison_edge_index, poison_edge_weights,poison_labels,idx_attach)\n",
    "\n",
    "print(\"accuracy on clean test nodes: {:.4f}\".format(clean_acc))"
   ]
  },
  {
   "cell_type": "code",
   "execution_count": null,
   "metadata": {},
   "outputs": [
    {
     "name": "stdout",
     "output_type": "stream",
     "text": [
      "ASR: 0.2583\n",
      "Flip ASR: 0.1600/225 nodes\n",
      "CA: 0.8333\n"
     ]
    }
   ],
   "source": [
    "induct_edge_index = torch.cat([poison_edge_index,mask_edge_index],dim=1)\n",
    "induct_edge_weights = torch.cat([poison_edge_weights,torch.ones([mask_edge_index.shape[1]],dtype=torch.float,device=device)])\n",
    "induct_x, induct_edge_index,induct_edge_weights = model.inject_trigger(idx_atk,poison_x,induct_edge_index,induct_edge_weights,device)\n",
    "# induct_x, induct_edge_index,induct_edge_weights = model.inject_trigger(idx_attach,poison_x,induct_edge_index,induct_edge_weights,device)\n",
    "induct_x, induct_edge_index,induct_edge_weights = induct_x.clone().detach(), induct_edge_index.clone().detach(),induct_edge_weights.clone().detach()\n",
    "\n",
    "output = test_model(induct_x,induct_edge_index,induct_edge_weights)\n",
    "train_attach_rate = (output.argmax(dim=1)[idx_atk]==args.target_class).float().mean()\n",
    "# train_attach_rate = (output.argmax(dim=1)[idx_attach]==args.target_class).float().mean()\n",
    "print(\"ASR: {:.4f}\".format(train_attach_rate))\n",
    "asr = train_attach_rate\n",
    "flip_idx_atk = idx_atk[(data.y[idx_atk] != args.target_class).nonzero().flatten()]\n",
    "flip_asr = (output.argmax(dim=1)[flip_idx_atk]==args.target_class).float().mean()\n",
    "print(\"Flip ASR: {:.4f}/{} nodes\".format(flip_asr,flip_idx_atk.shape[0]))\n",
    "ca = test_model.test(induct_x,induct_edge_index,induct_edge_weights,data.y,idx_clean_test)\n",
    "print(\"CA: {:.4f}\".format(ca))"
   ]
  },
  {
   "cell_type": "code",
   "execution_count": null,
   "metadata": {},
   "outputs": [
    {
     "name": "stdout",
     "output_type": "stream",
     "text": [
      "recall tensor(0.8065, device='cuda:3')\n",
      "Accuracy 1.0\n"
     ]
    }
   ],
   "source": [
    "indexs = poison_labels[bkd_tn_nodes[index_of_less_robust][:result_index]]\n",
    "count = 0\n",
    "for i in indexs:\n",
    "    if i == args.target_class:\n",
    "        count += 1\n",
    "## correct\n",
    "correct = count\n",
    "\n",
    "## fasle\n",
    "false = len(indexs) - count\n",
    "\n",
    "print('recall', correct/mask.sum())\n",
    "# print(false/mask.sum())\n",
    "print('Accuracy', correct/len(indexs))"
   ]
  },
  {
   "cell_type": "code",
   "execution_count": null,
   "metadata": {},
   "outputs": [
    {
     "name": "stdout",
     "output_type": "stream",
     "text": [
      "Index found: 48\n"
     ]
    }
   ],
   "source": [
    "def find_index(poison_labels, bkd_tn_nodes, index_of_less_robust, target_class):\n",
    "    # Get the specific list to iterate through\n",
    "    labels_list = poison_labels[bkd_tn_nodes[index_of_less_robust]]\n",
    "\n",
    "    # Iterate through the list with index\n",
    "    for i in range(len(labels_list) - 1):  # -1 to avoid index out of range\n",
    "        if labels_list[i] != target_class and labels_list[i + 1] != target_class and labels_list[i+2]!=target_class:\n",
    "            return i - 1\n",
    "\n",
    "    # Return None if the condition is not met in the loop\n",
    "    return None\n",
    "\n",
    "# Example usage:\n",
    "# Assuming poison_labels, bkd_tn_nodes, index_of_less_robust, and target_class are defined\n",
    "result_index = find_index(poison_labels, bkd_tn_nodes, index_of_less_robust, args.target_class)\n",
    "print(\"Index found:\", result_index)"
   ]
  },
  {
   "cell_type": "code",
   "execution_count": null,
   "metadata": {},
   "outputs": [
    {
     "name": "stdout",
     "output_type": "stream",
     "text": [
      "accuracy on clean test nodes: 0.0000\n",
      "ASR: 0.0332\n",
      "Flip ASR: 0.0044/225 nodes\n",
      "CA: 0.7963\n"
     ]
    }
   ],
   "source": [
    "test_model = model_construct(args,args.test_model,data,device).to(device) \n",
    "\n",
    "# test_model.fit(poison_x,poison_edge_index, poison_edge_weights, poison_labels, bkd_tn_nodes, idx_val,train_iters=args.epochs,verbose=False, finetune=True, attach=bkd_tn_nodes[index_of_less_robust][:result_index])\n",
    "test_model.fit(poison_x,poison_edge_index, poison_edge_weights, poison_labels, bkd_tn_nodes, idx_val,train_iters=400,verbose=False, finetune=True, attach=bkd_tn_nodes[index_of_less_robust][:result_index-1])\n",
    "## test model on purified graph (poisoned target node) ##\n",
    "clean_acc = test_model.test(poison_x,poison_edge_index, poison_edge_weights,poison_labels,idx_attach)\n",
    "\n",
    "print(\"accuracy on clean test nodes: {:.4f}\".format(clean_acc))\n",
    "\n",
    "# add a trigger detector #\n",
    "# assumption: backdoor attack's success is based on trigger pattern #\n",
    "# 1. outlier, trigger different to each other #\n",
    "# 2. in distribution, trigger similar to each other #\n",
    "# # in case, model trained on clean graph learn attack pattern #\n",
    "induct_edge_index = torch.cat([poison_edge_index,mask_edge_index],dim=1)\n",
    "induct_edge_weights = torch.cat([poison_edge_weights,torch.ones([mask_edge_index.shape[1]],dtype=torch.float,device=device)])\n",
    "induct_x, induct_edge_index,induct_edge_weights = model.inject_trigger(idx_atk,poison_x,induct_edge_index,induct_edge_weights,device)\n",
    "# induct_x, induct_edge_index,induct_edge_weights = model.inject_trigger(idx_attach,poison_x,induct_edge_index,induct_edge_weights,device)\n",
    "induct_x, induct_edge_index,induct_edge_weights = induct_x.clone().detach(), induct_edge_index.clone().detach(),induct_edge_weights.clone().detach()\n",
    "\n",
    "output = test_model(induct_x,induct_edge_index,induct_edge_weights)\n",
    "train_attach_rate = (output.argmax(dim=1)[idx_atk]==args.target_class).float().mean()\n",
    "# train_attach_rate = (output.argmax(dim=1)[idx_attach]==args.target_class).float().mean()\n",
    "print(\"ASR: {:.4f}\".format(train_attach_rate))\n",
    "asr = train_attach_rate\n",
    "flip_idx_atk = idx_atk[(data.y[idx_atk] != args.target_class).nonzero().flatten()]\n",
    "flip_asr = (output.argmax(dim=1)[flip_idx_atk]==args.target_class).float().mean()\n",
    "print(\"Flip ASR: {:.4f}/{} nodes\".format(flip_asr,flip_idx_atk.shape[0]))\n",
    "ca = test_model.test(induct_x,induct_edge_index,induct_edge_weights,data.y,idx_clean_test)\n",
    "print(\"CA: {:.4f}\".format(ca))"
   ]
  },
  {
   "cell_type": "code",
   "execution_count": null,
   "metadata": {},
   "outputs": [
    {
     "name": "stdout",
     "output_type": "stream",
     "text": [
      "recall tensor(1.3548, device='cuda:3')\n",
      "Accuracy 0.8936170212765957\n"
     ]
    }
   ],
   "source": [
    "indexs = poison_labels[bkd_tn_nodes[index_of_less_robust][:result_index-1]]\n",
    "count = 0\n",
    "for i in indexs:\n",
    "    if i == args.target_class:\n",
    "        count += 1\n",
    "## correct\n",
    "correct = count\n",
    "\n",
    "## fasle\n",
    "false = len(indexs) - count\n",
    "\n",
    "print('recall', correct/mask.sum())\n",
    "# print(false/mask.sum())\n",
    "print('Accuracy', correct/len(indexs))"
   ]
  }
 ],
 "metadata": {
  "kernelspec": {
   "display_name": "spurious",
   "language": "python",
   "name": "python3"
  },
  "language_info": {
   "codemirror_mode": {
    "name": "ipython",
    "version": 3
   },
   "file_extension": ".py",
   "mimetype": "text/x-python",
   "name": "python",
   "nbconvert_exporter": "python",
   "pygments_lexer": "ipython3",
   "version": "3.8.17"
  }
 },
 "nbformat": 4,
 "nbformat_minor": 2
}
